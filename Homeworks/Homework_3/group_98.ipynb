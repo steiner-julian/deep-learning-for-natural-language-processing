{
  "cells": [
    {
      "cell_type": "markdown",
      "metadata": {
        "id": "DN4KYR-muCMT"
      },
      "source": [
        "# **Sentiment analysis with RNNs**\n",
        "\n",
        "In this task, you will implement LSTM architectures with PyTorch to perform a sentiment analysis for movie reviews.\n"
      ]
    },
    {
      "cell_type": "markdown",
      "metadata": {
        "id": "g9i8lH-g_a3m"
      },
      "source": [
        "## Download the required datasets\n",
        "\n",
        "Executing this cell will download all the records needed to work on the homework"
      ]
    },
    {
      "cell_type": "code",
      "execution_count": 28,
      "metadata": {
        "colab": {
          "base_uri": "https://localhost:8080/"
        },
        "id": "VCTe1nPvKavF",
        "outputId": "a93c0906-e773-4c43-b680-76a1683da0bd"
      },
      "outputs": [
        {
          "name": "stderr",
          "output_type": "stream",
          "text": [
            "372.91s - pydevd: Sending message related to process being replaced timed-out after 5 seconds\n"
          ]
        },
        {
          "name": "stdout",
          "output_type": "stream",
          "text": [
            "zsh:1: command not found: wget\n"
          ]
        },
        {
          "name": "stderr",
          "output_type": "stream",
          "text": [
            "378.21s - pydevd: Sending message related to process being replaced timed-out after 5 seconds\n"
          ]
        },
        {
          "name": "stdout",
          "output_type": "stream",
          "text": [
            "gzip: can't stat: glove.6B.50d.txt.gz (glove.6B.50d.txt.gz.gz): No such file or directory\n"
          ]
        },
        {
          "name": "stderr",
          "output_type": "stream",
          "text": [
            "383.60s - pydevd: Sending message related to process being replaced timed-out after 5 seconds\n"
          ]
        },
        {
          "name": "stdout",
          "output_type": "stream",
          "text": [
            "Requirement already satisfied: datasets in /Users/julian.steiner/.virtualenvs/deep-learning-for-natural-language-processing/lib/python3.11/site-packages (2.19.1)\n",
            "Requirement already satisfied: filelock in /Users/julian.steiner/.virtualenvs/deep-learning-for-natural-language-processing/lib/python3.11/site-packages (from datasets) (3.14.0)\n",
            "Requirement already satisfied: numpy>=1.17 in /Users/julian.steiner/.virtualenvs/deep-learning-for-natural-language-processing/lib/python3.11/site-packages (from datasets) (1.26.4)\n",
            "Requirement already satisfied: pyarrow>=12.0.0 in /Users/julian.steiner/.virtualenvs/deep-learning-for-natural-language-processing/lib/python3.11/site-packages (from datasets) (16.1.0)\n",
            "Requirement already satisfied: pyarrow-hotfix in /Users/julian.steiner/.virtualenvs/deep-learning-for-natural-language-processing/lib/python3.11/site-packages (from datasets) (0.6)\n",
            "Requirement already satisfied: dill<0.3.9,>=0.3.0 in /Users/julian.steiner/.virtualenvs/deep-learning-for-natural-language-processing/lib/python3.11/site-packages (from datasets) (0.3.8)\n",
            "Requirement already satisfied: pandas in /Users/julian.steiner/.virtualenvs/deep-learning-for-natural-language-processing/lib/python3.11/site-packages (from datasets) (2.2.2)\n",
            "Requirement already satisfied: requests>=2.19.0 in /Users/julian.steiner/.virtualenvs/deep-learning-for-natural-language-processing/lib/python3.11/site-packages (from datasets) (2.32.2)\n",
            "Requirement already satisfied: tqdm>=4.62.1 in /Users/julian.steiner/.virtualenvs/deep-learning-for-natural-language-processing/lib/python3.11/site-packages (from datasets) (4.66.4)\n",
            "Requirement already satisfied: xxhash in /Users/julian.steiner/.virtualenvs/deep-learning-for-natural-language-processing/lib/python3.11/site-packages (from datasets) (3.4.1)\n",
            "Requirement already satisfied: multiprocess in /Users/julian.steiner/.virtualenvs/deep-learning-for-natural-language-processing/lib/python3.11/site-packages (from datasets) (0.70.16)\n",
            "Requirement already satisfied: fsspec<=2024.3.1,>=2023.1.0 in /Users/julian.steiner/.virtualenvs/deep-learning-for-natural-language-processing/lib/python3.11/site-packages (from fsspec[http]<=2024.3.1,>=2023.1.0->datasets) (2024.3.1)\n",
            "Requirement already satisfied: aiohttp in /Users/julian.steiner/.virtualenvs/deep-learning-for-natural-language-processing/lib/python3.11/site-packages (from datasets) (3.9.5)\n",
            "Requirement already satisfied: huggingface-hub>=0.21.2 in /Users/julian.steiner/.virtualenvs/deep-learning-for-natural-language-processing/lib/python3.11/site-packages (from datasets) (0.23.2)\n",
            "Requirement already satisfied: packaging in /Users/julian.steiner/.virtualenvs/deep-learning-for-natural-language-processing/lib/python3.11/site-packages (from datasets) (24.0)\n",
            "Requirement already satisfied: pyyaml>=5.1 in /Users/julian.steiner/.virtualenvs/deep-learning-for-natural-language-processing/lib/python3.11/site-packages (from datasets) (6.0.1)\n",
            "Requirement already satisfied: aiosignal>=1.1.2 in /Users/julian.steiner/.virtualenvs/deep-learning-for-natural-language-processing/lib/python3.11/site-packages (from aiohttp->datasets) (1.3.1)\n",
            "Requirement already satisfied: attrs>=17.3.0 in /Users/julian.steiner/.virtualenvs/deep-learning-for-natural-language-processing/lib/python3.11/site-packages (from aiohttp->datasets) (23.2.0)\n",
            "Requirement already satisfied: frozenlist>=1.1.1 in /Users/julian.steiner/.virtualenvs/deep-learning-for-natural-language-processing/lib/python3.11/site-packages (from aiohttp->datasets) (1.4.1)\n",
            "Requirement already satisfied: multidict<7.0,>=4.5 in /Users/julian.steiner/.virtualenvs/deep-learning-for-natural-language-processing/lib/python3.11/site-packages (from aiohttp->datasets) (6.0.5)\n",
            "Requirement already satisfied: yarl<2.0,>=1.0 in /Users/julian.steiner/.virtualenvs/deep-learning-for-natural-language-processing/lib/python3.11/site-packages (from aiohttp->datasets) (1.9.4)\n",
            "Requirement already satisfied: typing-extensions>=3.7.4.3 in /Users/julian.steiner/.virtualenvs/deep-learning-for-natural-language-processing/lib/python3.11/site-packages (from huggingface-hub>=0.21.2->datasets) (4.11.0)\n",
            "Requirement already satisfied: charset-normalizer<4,>=2 in /Users/julian.steiner/.virtualenvs/deep-learning-for-natural-language-processing/lib/python3.11/site-packages (from requests>=2.19.0->datasets) (3.3.2)\n",
            "Requirement already satisfied: idna<4,>=2.5 in /Users/julian.steiner/.virtualenvs/deep-learning-for-natural-language-processing/lib/python3.11/site-packages (from requests>=2.19.0->datasets) (3.7)\n",
            "Requirement already satisfied: urllib3<3,>=1.21.1 in /Users/julian.steiner/.virtualenvs/deep-learning-for-natural-language-processing/lib/python3.11/site-packages (from requests>=2.19.0->datasets) (2.2.1)\n",
            "Requirement already satisfied: certifi>=2017.4.17 in /Users/julian.steiner/.virtualenvs/deep-learning-for-natural-language-processing/lib/python3.11/site-packages (from requests>=2.19.0->datasets) (2024.2.2)\n",
            "Requirement already satisfied: python-dateutil>=2.8.2 in /Users/julian.steiner/.virtualenvs/deep-learning-for-natural-language-processing/lib/python3.11/site-packages (from pandas->datasets) (2.9.0.post0)\n",
            "Requirement already satisfied: pytz>=2020.1 in /Users/julian.steiner/.virtualenvs/deep-learning-for-natural-language-processing/lib/python3.11/site-packages (from pandas->datasets) (2024.1)\n",
            "Requirement already satisfied: tzdata>=2022.7 in /Users/julian.steiner/.virtualenvs/deep-learning-for-natural-language-processing/lib/python3.11/site-packages (from pandas->datasets) (2024.1)\n",
            "Requirement already satisfied: six>=1.5 in /Users/julian.steiner/.virtualenvs/deep-learning-for-natural-language-processing/lib/python3.11/site-packages (from python-dateutil>=2.8.2->pandas->datasets) (1.16.0)\n"
          ]
        }
      ],
      "source": [
        "# Download glove\n",
        "!wget https://github.com/uclnlp/inferbeddings/raw/master/data/glove/glove.6B.50d.txt.gz\n",
        "!gzip -f -d glove.6B.50d.txt.gz\n",
        "\n",
        "# install datasets from huggingface\n",
        "!pip install datasets"
      ]
    },
    {
      "cell_type": "markdown",
      "metadata": {
        "id": "IYtG2V7dxgcn"
      },
      "source": [
        "## Use the GPU for computations if possible"
      ]
    },
    {
      "cell_type": "code",
      "execution_count": 29,
      "metadata": {
        "colab": {
          "base_uri": "https://localhost:8080/"
        },
        "id": "kz51b3H_xi67",
        "outputId": "4f02acc5-9218-47b8-cc5e-309fd4da7e07"
      },
      "outputs": [
        {
          "name": "stdout",
          "output_type": "stream",
          "text": [
            "Using device: cpu\n"
          ]
        }
      ],
      "source": [
        "import torch\n",
        "device = torch.device('cuda' if torch.cuda.is_available() else 'cpu')\n",
        "print('Using device:', device)"
      ]
    },
    {
      "cell_type": "markdown",
      "metadata": {
        "id": "7g3LeIyQ9-kj"
      },
      "source": [
        "## Library Imports"
      ]
    },
    {
      "cell_type": "code",
      "execution_count": 30,
      "metadata": {
        "id": "zEJqyHIV3bC2"
      },
      "outputs": [],
      "source": [
        "import torch.nn as nn\n",
        "import os\n",
        "import re\n",
        "import numpy as np\n",
        "import random\n",
        "import pandas as pd\n",
        "import matplotlib.pyplot as plt\n",
        "from torch.utils.data import Dataset, DataLoader, TensorDataset\n",
        "from collections import defaultdict\n",
        "from sklearn.metrics import f1_score\n",
        "from datasets import load_dataset\n",
        "from tqdm import tqdm"
      ]
    },
    {
      "cell_type": "code",
      "execution_count": 31,
      "metadata": {
        "id": "SRUpngjaOZf4"
      },
      "outputs": [],
      "source": [
        "# Specify random seed\n",
        "def seed_everything(seed: int):\n",
        "    import random, os\n",
        "    import numpy as np\n",
        "    import torch\n",
        "\n",
        "    random.seed(seed)\n",
        "    os.environ['PYTHONHASHSEED'] = str(seed)\n",
        "    np.random.seed(seed)\n",
        "    torch.manual_seed(seed)\n",
        "    torch.cuda.manual_seed(seed)\n",
        "    torch.backends.cudnn.deterministic = True\n",
        "    torch.backends.cudnn.benchmark = True\n",
        "\n",
        "# Set random seeds; do not change this!\n",
        "seed_everything(seed=42)"
      ]
    },
    {
      "cell_type": "markdown",
      "metadata": {
        "id": "Nb1gCI-f-mJ5"
      },
      "source": [
        "## **Task 1 [6P]: Data sets and pretrained Embeddings**\n",
        "\n",
        "In the first cell you've downloaded (!wget ...) the uncased GloVe embeddings with 6B tokens [glove.6B.zip](https://nlp.stanford.edu/projects/glove/) from Stanford. For performance reasons, we will only use the 50-dimensional embeddings **glove.6B.50d.txt**.\n",
        "\n",
        "a) [2P] Implement a function to read the embeddings."
      ]
    },
    {
      "cell_type": "code",
      "execution_count": 32,
      "metadata": {
        "id": "gmpt_ya90sJw"
      },
      "outputs": [],
      "source": [
        "def read_embeddings(embedding_path):\n",
        "    embeddings = defaultdict(list)\n",
        "    with open(embedding_path, 'r') as f:\n",
        "      for line in f:\n",
        "        values = line.split()\n",
        "        word = values[0]\n",
        "        vector = np.asanyarray(values[1:], \"float32\")\n",
        "        embeddings[word] = vector\n",
        "    return embeddings"
      ]
    },
    {
      "cell_type": "markdown",
      "metadata": {
        "id": "xgCkiuiYn8O6"
      },
      "source": [
        "b) [2P] Implement a function, which receives a tokenized word list (e.g. a sentence) and returns the embedded word list. Don't forget to handle words without corresponding embedding. In that case you can return a randomly initialized embedding or the zero-embedding (list with 50 zeros). Use your previously defined method \"read_embeddings\" get the embeddings from the \"glove.6B.50d.txt\"-textfile."
      ]
    },
    {
      "cell_type": "code",
      "execution_count": 33,
      "metadata": {
        "id": "D0JOHsvhpBnC"
      },
      "outputs": [],
      "source": [
        "embeddings_path = \"glove.6B.50d.txt\" # path to your embedding file\n",
        "embeddings = read_embeddings(embeddings_path)\n",
        "\n",
        "def embed_data(sentence_list):\n",
        "    embedding_vectors = [embeddings[token] if token in embeddings else np.zeros((50,)) for token in sentence_list]\n",
        "    return torch.tensor(embedding_vectors, dtype=torch.float32)"
      ]
    },
    {
      "cell_type": "markdown",
      "metadata": {
        "id": "uumW2qStDOeZ"
      },
      "source": [
        "c) [1P] Implement a `split_string` function which tokenizes a text of multiple sentences. It should take a string as input and return a list of tokens. Each token is separated by an empty space ' '. Make sure to remove \".\" and \",\" beforehand and return all tokens in lowercase."
      ]
    },
    {
      "cell_type": "code",
      "execution_count": 34,
      "metadata": {
        "id": "aC5Qy1jCDR80"
      },
      "outputs": [],
      "source": [
        "def split_string(text):\n",
        "  return [token.replace('.', '').replace(',', '').lower() for token in text.split(' ')]"
      ]
    },
    {
      "cell_type": "markdown",
      "metadata": {
        "id": "LDCh7NbcVw8e"
      },
      "source": [
        "d) [1P] Load the IMDB-Reviews dataset \"stanfordnlp/imdb\" using the `load_dasetset`-function that is imported above. Shuffle the dataset with `seed=42` after loading. Use only the first `2500` entries of the training und testing-datasets!"
      ]
    },
    {
      "cell_type": "code",
      "execution_count": 35,
      "metadata": {
        "colab": {
          "base_uri": "https://localhost:8080/",
          "height": 363,
          "referenced_widgets": [
            "b61749220efa4e9fbc380f33f6709fc7",
            "53e177a3ae1f4a69adfdfe5a74a4b5d2",
            "53089d6b5b1146c59455054deeefa8c0",
            "3d436ab1ab6a445dbcae9ad7abf75e95",
            "273024d41f6b4920ac070a67de168532",
            "ff19015e42f94c759c84a33b70b141bb",
            "742a9fc99a7045dabc65a3505808c78e",
            "ba101e7fdd5b4c6c8e60a954f71eb317",
            "9cd489663a5f41f6bccf666e19de3add",
            "91708779bf864e3390e4d02b46ecf97e",
            "93e882e95443494da3e3c6f74a06f125",
            "022e4cf83fde479babd7f84d3f9cd05d",
            "70473c23b478400082ebba7e510fb044",
            "39e440624e824d3293d7300158031211",
            "6afab90db6bd4a87b0629415fa2b21d2",
            "00521264a54e4443a67cd3906e559c59",
            "3215a69458b54f8c8dd1ae7c201be493",
            "e923e8fba9554f60a622a9957df0cad9",
            "dc78c0bad2b546c1883678554479c50d",
            "79cdfa0f13414450a8a1f34e9d1ecfa8",
            "c0a7ecc906c1417ca0a959cdb77860f4",
            "4d495073cffe4129a982c5be6d5b7957",
            "be3631809c4048d8a0f7a086acd0a540",
            "7efe553e7dff4f1797f04461ae3e49e8",
            "1ec806394b484b7999f54afee2800063",
            "ab7b2555c1c6473ca615bd69b161f41b",
            "f76f7656c08046bb8c598ad4591740ce",
            "8f00bce8381d472bb8525e2547f0665d",
            "8e031f883b994fc1ad6986c179c00a79",
            "a1bd94e389c54f728bf00ab463ad94b1",
            "e22bda6d28534fe188ac3778272cbe5b",
            "d7d88ed25ace4692b63eedc49a24f97d",
            "755be3a361e04a98ac7d22333e0bda0c",
            "687c2dfb67ec496e85bf4092ab0aa8c4",
            "d71bd10ca8794442978d2722d4ab2382",
            "749f3bdc74e948acb378bb803bf7983b",
            "0d7ace72aa804f92a1aa7c8aa1f77616",
            "8ec9c00b45944c6c985a008e01e71ade",
            "cbd4b84b67e14d5d8c85afd284dd5518",
            "866c629ff8f345f6ab4b8408adceaec9",
            "c8c6079049ec4b238c14a4bc2cce1737",
            "f8827ff83dcc4977a81843ab183fef96",
            "c64b95b45ee14583b46d58535885548d",
            "c3c4d980ff4a4d48a4471ae7a2482f58",
            "bce6adb46b944a1ea28a52571a495a42",
            "51e7d816e5a74c54b2684ce7f06d166b",
            "5386a1b1bf314ebda555512222047271",
            "c04c12cc6dcc44d58f00f7a1b02cc267",
            "c7e478c9d0f54b9ba78d0a0a94220e9a",
            "82623ce80bec4c4ba93e237160dd16d3",
            "a135a726cde84ed6a0a117ba1673d7f0",
            "58d0e39580c145fe80e4a6eaf56505ac",
            "357c1dfc8ab2434aab832da0985f845b",
            "d234fcdf196d486991f594618023db00",
            "a698dcf1566145d78abbfde984247daa",
            "a11f179babfa4e91a3d1c0ec4e32c61a",
            "c8612bcf5fc84b70881d17cf540d728b",
            "1497cee4f1ea4c3ca44d7dde7f61f7b8",
            "b6ed7f4349c3498088ef7c161899685c",
            "77d7bcaaf7a045a49428a4ef7ad7cede",
            "b9e1d40402bf4aee9b86ff44e8a02907",
            "4c19c0dfbf364490a952261165fa411f",
            "dba8f5ea7f4d455687d8513f84269c78",
            "1af8b078b76c4a84842d76b843e1103b",
            "f5d0d6d64f164d08b1688bce82544a87",
            "73d177c8d99744778396fb490ce239b3",
            "66c9a06d52504e5f87a3daba01203926",
            "b5be92e9e49a41ecbfb7a62a90409814",
            "784c274e0fae4ff1be9ed6c12e4fbb81",
            "08d127e49cd54f269ed008652bfa6aa6",
            "09dd3f60740740098b95a42bd73f6e4d",
            "2ee41b5f1c0744ac9a48d2c7896d7586",
            "07f6c8aa04df4faa88f5c83451ed6710",
            "bbdbaededdaf4eb1a0ac879730eecbec",
            "f51e4a048cbb4b1a94d4735751c8cf26",
            "e75a1003331f472f8a5a473d617a733c",
            "4f81a74844054c0aa83e6576bd959314"
          ]
        },
        "id": "Ry4eGNtVVc3T",
        "outputId": "a02c6286-26a6-4d92-eee9-ae45336fc5dc"
      },
      "outputs": [],
      "source": [
        "dataset = load_dataset('stanfordnlp/imdb')\n",
        "train_dataset = dataset['train'].shuffle(seed=42).select(range(2500))\n",
        "test_dataset = dataset['test'].shuffle(seed=42).select(range(2500))"
      ]
    },
    {
      "cell_type": "markdown",
      "metadata": {
        "id": "2bgT-ouHgRtv"
      },
      "source": [
        "Execute the following cell to transfer the dataset to a pytorch dataloader. If the following `code breaks`, reconsider your solution of the previous task."
      ]
    },
    {
      "cell_type": "code",
      "execution_count": 36,
      "metadata": {
        "id": "2ssmFZ57YiAf"
      },
      "outputs": [],
      "source": [
        "class IMDBDataset(Dataset):\n",
        "    def __init__(self, dataset, device):\n",
        "        self.labels = torch.tensor(dataset[\"label\"], device=device)\n",
        "        self.lengths = []\n",
        "        self.data = []\n",
        "        for text in tqdm(dataset[\"text\"]):\n",
        "          tokens = split_string(text)\n",
        "          embeddings = embed_data(tokens)\n",
        "          self.data.append(embeddings.to(device))\n",
        "          self.lengths.append(len(embeddings))\n",
        "\n",
        "    def __len__(self):\n",
        "        return len(self.data)\n",
        "\n",
        "    def __getitem__(self, idx):\n",
        "        embeddings = self.data[idx]\n",
        "        label = self.labels[idx]\n",
        "        length = self.lengths[idx]\n",
        "\n",
        "        return embeddings, length, label\n",
        "\n",
        "def create_dataloader(dataset, device, batch_size=1, shuffle=True):\n",
        "    imdb_dataset = IMDBDataset(dataset, device)\n",
        "    dataloader = DataLoader(imdb_dataset, batch_size=batch_size, shuffle=shuffle)\n",
        "    return dataloader"
      ]
    },
    {
      "cell_type": "code",
      "execution_count": 37,
      "metadata": {
        "colab": {
          "base_uri": "https://localhost:8080/"
        },
        "id": "kXSzL4tobjPr",
        "outputId": "c048bf2c-7864-45b5-e50f-0bae61745b25"
      },
      "outputs": [
        {
          "name": "stdout",
          "output_type": "stream",
          "text": [
            "Create dataloader for training\n"
          ]
        },
        {
          "name": "stderr",
          "output_type": "stream",
          "text": [
            "100%|██████████| 2500/2500 [00:02<00:00, 1128.85it/s]\n"
          ]
        },
        {
          "name": "stdout",
          "output_type": "stream",
          "text": [
            "Create dataloader for testing\n"
          ]
        },
        {
          "name": "stderr",
          "output_type": "stream",
          "text": [
            "100%|██████████| 2500/2500 [00:02<00:00, 1162.85it/s]\n"
          ]
        }
      ],
      "source": [
        "print(\"Create dataloader for training\")\n",
        "train_dataloader = create_dataloader(train_dataset, device, 1)\n",
        "\n",
        "print(\"Create dataloader for testing\")\n",
        "test_dataloader = create_dataloader(test_dataset, device, 1)"
      ]
    },
    {
      "cell_type": "markdown",
      "metadata": {
        "id": "fCdGcnwv_f7o"
      },
      "source": [
        "# **Task 2 [5P]: LSTM Model**\n",
        "\n",
        "a) [3P] We will use PyTorch to build our LSTM. Remember that the label of a review can be 0 and 1, the model should therefore return a probability between 0 and 1 as it's final output.  \n",
        "The LSTM will be **unidirectional**. The model will have the following components:\n",
        "1. A [LSTM](https://pytorch.org/docs/stable/generated/torch.nn.LSTM.html) which takes the embeddings as input and has a 100 dimensional hidden size.\n",
        "3. A linear layer with input size of 100 and output size of the number of labels\n",
        "4. A [Sigmoid](https://pytorch.org/docs/stable/generated/torch.nn.Sigmoid.html) activation function\n",
        "\n",
        "Note:  \n",
        "You should use the method-parameters from the __init__ method to specify layer sizes. Concrete dimension numbers will be assigned in part b)\n"
      ]
    },
    {
      "cell_type": "code",
      "execution_count": 38,
      "metadata": {
        "id": "Z9QoXzQSoiBS"
      },
      "outputs": [],
      "source": [
        "class LSTM(nn.Module):\n",
        "\n",
        "    def __init__(self, input_size, hidden_size, num_layers, num_output_label):\n",
        "        super(LSTM, self).__init__()\n",
        "\n",
        "        self.lstm = nn.LSTM(input_size, hidden_size, num_layers)\n",
        "        self.linear = nn.Linear(hidden_size, num_output_label)\n",
        "        self.sig = nn.Sigmoid()\n",
        "\n",
        "    def forward(self, input_word_embedding):\n",
        "        x, _ = self.lstm(input_word_embedding)\n",
        "        x = self.linear(x[:, -1, :])\n",
        "        x = self.sig(x)\n",
        "        return x"
      ]
    },
    {
      "cell_type": "markdown",
      "metadata": {
        "id": "K9eqFAu_m_Xi"
      },
      "source": [
        "b) [2P] Initialize the previously defined LSTM model."
      ]
    },
    {
      "cell_type": "code",
      "execution_count": 39,
      "metadata": {
        "colab": {
          "base_uri": "https://localhost:8080/"
        },
        "id": "2QxcIG4SnOSr",
        "outputId": "fb35dba8-c865-4940-f6e6-fafcb55babe3"
      },
      "outputs": [
        {
          "data": {
            "text/plain": [
              "LSTM(\n",
              "  (lstm): LSTM(50, 100)\n",
              "  (linear): Linear(in_features=100, out_features=1, bias=True)\n",
              "  (sig): Sigmoid()\n",
              ")"
            ]
          },
          "execution_count": 39,
          "metadata": {},
          "output_type": "execute_result"
        }
      ],
      "source": [
        "lstm = LSTM(\n",
        "    input_size=50,\n",
        "    hidden_size=100,\n",
        "    num_layers=1,\n",
        "    num_output_label=1\n",
        ")\n",
        "lstm.to(device)\n"
      ]
    },
    {
      "cell_type": "markdown",
      "metadata": {
        "id": "egNWahhpoiu_"
      },
      "source": [
        "# **Task 3 [11P]: Training an LSTM-Model**\n",
        "In the following exercise you will train the LSTM model.\n",
        "\n",
        "**Hint**: you can check out this [link](https://pytorch.org/tutorials/beginner/introyt/trainingyt.html#the-training-loop) to get to know more about how to train a model with pytorch. Also remember the following architecture from the lecture when handling the model output and computing the loss:\n",
        "![image.png](data:image/png;base64,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)\n",
        "\n",
        "\n",
        "\n",
        "a) [1P] Initialize the loss function, optimizer and and epoch number for the upcoming training process. Use the Binary Cross Entropy loss and the Adam Optimizer with a learn rate of 0.0007 and an epoch number of 15.\n"
      ]
    },
    {
      "cell_type": "code",
      "execution_count": 40,
      "metadata": {
        "id": "yt2QnTrNsX3z"
      },
      "outputs": [],
      "source": [
        "epochs=15\n",
        "lr = 0.0007\n",
        "\n",
        "loss_func = nn.BCELoss()\n",
        "optimizer = torch.optim.AdamW(\n",
        "    params=lstm.parameters(),\n",
        "    lr=lr\n",
        ")"
      ]
    },
    {
      "cell_type": "markdown",
      "metadata": {
        "id": "7BTGJ_MXsh3s"
      },
      "source": [
        "b) [7.5P] Complete the function `train` to train your model. The model will train with batch size of 1 (each review is a sample). You will train the model with the train dataset and use the test dataset to check the model's performance after each epoch. Calculate the macro f1 score of the model on the test dataset. Return the losses and f1 scores for plotting.\n",
        "\n",
        "For the f1 score you can use `sklearn.metrics.f1_score`.\n",
        "\n",
        "\n",
        "Make sure to use the provided `device` variable from above to ensure that pytorch uses the GPU when training the model. This will speed up the training process. In our site it took about 3 minutes for 15 epochs."
      ]
    },
    {
      "cell_type": "code",
      "execution_count": 41,
      "metadata": {
        "id": "WJreNFlF18BK"
      },
      "outputs": [],
      "source": [
        "def train(model, num_epochs, loss_function, optimizer, train_dataloader, test_dataloader, device):\n",
        "  epoch_loss_logger = []\n",
        "  epoch_f1_scores = []\n",
        "\n",
        "  model.train()\n",
        "  for epoch in range(num_epochs):\n",
        "      print(f\"\\n Epoch {epoch+1} of {num_epochs}\")\n",
        "\n",
        "      batch_loss_logger = []\n",
        "\n",
        "      # training\n",
        "      for batch_idx, (inputs, _, targets) in enumerate(train_dataloader):\n",
        "        inputs, targets = inputs.to(device), targets.to(device).to(torch.float)\n",
        "\n",
        "        optimizer.zero_grad()\n",
        "\n",
        "        predictions = model(inputs)\n",
        "        train_loss = loss_function(predictions.view(-1), targets)\n",
        "\n",
        "        train_loss.backward()\n",
        "        optimizer.step()\n",
        "\n",
        "        batch_loss_logger.append(train_loss.item())\n",
        "      \n",
        "      epoch_loss_logger.append(sum(batch_loss_logger) / len(batch_loss_logger))\n",
        "\n",
        "      # evaluation\n",
        "      model.eval()\n",
        "\n",
        "      predictions = []\n",
        "      targets = []\n",
        "\n",
        "      with torch.no_grad():\n",
        "         for input, _, target in test_dataloader:\n",
        "            input, target = input.to(device), target.to(device)\n",
        "            \n",
        "            prediction = model(input)\n",
        "            \n",
        "            predictions.append(prediction.view(-1))\n",
        "            targets.append(target)\n",
        "\n",
        "      \n",
        "      predictions = (torch.tensor(predictions) > 0.5).float()\n",
        "      targets = torch.tensor(targets).float()\n",
        "      epoch_f1_scores.append(f1_score(targets, predictions))\n",
        "\n",
        "  return epoch_loss_logger, epoch_f1_scores"
      ]
    },
    {
      "cell_type": "markdown",
      "metadata": {
        "id": "3IgqnFw02VKO"
      },
      "source": [
        "c) [0.5P] Use the train function to train the lstm model. Save the epoch losses and the f1 scores."
      ]
    },
    {
      "cell_type": "code",
      "execution_count": 42,
      "metadata": {
        "colab": {
          "base_uri": "https://localhost:8080/",
          "height": 418
        },
        "id": "eODNYEmK2UZu",
        "outputId": "2ee02878-bc18-4b24-8fad-1d8a1c11f1e0"
      },
      "outputs": [
        {
          "name": "stdout",
          "output_type": "stream",
          "text": [
            "\n",
            " Epoch 1 of 15\n",
            "\n",
            " Epoch 2 of 15\n",
            "\n",
            " Epoch 3 of 15\n",
            "\n",
            " Epoch 4 of 15\n",
            "\n",
            " Epoch 5 of 15\n",
            "\n",
            " Epoch 6 of 15\n",
            "\n",
            " Epoch 7 of 15\n",
            "\n",
            " Epoch 8 of 15\n",
            "\n",
            " Epoch 9 of 15\n",
            "\n",
            " Epoch 10 of 15\n",
            "\n",
            " Epoch 11 of 15\n",
            "\n",
            " Epoch 12 of 15\n",
            "\n",
            " Epoch 13 of 15\n",
            "\n",
            " Epoch 14 of 15\n",
            "\n",
            " Epoch 15 of 15\n"
          ]
        }
      ],
      "source": [
        "epoch_loss_logger, epoch_f1_scores = train(\n",
        "    model=lstm,\n",
        "    num_epochs=epochs,\n",
        "    loss_function=loss_func,\n",
        "    optimizer=optimizer,\n",
        "    train_dataloader=train_dataloader,\n",
        "    test_dataloader=test_dataloader,\n",
        "    device=device\n",
        ")"
      ]
    },
    {
      "cell_type": "markdown",
      "metadata": {
        "id": "xz6uyUXFWnAe"
      },
      "source": [
        "d) [2P] Write a function visualize_data which plots a list of values. This can be done with mathplotlib.pyplot.Use this function to visualize the epoch losses and f1 scores from the previous subtask."
      ]
    },
    {
      "cell_type": "code",
      "execution_count": 43,
      "metadata": {
        "id": "enRLWn887ytw"
      },
      "outputs": [
        {
          "data": {
            "image/png": "[encoded data removed]",
            "text/plain": [
              "<Figure size 640x480 with 1 Axes>"
            ]
          },
          "metadata": {},
          "output_type": "display_data"
        },
        {
          "data": {
            "image/png": "[encoded data removed]",
            "text/plain": [
              "<Figure size 640x480 with 1 Axes>"
            ]
          },
          "metadata": {},
          "output_type": "display_data"
        }
      ],
      "source": [
        "def visualize_data(data, title):\n",
        "  plt.plot(data)\n",
        "  plt.title(title)\n",
        "  plt.xlabel(\"Epochs\")\n",
        "  plt.show()\n",
        "\n",
        "\n",
        "visualize_data(epoch_loss_logger, \"Losses\")\n",
        "visualize_data(epoch_f1_scores, \"F1 Score\")"
      ]
    },
    {
      "cell_type": "markdown",
      "metadata": {
        "id": "H8GwsxfirGKm"
      },
      "source": [
        "# **Task 4 [4P]: Training an RNN-Model**\n",
        "\n",
        "In the following task you will reuse the function that you have defined to train the LSTM (from above) to evaluate it's performance compared to an RNN architecture\n",
        "\n",
        "Here, we provide the model defintion for you."
      ]
    },
    {
      "cell_type": "code",
      "execution_count": 44,
      "metadata": {
        "id": "Mt4Y25jmrFRz"
      },
      "outputs": [],
      "source": [
        "class RNN(nn.Module):\n",
        "    def __init__(self, input_size, hidden_size, num_layers, num_output_label):\n",
        "        super(RNN, self).__init__()\n",
        "\n",
        "        self.hidden_size = hidden_size\n",
        "        self.num_layers = num_layers\n",
        "        self.rnn = nn.RNN(input_size, hidden_size, num_layers)\n",
        "        self.layers = nn.Sequential(\n",
        "            nn.Linear(hidden_size, num_output_label),\n",
        "            nn.Sigmoid()\n",
        "        )\n",
        "\n",
        "    def forward(self, input_word_embedding):\n",
        "        rnn_output, _ = self.rnn(input_word_embedding)\n",
        "        return self.layers(rnn_output[:, -1, :])"
      ]
    },
    {
      "cell_type": "markdown",
      "metadata": {
        "id": "_DGCsT0CtLXv"
      },
      "source": [
        "a) [1P] Initialize the RNN-model, and prepare the loss_function and the optimizer for training. Here you should also use BCELoss and the Adam-Optimizer with a learning rate of 0.0007. We are training for 15 episodes here as well.\n",
        "\n",
        "Use the same parameters as before."
      ]
    },
    {
      "cell_type": "code",
      "execution_count": 45,
      "metadata": {
        "id": "qdIvExNbrPz7"
      },
      "outputs": [],
      "source": [
        "rnn = RNN(\n",
        "    input_size=50,\n",
        "    hidden_size=100,\n",
        "    num_layers=1,\n",
        "    num_output_label=1\n",
        ")\n",
        "rnn.to(device)\n",
        "\n",
        "optimizer = torch.optim.AdamW(rnn.parameters(), lr=lr)\n",
        "loss_func = nn.BCELoss()"
      ]
    },
    {
      "cell_type": "markdown",
      "metadata": {
        "id": "VgKc8XZyto4X"
      },
      "source": [
        "b) [0.5P] Reuse the train-function from above to train the RNN and capture the loss and f1-score"
      ]
    },
    {
      "cell_type": "code",
      "execution_count": 46,
      "metadata": {
        "id": "MgDVpSf4rlYs"
      },
      "outputs": [
        {
          "name": "stdout",
          "output_type": "stream",
          "text": [
            "\n",
            " Epoch 1 of 15\n",
            "\n",
            " Epoch 2 of 15\n",
            "\n",
            " Epoch 3 of 15\n",
            "\n",
            " Epoch 4 of 15\n",
            "\n",
            " Epoch 5 of 15\n",
            "\n",
            " Epoch 6 of 15\n",
            "\n",
            " Epoch 7 of 15\n",
            "\n",
            " Epoch 8 of 15\n",
            "\n",
            " Epoch 9 of 15\n",
            "\n",
            " Epoch 10 of 15\n",
            "\n",
            " Epoch 11 of 15\n",
            "\n",
            " Epoch 12 of 15\n",
            "\n",
            " Epoch 13 of 15\n",
            "\n",
            " Epoch 14 of 15\n",
            "\n",
            " Epoch 15 of 15\n"
          ]
        }
      ],
      "source": [
        "epoch_loss_logger, epoch_f1_scores = train(\n",
        "    model=rnn,\n",
        "    num_epochs=epochs,\n",
        "    loss_function=loss_func,\n",
        "    optimizer=optimizer,\n",
        "    train_dataloader=train_dataloader,\n",
        "    test_dataloader=test_dataloader,\n",
        "    device=device\n",
        ")"
      ]
    },
    {
      "cell_type": "markdown",
      "metadata": {
        "id": "cBDqUwDet7DR"
      },
      "source": [
        "c) [0.5P] For the RNN-model you should also visiualize the F1-score and the loss. You can reuse the code from above."
      ]
    },
    {
      "cell_type": "code",
      "execution_count": 47,
      "metadata": {
        "id": "oe-oXlJhuE5r"
      },
      "outputs": [
        {
          "data": {
            "image/png": "[encoded data removed]",
            "text/plain": [
              "<Figure size 640x480 with 1 Axes>"
            ]
          },
          "metadata": {},
          "output_type": "display_data"
        },
        {
          "data": {
            "image/png": "[encoded data removed]",
            "text/plain": [
              "<Figure size 640x480 with 1 Axes>"
            ]
          },
          "metadata": {},
          "output_type": "display_data"
        }
      ],
      "source": [
        "visualize_data(epoch_loss_logger, \"Losses\")\n",
        "visualize_data(epoch_f1_scores, \"F1 Score\")"
      ]
    },
    {
      "cell_type": "markdown",
      "metadata": {
        "id": "oqKcghAVtvXt"
      },
      "source": [
        "d) [2P] Compare the training process of the RNN-Model to the LSTM-Model, what do you recognize and how can you explain these effects?"
      ]
    },
    {
      "cell_type": "code",
      "execution_count": 48,
      "metadata": {
        "id": "eV2Vct-7ufdp"
      },
      "outputs": [],
      "source": [
        "# [ToDo] Answer in a few sentences."
      ]
    }
  ],
  "metadata": {
    "accelerator": "GPU",
    "colab": {
      "gpuType": "T4",
      "provenance": []
    },
    "kernelspec": {
      "display_name": "Python 3",
      "name": "python3"
    },
    "language_info": {
      "codemirror_mode": {
        "name": "ipython",
        "version": 3
      },
      "file_extension": ".py",
      "mimetype": "text/x-python",
      "name": "python",
      "nbconvert_exporter": "python",
      "pygments_lexer": "ipython3",
      "version": "3.11.9"
    },
    "widgets": {
      "application/vnd.jupyter.widget-state+json": {
        "00521264a54e4443a67cd3906e559c59": {
          "model_module": "@jupyter-widgets/base",
          "model_module_version": "1.2.0",
          "model_name": "LayoutModel",
          "state": {
            "_model_module": "@jupyter-widgets/base",
            "_model_module_version": "1.2.0",
            "_model_name": "LayoutModel",
            "_view_count": null,
            "_view_module": "@jupyter-widgets/base",
            "_view_module_version": "1.2.0",
            "_view_name": "LayoutView",
            "align_content": null,
            "align_items": null,
            "align_self": null,
            "border": null,
            "bottom": null,
            "display": null,
            "flex": null,
            "flex_flow": null,
            "grid_area": null,
            "grid_auto_columns": null,
            "grid_auto_flow": null,
            "grid_auto_rows": null,
            "grid_column": null,
            "grid_gap": null,
            "grid_row": null,
            "grid_template_areas": null,
            "grid_template_columns": null,
            "grid_template_rows": null,
            "height": null,
            "justify_content": null,
            "justify_items": null,
            "left": null,
            "margin": null,
            "max_height": null,
            "max_width": null,
            "min_height": null,
            "min_width": null,
            "object_fit": null,
            "object_position": null,
            "order": null,
            "overflow": null,
            "overflow_x": null,
            "overflow_y": null,
            "padding": null,
            "right": null,
            "top": null,
            "visibility": null,
            "width": null
          }
        },
        "022e4cf83fde479babd7f84d3f9cd05d": {
          "model_module": "@jupyter-widgets/controls",
          "model_module_version": "1.5.0",
          "model_name": "HBoxModel",
          "state": {
            "_dom_classes": [],
            "_model_module": "@jupyter-widgets/controls",
            "_model_module_version": "1.5.0",
            "_model_name": "HBoxModel",
            "_view_count": null,
            "_view_module": "@jupyter-widgets/controls",
            "_view_module_version": "1.5.0",
            "_view_name": "HBoxView",
            "box_style": "",
            "children": [
              "IPY_MODEL_70473c23b478400082ebba7e510fb044",
              "IPY_MODEL_39e440624e824d3293d7300158031211",
              "IPY_MODEL_6afab90db6bd4a87b0629415fa2b21d2"
            ],
            "layout": "IPY_MODEL_00521264a54e4443a67cd3906e559c59"
          }
        },
        "07f6c8aa04df4faa88f5c83451ed6710": {
          "model_module": "@jupyter-widgets/controls",
          "model_module_version": "1.5.0",
          "model_name": "DescriptionStyleModel",
          "state": {
            "_model_module": "@jupyter-widgets/controls",
            "_model_module_version": "1.5.0",
            "_model_name": "DescriptionStyleModel",
            "_view_count": null,
            "_view_module": "@jupyter-widgets/base",
            "_view_module_version": "1.2.0",
            "_view_name": "StyleView",
            "description_width": ""
          }
        },
        "08d127e49cd54f269ed008652bfa6aa6": {
          "model_module": "@jupyter-widgets/controls",
          "model_module_version": "1.5.0",
          "model_name": "HTMLModel",
          "state": {
            "_dom_classes": [],
            "_model_module": "@jupyter-widgets/controls",
            "_model_module_version": "1.5.0",
            "_model_name": "HTMLModel",
            "_view_count": null,
            "_view_module": "@jupyter-widgets/controls",
            "_view_module_version": "1.5.0",
            "_view_name": "HTMLView",
            "description": "",
            "description_tooltip": null,
            "layout": "IPY_MODEL_e75a1003331f472f8a5a473d617a733c",
            "placeholder": "​",
            "style": "IPY_MODEL_4f81a74844054c0aa83e6576bd959314",
            "value": " 50000/50000 [00:00&lt;00:00, 67062.76 examples/s]"
          }
        },
        "09dd3f60740740098b95a42bd73f6e4d": {
          "model_module": "@jupyter-widgets/base",
          "model_module_version": "1.2.0",
          "model_name": "LayoutModel",
          "state": {
            "_model_module": "@jupyter-widgets/base",
            "_model_module_version": "1.2.0",
            "_model_name": "LayoutModel",
            "_view_count": null,
            "_view_module": "@jupyter-widgets/base",
            "_view_module_version": "1.2.0",
            "_view_name": "LayoutView",
            "align_content": null,
            "align_items": null,
            "align_self": null,
            "border": null,
            "bottom": null,
            "display": null,
            "flex": null,
            "flex_flow": null,
            "grid_area": null,
            "grid_auto_columns": null,
            "grid_auto_flow": null,
            "grid_auto_rows": null,
            "grid_column": null,
            "grid_gap": null,
            "grid_row": null,
            "grid_template_areas": null,
            "grid_template_columns": null,
            "grid_template_rows": null,
            "height": null,
            "justify_content": null,
            "justify_items": null,
            "left": null,
            "margin": null,
            "max_height": null,
            "max_width": null,
            "min_height": null,
            "min_width": null,
            "object_fit": null,
            "object_position": null,
            "order": null,
            "overflow": null,
            "overflow_x": null,
            "overflow_y": null,
            "padding": null,
            "right": null,
            "top": null,
            "visibility": null,
            "width": null
          }
        },
        "0d7ace72aa804f92a1aa7c8aa1f77616": {
          "model_module": "@jupyter-widgets/controls",
          "model_module_version": "1.5.0",
          "model_name": "HTMLModel",
          "state": {
            "_dom_classes": [],
            "_model_module": "@jupyter-widgets/controls",
            "_model_module_version": "1.5.0",
            "_model_name": "HTMLModel",
            "_view_count": null,
            "_view_module": "@jupyter-widgets/controls",
            "_view_module_version": "1.5.0",
            "_view_name": "HTMLView",
            "description": "",
            "description_tooltip": null,
            "layout": "IPY_MODEL_c64b95b45ee14583b46d58535885548d",
            "placeholder": "​",
            "style": "IPY_MODEL_c3c4d980ff4a4d48a4471ae7a2482f58",
            "value": " 42.0M/42.0M [00:00&lt;00:00, 78.7MB/s]"
          }
        },
        "1497cee4f1ea4c3ca44d7dde7f61f7b8": {
          "model_module": "@jupyter-widgets/controls",
          "model_module_version": "1.5.0",
          "model_name": "FloatProgressModel",
          "state": {
            "_dom_classes": [],
            "_model_module": "@jupyter-widgets/controls",
            "_model_module_version": "1.5.0",
            "_model_name": "FloatProgressModel",
            "_view_count": null,
            "_view_module": "@jupyter-widgets/controls",
            "_view_module_version": "1.5.0",
            "_view_name": "ProgressView",
            "bar_style": "success",
            "description": "",
            "description_tooltip": null,
            "layout": "IPY_MODEL_dba8f5ea7f4d455687d8513f84269c78",
            "max": 25000,
            "min": 0,
            "orientation": "horizontal",
            "style": "IPY_MODEL_1af8b078b76c4a84842d76b843e1103b",
            "value": 25000
          }
        },
        "1af8b078b76c4a84842d76b843e1103b": {
          "model_module": "@jupyter-widgets/controls",
          "model_module_version": "1.5.0",
          "model_name": "ProgressStyleModel",
          "state": {
            "_model_module": "@jupyter-widgets/controls",
            "_model_module_version": "1.5.0",
            "_model_name": "ProgressStyleModel",
            "_view_count": null,
            "_view_module": "@jupyter-widgets/base",
            "_view_module_version": "1.2.0",
            "_view_name": "StyleView",
            "bar_color": null,
            "description_width": ""
          }
        },
        "1ec806394b484b7999f54afee2800063": {
          "model_module": "@jupyter-widgets/controls",
          "model_module_version": "1.5.0",
          "model_name": "FloatProgressModel",
          "state": {
            "_dom_classes": [],
            "_model_module": "@jupyter-widgets/controls",
            "_model_module_version": "1.5.0",
            "_model_name": "FloatProgressModel",
            "_view_count": null,
            "_view_module": "@jupyter-widgets/controls",
            "_view_module_version": "1.5.0",
            "_view_name": "ProgressView",
            "bar_style": "success",
            "description": "",
            "description_tooltip": null,
            "layout": "IPY_MODEL_a1bd94e389c54f728bf00ab463ad94b1",
            "max": 20470363,
            "min": 0,
            "orientation": "horizontal",
            "style": "IPY_MODEL_e22bda6d28534fe188ac3778272cbe5b",
            "value": 20470363
          }
        },
        "273024d41f6b4920ac070a67de168532": {
          "model_module": "@jupyter-widgets/base",
          "model_module_version": "1.2.0",
          "model_name": "LayoutModel",
          "state": {
            "_model_module": "@jupyter-widgets/base",
            "_model_module_version": "1.2.0",
            "_model_name": "LayoutModel",
            "_view_count": null,
            "_view_module": "@jupyter-widgets/base",
            "_view_module_version": "1.2.0",
            "_view_name": "LayoutView",
            "align_content": null,
            "align_items": null,
            "align_self": null,
            "border": null,
            "bottom": null,
            "display": null,
            "flex": null,
            "flex_flow": null,
            "grid_area": null,
            "grid_auto_columns": null,
            "grid_auto_flow": null,
            "grid_auto_rows": null,
            "grid_column": null,
            "grid_gap": null,
            "grid_row": null,
            "grid_template_areas": null,
            "grid_template_columns": null,
            "grid_template_rows": null,
            "height": null,
            "justify_content": null,
            "justify_items": null,
            "left": null,
            "margin": null,
            "max_height": null,
            "max_width": null,
            "min_height": null,
            "min_width": null,
            "object_fit": null,
            "object_position": null,
            "order": null,
            "overflow": null,
            "overflow_x": null,
            "overflow_y": null,
            "padding": null,
            "right": null,
            "top": null,
            "visibility": null,
            "width": null
          }
        },
        "2ee41b5f1c0744ac9a48d2c7896d7586": {
          "model_module": "@jupyter-widgets/base",
          "model_module_version": "1.2.0",
          "model_name": "LayoutModel",
          "state": {
            "_model_module": "@jupyter-widgets/base",
            "_model_module_version": "1.2.0",
            "_model_name": "LayoutModel",
            "_view_count": null,
            "_view_module": "@jupyter-widgets/base",
            "_view_module_version": "1.2.0",
            "_view_name": "LayoutView",
            "align_content": null,
            "align_items": null,
            "align_self": null,
            "border": null,
            "bottom": null,
            "display": null,
            "flex": null,
            "flex_flow": null,
            "grid_area": null,
            "grid_auto_columns": null,
            "grid_auto_flow": null,
            "grid_auto_rows": null,
            "grid_column": null,
            "grid_gap": null,
            "grid_row": null,
            "grid_template_areas": null,
            "grid_template_columns": null,
            "grid_template_rows": null,
            "height": null,
            "justify_content": null,
            "justify_items": null,
            "left": null,
            "margin": null,
            "max_height": null,
            "max_width": null,
            "min_height": null,
            "min_width": null,
            "object_fit": null,
            "object_position": null,
            "order": null,
            "overflow": null,
            "overflow_x": null,
            "overflow_y": null,
            "padding": null,
            "right": null,
            "top": null,
            "visibility": null,
            "width": null
          }
        },
        "3215a69458b54f8c8dd1ae7c201be493": {
          "model_module": "@jupyter-widgets/base",
          "model_module_version": "1.2.0",
          "model_name": "LayoutModel",
          "state": {
            "_model_module": "@jupyter-widgets/base",
            "_model_module_version": "1.2.0",
            "_model_name": "LayoutModel",
            "_view_count": null,
            "_view_module": "@jupyter-widgets/base",
            "_view_module_version": "1.2.0",
            "_view_name": "LayoutView",
            "align_content": null,
            "align_items": null,
            "align_self": null,
            "border": null,
            "bottom": null,
            "display": null,
            "flex": null,
            "flex_flow": null,
            "grid_area": null,
            "grid_auto_columns": null,
            "grid_auto_flow": null,
            "grid_auto_rows": null,
            "grid_column": null,
            "grid_gap": null,
            "grid_row": null,
            "grid_template_areas": null,
            "grid_template_columns": null,
            "grid_template_rows": null,
            "height": null,
            "justify_content": null,
            "justify_items": null,
            "left": null,
            "margin": null,
            "max_height": null,
            "max_width": null,
            "min_height": null,
            "min_width": null,
            "object_fit": null,
            "object_position": null,
            "order": null,
            "overflow": null,
            "overflow_x": null,
            "overflow_y": null,
            "padding": null,
            "right": null,
            "top": null,
            "visibility": null,
            "width": null
          }
        },
        "357c1dfc8ab2434aab832da0985f845b": {
          "model_module": "@jupyter-widgets/controls",
          "model_module_version": "1.5.0",
          "model_name": "ProgressStyleModel",
          "state": {
            "_model_module": "@jupyter-widgets/controls",
            "_model_module_version": "1.5.0",
            "_model_name": "ProgressStyleModel",
            "_view_count": null,
            "_view_module": "@jupyter-widgets/base",
            "_view_module_version": "1.2.0",
            "_view_name": "StyleView",
            "bar_color": null,
            "description_width": ""
          }
        },
        "39e440624e824d3293d7300158031211": {
          "model_module": "@jupyter-widgets/controls",
          "model_module_version": "1.5.0",
          "model_name": "FloatProgressModel",
          "state": {
            "_dom_classes": [],
            "_model_module": "@jupyter-widgets/controls",
            "_model_module_version": "1.5.0",
            "_model_name": "FloatProgressModel",
            "_view_count": null,
            "_view_module": "@jupyter-widgets/controls",
            "_view_module_version": "1.5.0",
            "_view_name": "ProgressView",
            "bar_style": "success",
            "description": "",
            "description_tooltip": null,
            "layout": "IPY_MODEL_dc78c0bad2b546c1883678554479c50d",
            "max": 20979968,
            "min": 0,
            "orientation": "horizontal",
            "style": "IPY_MODEL_79cdfa0f13414450a8a1f34e9d1ecfa8",
            "value": 20979968
          }
        },
        "3d436ab1ab6a445dbcae9ad7abf75e95": {
          "model_module": "@jupyter-widgets/controls",
          "model_module_version": "1.5.0",
          "model_name": "HTMLModel",
          "state": {
            "_dom_classes": [],
            "_model_module": "@jupyter-widgets/controls",
            "_model_module_version": "1.5.0",
            "_model_name": "HTMLModel",
            "_view_count": null,
            "_view_module": "@jupyter-widgets/controls",
            "_view_module_version": "1.5.0",
            "_view_name": "HTMLView",
            "description": "",
            "description_tooltip": null,
            "layout": "IPY_MODEL_91708779bf864e3390e4d02b46ecf97e",
            "placeholder": "​",
            "style": "IPY_MODEL_93e882e95443494da3e3c6f74a06f125",
            "value": " 7.81k/7.81k [00:00&lt;00:00, 114kB/s]"
          }
        },
        "4c19c0dfbf364490a952261165fa411f": {
          "model_module": "@jupyter-widgets/controls",
          "model_module_version": "1.5.0",
          "model_name": "DescriptionStyleModel",
          "state": {
            "_model_module": "@jupyter-widgets/controls",
            "_model_module_version": "1.5.0",
            "_model_name": "DescriptionStyleModel",
            "_view_count": null,
            "_view_module": "@jupyter-widgets/base",
            "_view_module_version": "1.2.0",
            "_view_name": "StyleView",
            "description_width": ""
          }
        },
        "4d495073cffe4129a982c5be6d5b7957": {
          "model_module": "@jupyter-widgets/controls",
          "model_module_version": "1.5.0",
          "model_name": "DescriptionStyleModel",
          "state": {
            "_model_module": "@jupyter-widgets/controls",
            "_model_module_version": "1.5.0",
            "_model_name": "DescriptionStyleModel",
            "_view_count": null,
            "_view_module": "@jupyter-widgets/base",
            "_view_module_version": "1.2.0",
            "_view_name": "StyleView",
            "description_width": ""
          }
        },
        "4f81a74844054c0aa83e6576bd959314": {
          "model_module": "@jupyter-widgets/controls",
          "model_module_version": "1.5.0",
          "model_name": "DescriptionStyleModel",
          "state": {
            "_model_module": "@jupyter-widgets/controls",
            "_model_module_version": "1.5.0",
            "_model_name": "DescriptionStyleModel",
            "_view_count": null,
            "_view_module": "@jupyter-widgets/base",
            "_view_module_version": "1.2.0",
            "_view_name": "StyleView",
            "description_width": ""
          }
        },
        "51e7d816e5a74c54b2684ce7f06d166b": {
          "model_module": "@jupyter-widgets/controls",
          "model_module_version": "1.5.0",
          "model_name": "HTMLModel",
          "state": {
            "_dom_classes": [],
            "_model_module": "@jupyter-widgets/controls",
            "_model_module_version": "1.5.0",
            "_model_name": "HTMLModel",
            "_view_count": null,
            "_view_module": "@jupyter-widgets/controls",
            "_view_module_version": "1.5.0",
            "_view_name": "HTMLView",
            "description": "",
            "description_tooltip": null,
            "layout": "IPY_MODEL_82623ce80bec4c4ba93e237160dd16d3",
            "placeholder": "​",
            "style": "IPY_MODEL_a135a726cde84ed6a0a117ba1673d7f0",
            "value": "Generating train split: 100%"
          }
        },
        "53089d6b5b1146c59455054deeefa8c0": {
          "model_module": "@jupyter-widgets/controls",
          "model_module_version": "1.5.0",
          "model_name": "FloatProgressModel",
          "state": {
            "_dom_classes": [],
            "_model_module": "@jupyter-widgets/controls",
            "_model_module_version": "1.5.0",
            "_model_name": "FloatProgressModel",
            "_view_count": null,
            "_view_module": "@jupyter-widgets/controls",
            "_view_module_version": "1.5.0",
            "_view_name": "ProgressView",
            "bar_style": "success",
            "description": "",
            "description_tooltip": null,
            "layout": "IPY_MODEL_ba101e7fdd5b4c6c8e60a954f71eb317",
            "max": 7809,
            "min": 0,
            "orientation": "horizontal",
            "style": "IPY_MODEL_9cd489663a5f41f6bccf666e19de3add",
            "value": 7809
          }
        },
        "5386a1b1bf314ebda555512222047271": {
          "model_module": "@jupyter-widgets/controls",
          "model_module_version": "1.5.0",
          "model_name": "FloatProgressModel",
          "state": {
            "_dom_classes": [],
            "_model_module": "@jupyter-widgets/controls",
            "_model_module_version": "1.5.0",
            "_model_name": "FloatProgressModel",
            "_view_count": null,
            "_view_module": "@jupyter-widgets/controls",
            "_view_module_version": "1.5.0",
            "_view_name": "ProgressView",
            "bar_style": "success",
            "description": "",
            "description_tooltip": null,
            "layout": "IPY_MODEL_58d0e39580c145fe80e4a6eaf56505ac",
            "max": 25000,
            "min": 0,
            "orientation": "horizontal",
            "style": "IPY_MODEL_357c1dfc8ab2434aab832da0985f845b",
            "value": 25000
          }
        },
        "53e177a3ae1f4a69adfdfe5a74a4b5d2": {
          "model_module": "@jupyter-widgets/controls",
          "model_module_version": "1.5.0",
          "model_name": "HTMLModel",
          "state": {
            "_dom_classes": [],
            "_model_module": "@jupyter-widgets/controls",
            "_model_module_version": "1.5.0",
            "_model_name": "HTMLModel",
            "_view_count": null,
            "_view_module": "@jupyter-widgets/controls",
            "_view_module_version": "1.5.0",
            "_view_name": "HTMLView",
            "description": "",
            "description_tooltip": null,
            "layout": "IPY_MODEL_ff19015e42f94c759c84a33b70b141bb",
            "placeholder": "​",
            "style": "IPY_MODEL_742a9fc99a7045dabc65a3505808c78e",
            "value": "Downloading readme: 100%"
          }
        },
        "58d0e39580c145fe80e4a6eaf56505ac": {
          "model_module": "@jupyter-widgets/base",
          "model_module_version": "1.2.0",
          "model_name": "LayoutModel",
          "state": {
            "_model_module": "@jupyter-widgets/base",
            "_model_module_version": "1.2.0",
            "_model_name": "LayoutModel",
            "_view_count": null,
            "_view_module": "@jupyter-widgets/base",
            "_view_module_version": "1.2.0",
            "_view_name": "LayoutView",
            "align_content": null,
            "align_items": null,
            "align_self": null,
            "border": null,
            "bottom": null,
            "display": null,
            "flex": null,
            "flex_flow": null,
            "grid_area": null,
            "grid_auto_columns": null,
            "grid_auto_flow": null,
            "grid_auto_rows": null,
            "grid_column": null,
            "grid_gap": null,
            "grid_row": null,
            "grid_template_areas": null,
            "grid_template_columns": null,
            "grid_template_rows": null,
            "height": null,
            "justify_content": null,
            "justify_items": null,
            "left": null,
            "margin": null,
            "max_height": null,
            "max_width": null,
            "min_height": null,
            "min_width": null,
            "object_fit": null,
            "object_position": null,
            "order": null,
            "overflow": null,
            "overflow_x": null,
            "overflow_y": null,
            "padding": null,
            "right": null,
            "top": null,
            "visibility": null,
            "width": null
          }
        },
        "66c9a06d52504e5f87a3daba01203926": {
          "model_module": "@jupyter-widgets/controls",
          "model_module_version": "1.5.0",
          "model_name": "HBoxModel",
          "state": {
            "_dom_classes": [],
            "_model_module": "@jupyter-widgets/controls",
            "_model_module_version": "1.5.0",
            "_model_name": "HBoxModel",
            "_view_count": null,
            "_view_module": "@jupyter-widgets/controls",
            "_view_module_version": "1.5.0",
            "_view_name": "HBoxView",
            "box_style": "",
            "children": [
              "IPY_MODEL_b5be92e9e49a41ecbfb7a62a90409814",
              "IPY_MODEL_784c274e0fae4ff1be9ed6c12e4fbb81",
              "IPY_MODEL_08d127e49cd54f269ed008652bfa6aa6"
            ],
            "layout": "IPY_MODEL_09dd3f60740740098b95a42bd73f6e4d"
          }
        },
        "687c2dfb67ec496e85bf4092ab0aa8c4": {
          "model_module": "@jupyter-widgets/controls",
          "model_module_version": "1.5.0",
          "model_name": "HBoxModel",
          "state": {
            "_dom_classes": [],
            "_model_module": "@jupyter-widgets/controls",
            "_model_module_version": "1.5.0",
            "_model_name": "HBoxModel",
            "_view_count": null,
            "_view_module": "@jupyter-widgets/controls",
            "_view_module_version": "1.5.0",
            "_view_name": "HBoxView",
            "box_style": "",
            "children": [
              "IPY_MODEL_d71bd10ca8794442978d2722d4ab2382",
              "IPY_MODEL_749f3bdc74e948acb378bb803bf7983b",
              "IPY_MODEL_0d7ace72aa804f92a1aa7c8aa1f77616"
            ],
            "layout": "IPY_MODEL_8ec9c00b45944c6c985a008e01e71ade"
          }
        },
        "6afab90db6bd4a87b0629415fa2b21d2": {
          "model_module": "@jupyter-widgets/controls",
          "model_module_version": "1.5.0",
          "model_name": "HTMLModel",
          "state": {
            "_dom_classes": [],
            "_model_module": "@jupyter-widgets/controls",
            "_model_module_version": "1.5.0",
            "_model_name": "HTMLModel",
            "_view_count": null,
            "_view_module": "@jupyter-widgets/controls",
            "_view_module_version": "1.5.0",
            "_view_name": "HTMLView",
            "description": "",
            "description_tooltip": null,
            "layout": "IPY_MODEL_c0a7ecc906c1417ca0a959cdb77860f4",
            "placeholder": "​",
            "style": "IPY_MODEL_4d495073cffe4129a982c5be6d5b7957",
            "value": " 21.0M/21.0M [00:00&lt;00:00, 39.2MB/s]"
          }
        },
        "70473c23b478400082ebba7e510fb044": {
          "model_module": "@jupyter-widgets/controls",
          "model_module_version": "1.5.0",
          "model_name": "HTMLModel",
          "state": {
            "_dom_classes": [],
            "_model_module": "@jupyter-widgets/controls",
            "_model_module_version": "1.5.0",
            "_model_name": "HTMLModel",
            "_view_count": null,
            "_view_module": "@jupyter-widgets/controls",
            "_view_module_version": "1.5.0",
            "_view_name": "HTMLView",
            "description": "",
            "description_tooltip": null,
            "layout": "IPY_MODEL_3215a69458b54f8c8dd1ae7c201be493",
            "placeholder": "​",
            "style": "IPY_MODEL_e923e8fba9554f60a622a9957df0cad9",
            "value": "Downloading data: 100%"
          }
        },
        "73d177c8d99744778396fb490ce239b3": {
          "model_module": "@jupyter-widgets/controls",
          "model_module_version": "1.5.0",
          "model_name": "DescriptionStyleModel",
          "state": {
            "_model_module": "@jupyter-widgets/controls",
            "_model_module_version": "1.5.0",
            "_model_name": "DescriptionStyleModel",
            "_view_count": null,
            "_view_module": "@jupyter-widgets/base",
            "_view_module_version": "1.2.0",
            "_view_name": "StyleView",
            "description_width": ""
          }
        },
        "742a9fc99a7045dabc65a3505808c78e": {
          "model_module": "@jupyter-widgets/controls",
          "model_module_version": "1.5.0",
          "model_name": "DescriptionStyleModel",
          "state": {
            "_model_module": "@jupyter-widgets/controls",
            "_model_module_version": "1.5.0",
            "_model_name": "DescriptionStyleModel",
            "_view_count": null,
            "_view_module": "@jupyter-widgets/base",
            "_view_module_version": "1.2.0",
            "_view_name": "StyleView",
            "description_width": ""
          }
        },
        "749f3bdc74e948acb378bb803bf7983b": {
          "model_module": "@jupyter-widgets/controls",
          "model_module_version": "1.5.0",
          "model_name": "FloatProgressModel",
          "state": {
            "_dom_classes": [],
            "_model_module": "@jupyter-widgets/controls",
            "_model_module_version": "1.5.0",
            "_model_name": "FloatProgressModel",
            "_view_count": null,
            "_view_module": "@jupyter-widgets/controls",
            "_view_module_version": "1.5.0",
            "_view_name": "ProgressView",
            "bar_style": "success",
            "description": "",
            "description_tooltip": null,
            "layout": "IPY_MODEL_c8c6079049ec4b238c14a4bc2cce1737",
            "max": 41996509,
            "min": 0,
            "orientation": "horizontal",
            "style": "IPY_MODEL_f8827ff83dcc4977a81843ab183fef96",
            "value": 41996509
          }
        },
        "755be3a361e04a98ac7d22333e0bda0c": {
          "model_module": "@jupyter-widgets/controls",
          "model_module_version": "1.5.0",
          "model_name": "DescriptionStyleModel",
          "state": {
            "_model_module": "@jupyter-widgets/controls",
            "_model_module_version": "1.5.0",
            "_model_name": "DescriptionStyleModel",
            "_view_count": null,
            "_view_module": "@jupyter-widgets/base",
            "_view_module_version": "1.2.0",
            "_view_name": "StyleView",
            "description_width": ""
          }
        },
        "77d7bcaaf7a045a49428a4ef7ad7cede": {
          "model_module": "@jupyter-widgets/base",
          "model_module_version": "1.2.0",
          "model_name": "LayoutModel",
          "state": {
            "_model_module": "@jupyter-widgets/base",
            "_model_module_version": "1.2.0",
            "_model_name": "LayoutModel",
            "_view_count": null,
            "_view_module": "@jupyter-widgets/base",
            "_view_module_version": "1.2.0",
            "_view_name": "LayoutView",
            "align_content": null,
            "align_items": null,
            "align_self": null,
            "border": null,
            "bottom": null,
            "display": null,
            "flex": null,
            "flex_flow": null,
            "grid_area": null,
            "grid_auto_columns": null,
            "grid_auto_flow": null,
            "grid_auto_rows": null,
            "grid_column": null,
            "grid_gap": null,
            "grid_row": null,
            "grid_template_areas": null,
            "grid_template_columns": null,
            "grid_template_rows": null,
            "height": null,
            "justify_content": null,
            "justify_items": null,
            "left": null,
            "margin": null,
            "max_height": null,
            "max_width": null,
            "min_height": null,
            "min_width": null,
            "object_fit": null,
            "object_position": null,
            "order": null,
            "overflow": null,
            "overflow_x": null,
            "overflow_y": null,
            "padding": null,
            "right": null,
            "top": null,
            "visibility": null,
            "width": null
          }
        },
        "784c274e0fae4ff1be9ed6c12e4fbb81": {
          "model_module": "@jupyter-widgets/controls",
          "model_module_version": "1.5.0",
          "model_name": "FloatProgressModel",
          "state": {
            "_dom_classes": [],
            "_model_module": "@jupyter-widgets/controls",
            "_model_module_version": "1.5.0",
            "_model_name": "FloatProgressModel",
            "_view_count": null,
            "_view_module": "@jupyter-widgets/controls",
            "_view_module_version": "1.5.0",
            "_view_name": "ProgressView",
            "bar_style": "success",
            "description": "",
            "description_tooltip": null,
            "layout": "IPY_MODEL_bbdbaededdaf4eb1a0ac879730eecbec",
            "max": 50000,
            "min": 0,
            "orientation": "horizontal",
            "style": "IPY_MODEL_f51e4a048cbb4b1a94d4735751c8cf26",
            "value": 50000
          }
        },
        "79cdfa0f13414450a8a1f34e9d1ecfa8": {
          "model_module": "@jupyter-widgets/controls",
          "model_module_version": "1.5.0",
          "model_name": "ProgressStyleModel",
          "state": {
            "_model_module": "@jupyter-widgets/controls",
            "_model_module_version": "1.5.0",
            "_model_name": "ProgressStyleModel",
            "_view_count": null,
            "_view_module": "@jupyter-widgets/base",
            "_view_module_version": "1.2.0",
            "_view_name": "StyleView",
            "bar_color": null,
            "description_width": ""
          }
        },
        "7efe553e7dff4f1797f04461ae3e49e8": {
          "model_module": "@jupyter-widgets/controls",
          "model_module_version": "1.5.0",
          "model_name": "HTMLModel",
          "state": {
            "_dom_classes": [],
            "_model_module": "@jupyter-widgets/controls",
            "_model_module_version": "1.5.0",
            "_model_name": "HTMLModel",
            "_view_count": null,
            "_view_module": "@jupyter-widgets/controls",
            "_view_module_version": "1.5.0",
            "_view_name": "HTMLView",
            "description": "",
            "description_tooltip": null,
            "layout": "IPY_MODEL_8f00bce8381d472bb8525e2547f0665d",
            "placeholder": "​",
            "style": "IPY_MODEL_8e031f883b994fc1ad6986c179c00a79",
            "value": "Downloading data: 100%"
          }
        },
        "82623ce80bec4c4ba93e237160dd16d3": {
          "model_module": "@jupyter-widgets/base",
          "model_module_version": "1.2.0",
          "model_name": "LayoutModel",
          "state": {
            "_model_module": "@jupyter-widgets/base",
            "_model_module_version": "1.2.0",
            "_model_name": "LayoutModel",
            "_view_count": null,
            "_view_module": "@jupyter-widgets/base",
            "_view_module_version": "1.2.0",
            "_view_name": "LayoutView",
            "align_content": null,
            "align_items": null,
            "align_self": null,
            "border": null,
            "bottom": null,
            "display": null,
            "flex": null,
            "flex_flow": null,
            "grid_area": null,
            "grid_auto_columns": null,
            "grid_auto_flow": null,
            "grid_auto_rows": null,
            "grid_column": null,
            "grid_gap": null,
            "grid_row": null,
            "grid_template_areas": null,
            "grid_template_columns": null,
            "grid_template_rows": null,
            "height": null,
            "justify_content": null,
            "justify_items": null,
            "left": null,
            "margin": null,
            "max_height": null,
            "max_width": null,
            "min_height": null,
            "min_width": null,
            "object_fit": null,
            "object_position": null,
            "order": null,
            "overflow": null,
            "overflow_x": null,
            "overflow_y": null,
            "padding": null,
            "right": null,
            "top": null,
            "visibility": null,
            "width": null
          }
        },
        "866c629ff8f345f6ab4b8408adceaec9": {
          "model_module": "@jupyter-widgets/controls",
          "model_module_version": "1.5.0",
          "model_name": "DescriptionStyleModel",
          "state": {
            "_model_module": "@jupyter-widgets/controls",
            "_model_module_version": "1.5.0",
            "_model_name": "DescriptionStyleModel",
            "_view_count": null,
            "_view_module": "@jupyter-widgets/base",
            "_view_module_version": "1.2.0",
            "_view_name": "StyleView",
            "description_width": ""
          }
        },
        "8e031f883b994fc1ad6986c179c00a79": {
          "model_module": "@jupyter-widgets/controls",
          "model_module_version": "1.5.0",
          "model_name": "DescriptionStyleModel",
          "state": {
            "_model_module": "@jupyter-widgets/controls",
            "_model_module_version": "1.5.0",
            "_model_name": "DescriptionStyleModel",
            "_view_count": null,
            "_view_module": "@jupyter-widgets/base",
            "_view_module_version": "1.2.0",
            "_view_name": "StyleView",
            "description_width": ""
          }
        },
        "8ec9c00b45944c6c985a008e01e71ade": {
          "model_module": "@jupyter-widgets/base",
          "model_module_version": "1.2.0",
          "model_name": "LayoutModel",
          "state": {
            "_model_module": "@jupyter-widgets/base",
            "_model_module_version": "1.2.0",
            "_model_name": "LayoutModel",
            "_view_count": null,
            "_view_module": "@jupyter-widgets/base",
            "_view_module_version": "1.2.0",
            "_view_name": "LayoutView",
            "align_content": null,
            "align_items": null,
            "align_self": null,
            "border": null,
            "bottom": null,
            "display": null,
            "flex": null,
            "flex_flow": null,
            "grid_area": null,
            "grid_auto_columns": null,
            "grid_auto_flow": null,
            "grid_auto_rows": null,
            "grid_column": null,
            "grid_gap": null,
            "grid_row": null,
            "grid_template_areas": null,
            "grid_template_columns": null,
            "grid_template_rows": null,
            "height": null,
            "justify_content": null,
            "justify_items": null,
            "left": null,
            "margin": null,
            "max_height": null,
            "max_width": null,
            "min_height": null,
            "min_width": null,
            "object_fit": null,
            "object_position": null,
            "order": null,
            "overflow": null,
            "overflow_x": null,
            "overflow_y": null,
            "padding": null,
            "right": null,
            "top": null,
            "visibility": null,
            "width": null
          }
        },
        "8f00bce8381d472bb8525e2547f0665d": {
          "model_module": "@jupyter-widgets/base",
          "model_module_version": "1.2.0",
          "model_name": "LayoutModel",
          "state": {
            "_model_module": "@jupyter-widgets/base",
            "_model_module_version": "1.2.0",
            "_model_name": "LayoutModel",
            "_view_count": null,
            "_view_module": "@jupyter-widgets/base",
            "_view_module_version": "1.2.0",
            "_view_name": "LayoutView",
            "align_content": null,
            "align_items": null,
            "align_self": null,
            "border": null,
            "bottom": null,
            "display": null,
            "flex": null,
            "flex_flow": null,
            "grid_area": null,
            "grid_auto_columns": null,
            "grid_auto_flow": null,
            "grid_auto_rows": null,
            "grid_column": null,
            "grid_gap": null,
            "grid_row": null,
            "grid_template_areas": null,
            "grid_template_columns": null,
            "grid_template_rows": null,
            "height": null,
            "justify_content": null,
            "justify_items": null,
            "left": null,
            "margin": null,
            "max_height": null,
            "max_width": null,
            "min_height": null,
            "min_width": null,
            "object_fit": null,
            "object_position": null,
            "order": null,
            "overflow": null,
            "overflow_x": null,
            "overflow_y": null,
            "padding": null,
            "right": null,
            "top": null,
            "visibility": null,
            "width": null
          }
        },
        "91708779bf864e3390e4d02b46ecf97e": {
          "model_module": "@jupyter-widgets/base",
          "model_module_version": "1.2.0",
          "model_name": "LayoutModel",
          "state": {
            "_model_module": "@jupyter-widgets/base",
            "_model_module_version": "1.2.0",
            "_model_name": "LayoutModel",
            "_view_count": null,
            "_view_module": "@jupyter-widgets/base",
            "_view_module_version": "1.2.0",
            "_view_name": "LayoutView",
            "align_content": null,
            "align_items": null,
            "align_self": null,
            "border": null,
            "bottom": null,
            "display": null,
            "flex": null,
            "flex_flow": null,
            "grid_area": null,
            "grid_auto_columns": null,
            "grid_auto_flow": null,
            "grid_auto_rows": null,
            "grid_column": null,
            "grid_gap": null,
            "grid_row": null,
            "grid_template_areas": null,
            "grid_template_columns": null,
            "grid_template_rows": null,
            "height": null,
            "justify_content": null,
            "justify_items": null,
            "left": null,
            "margin": null,
            "max_height": null,
            "max_width": null,
            "min_height": null,
            "min_width": null,
            "object_fit": null,
            "object_position": null,
            "order": null,
            "overflow": null,
            "overflow_x": null,
            "overflow_y": null,
            "padding": null,
            "right": null,
            "top": null,
            "visibility": null,
            "width": null
          }
        },
        "93e882e95443494da3e3c6f74a06f125": {
          "model_module": "@jupyter-widgets/controls",
          "model_module_version": "1.5.0",
          "model_name": "DescriptionStyleModel",
          "state": {
            "_model_module": "@jupyter-widgets/controls",
            "_model_module_version": "1.5.0",
            "_model_name": "DescriptionStyleModel",
            "_view_count": null,
            "_view_module": "@jupyter-widgets/base",
            "_view_module_version": "1.2.0",
            "_view_name": "StyleView",
            "description_width": ""
          }
        },
        "9cd489663a5f41f6bccf666e19de3add": {
          "model_module": "@jupyter-widgets/controls",
          "model_module_version": "1.5.0",
          "model_name": "ProgressStyleModel",
          "state": {
            "_model_module": "@jupyter-widgets/controls",
            "_model_module_version": "1.5.0",
            "_model_name": "ProgressStyleModel",
            "_view_count": null,
            "_view_module": "@jupyter-widgets/base",
            "_view_module_version": "1.2.0",
            "_view_name": "StyleView",
            "bar_color": null,
            "description_width": ""
          }
        },
        "a11f179babfa4e91a3d1c0ec4e32c61a": {
          "model_module": "@jupyter-widgets/controls",
          "model_module_version": "1.5.0",
          "model_name": "HBoxModel",
          "state": {
            "_dom_classes": [],
            "_model_module": "@jupyter-widgets/controls",
            "_model_module_version": "1.5.0",
            "_model_name": "HBoxModel",
            "_view_count": null,
            "_view_module": "@jupyter-widgets/controls",
            "_view_module_version": "1.5.0",
            "_view_name": "HBoxView",
            "box_style": "",
            "children": [
              "IPY_MODEL_c8612bcf5fc84b70881d17cf540d728b",
              "IPY_MODEL_1497cee4f1ea4c3ca44d7dde7f61f7b8",
              "IPY_MODEL_b6ed7f4349c3498088ef7c161899685c"
            ],
            "layout": "IPY_MODEL_77d7bcaaf7a045a49428a4ef7ad7cede"
          }
        },
        "a135a726cde84ed6a0a117ba1673d7f0": {
          "model_module": "@jupyter-widgets/controls",
          "model_module_version": "1.5.0",
          "model_name": "DescriptionStyleModel",
          "state": {
            "_model_module": "@jupyter-widgets/controls",
            "_model_module_version": "1.5.0",
            "_model_name": "DescriptionStyleModel",
            "_view_count": null,
            "_view_module": "@jupyter-widgets/base",
            "_view_module_version": "1.2.0",
            "_view_name": "StyleView",
            "description_width": ""
          }
        },
        "a1bd94e389c54f728bf00ab463ad94b1": {
          "model_module": "@jupyter-widgets/base",
          "model_module_version": "1.2.0",
          "model_name": "LayoutModel",
          "state": {
            "_model_module": "@jupyter-widgets/base",
            "_model_module_version": "1.2.0",
            "_model_name": "LayoutModel",
            "_view_count": null,
            "_view_module": "@jupyter-widgets/base",
            "_view_module_version": "1.2.0",
            "_view_name": "LayoutView",
            "align_content": null,
            "align_items": null,
            "align_self": null,
            "border": null,
            "bottom": null,
            "display": null,
            "flex": null,
            "flex_flow": null,
            "grid_area": null,
            "grid_auto_columns": null,
            "grid_auto_flow": null,
            "grid_auto_rows": null,
            "grid_column": null,
            "grid_gap": null,
            "grid_row": null,
            "grid_template_areas": null,
            "grid_template_columns": null,
            "grid_template_rows": null,
            "height": null,
            "justify_content": null,
            "justify_items": null,
            "left": null,
            "margin": null,
            "max_height": null,
            "max_width": null,
            "min_height": null,
            "min_width": null,
            "object_fit": null,
            "object_position": null,
            "order": null,
            "overflow": null,
            "overflow_x": null,
            "overflow_y": null,
            "padding": null,
            "right": null,
            "top": null,
            "visibility": null,
            "width": null
          }
        },
        "a698dcf1566145d78abbfde984247daa": {
          "model_module": "@jupyter-widgets/controls",
          "model_module_version": "1.5.0",
          "model_name": "DescriptionStyleModel",
          "state": {
            "_model_module": "@jupyter-widgets/controls",
            "_model_module_version": "1.5.0",
            "_model_name": "DescriptionStyleModel",
            "_view_count": null,
            "_view_module": "@jupyter-widgets/base",
            "_view_module_version": "1.2.0",
            "_view_name": "StyleView",
            "description_width": ""
          }
        },
        "ab7b2555c1c6473ca615bd69b161f41b": {
          "model_module": "@jupyter-widgets/controls",
          "model_module_version": "1.5.0",
          "model_name": "HTMLModel",
          "state": {
            "_dom_classes": [],
            "_model_module": "@jupyter-widgets/controls",
            "_model_module_version": "1.5.0",
            "_model_name": "HTMLModel",
            "_view_count": null,
            "_view_module": "@jupyter-widgets/controls",
            "_view_module_version": "1.5.0",
            "_view_name": "HTMLView",
            "description": "",
            "description_tooltip": null,
            "layout": "IPY_MODEL_d7d88ed25ace4692b63eedc49a24f97d",
            "placeholder": "​",
            "style": "IPY_MODEL_755be3a361e04a98ac7d22333e0bda0c",
            "value": " 20.5M/20.5M [00:00&lt;00:00, 25.9MB/s]"
          }
        },
        "b5be92e9e49a41ecbfb7a62a90409814": {
          "model_module": "@jupyter-widgets/controls",
          "model_module_version": "1.5.0",
          "model_name": "HTMLModel",
          "state": {
            "_dom_classes": [],
            "_model_module": "@jupyter-widgets/controls",
            "_model_module_version": "1.5.0",
            "_model_name": "HTMLModel",
            "_view_count": null,
            "_view_module": "@jupyter-widgets/controls",
            "_view_module_version": "1.5.0",
            "_view_name": "HTMLView",
            "description": "",
            "description_tooltip": null,
            "layout": "IPY_MODEL_2ee41b5f1c0744ac9a48d2c7896d7586",
            "placeholder": "​",
            "style": "IPY_MODEL_07f6c8aa04df4faa88f5c83451ed6710",
            "value": "Generating unsupervised split: 100%"
          }
        },
        "b61749220efa4e9fbc380f33f6709fc7": {
          "model_module": "@jupyter-widgets/controls",
          "model_module_version": "1.5.0",
          "model_name": "HBoxModel",
          "state": {
            "_dom_classes": [],
            "_model_module": "@jupyter-widgets/controls",
            "_model_module_version": "1.5.0",
            "_model_name": "HBoxModel",
            "_view_count": null,
            "_view_module": "@jupyter-widgets/controls",
            "_view_module_version": "1.5.0",
            "_view_name": "HBoxView",
            "box_style": "",
            "children": [
              "IPY_MODEL_53e177a3ae1f4a69adfdfe5a74a4b5d2",
              "IPY_MODEL_53089d6b5b1146c59455054deeefa8c0",
              "IPY_MODEL_3d436ab1ab6a445dbcae9ad7abf75e95"
            ],
            "layout": "IPY_MODEL_273024d41f6b4920ac070a67de168532"
          }
        },
        "b6ed7f4349c3498088ef7c161899685c": {
          "model_module": "@jupyter-widgets/controls",
          "model_module_version": "1.5.0",
          "model_name": "HTMLModel",
          "state": {
            "_dom_classes": [],
            "_model_module": "@jupyter-widgets/controls",
            "_model_module_version": "1.5.0",
            "_model_name": "HTMLModel",
            "_view_count": null,
            "_view_module": "@jupyter-widgets/controls",
            "_view_module_version": "1.5.0",
            "_view_name": "HTMLView",
            "description": "",
            "description_tooltip": null,
            "layout": "IPY_MODEL_f5d0d6d64f164d08b1688bce82544a87",
            "placeholder": "​",
            "style": "IPY_MODEL_73d177c8d99744778396fb490ce239b3",
            "value": " 25000/25000 [00:00&lt;00:00, 72116.63 examples/s]"
          }
        },
        "b9e1d40402bf4aee9b86ff44e8a02907": {
          "model_module": "@jupyter-widgets/base",
          "model_module_version": "1.2.0",
          "model_name": "LayoutModel",
          "state": {
            "_model_module": "@jupyter-widgets/base",
            "_model_module_version": "1.2.0",
            "_model_name": "LayoutModel",
            "_view_count": null,
            "_view_module": "@jupyter-widgets/base",
            "_view_module_version": "1.2.0",
            "_view_name": "LayoutView",
            "align_content": null,
            "align_items": null,
            "align_self": null,
            "border": null,
            "bottom": null,
            "display": null,
            "flex": null,
            "flex_flow": null,
            "grid_area": null,
            "grid_auto_columns": null,
            "grid_auto_flow": null,
            "grid_auto_rows": null,
            "grid_column": null,
            "grid_gap": null,
            "grid_row": null,
            "grid_template_areas": null,
            "grid_template_columns": null,
            "grid_template_rows": null,
            "height": null,
            "justify_content": null,
            "justify_items": null,
            "left": null,
            "margin": null,
            "max_height": null,
            "max_width": null,
            "min_height": null,
            "min_width": null,
            "object_fit": null,
            "object_position": null,
            "order": null,
            "overflow": null,
            "overflow_x": null,
            "overflow_y": null,
            "padding": null,
            "right": null,
            "top": null,
            "visibility": null,
            "width": null
          }
        },
        "ba101e7fdd5b4c6c8e60a954f71eb317": {
          "model_module": "@jupyter-widgets/base",
          "model_module_version": "1.2.0",
          "model_name": "LayoutModel",
          "state": {
            "_model_module": "@jupyter-widgets/base",
            "_model_module_version": "1.2.0",
            "_model_name": "LayoutModel",
            "_view_count": null,
            "_view_module": "@jupyter-widgets/base",
            "_view_module_version": "1.2.0",
            "_view_name": "LayoutView",
            "align_content": null,
            "align_items": null,
            "align_self": null,
            "border": null,
            "bottom": null,
            "display": null,
            "flex": null,
            "flex_flow": null,
            "grid_area": null,
            "grid_auto_columns": null,
            "grid_auto_flow": null,
            "grid_auto_rows": null,
            "grid_column": null,
            "grid_gap": null,
            "grid_row": null,
            "grid_template_areas": null,
            "grid_template_columns": null,
            "grid_template_rows": null,
            "height": null,
            "justify_content": null,
            "justify_items": null,
            "left": null,
            "margin": null,
            "max_height": null,
            "max_width": null,
            "min_height": null,
            "min_width": null,
            "object_fit": null,
            "object_position": null,
            "order": null,
            "overflow": null,
            "overflow_x": null,
            "overflow_y": null,
            "padding": null,
            "right": null,
            "top": null,
            "visibility": null,
            "width": null
          }
        },
        "bbdbaededdaf4eb1a0ac879730eecbec": {
          "model_module": "@jupyter-widgets/base",
          "model_module_version": "1.2.0",
          "model_name": "LayoutModel",
          "state": {
            "_model_module": "@jupyter-widgets/base",
            "_model_module_version": "1.2.0",
            "_model_name": "LayoutModel",
            "_view_count": null,
            "_view_module": "@jupyter-widgets/base",
            "_view_module_version": "1.2.0",
            "_view_name": "LayoutView",
            "align_content": null,
            "align_items": null,
            "align_self": null,
            "border": null,
            "bottom": null,
            "display": null,
            "flex": null,
            "flex_flow": null,
            "grid_area": null,
            "grid_auto_columns": null,
            "grid_auto_flow": null,
            "grid_auto_rows": null,
            "grid_column": null,
            "grid_gap": null,
            "grid_row": null,
            "grid_template_areas": null,
            "grid_template_columns": null,
            "grid_template_rows": null,
            "height": null,
            "justify_content": null,
            "justify_items": null,
            "left": null,
            "margin": null,
            "max_height": null,
            "max_width": null,
            "min_height": null,
            "min_width": null,
            "object_fit": null,
            "object_position": null,
            "order": null,
            "overflow": null,
            "overflow_x": null,
            "overflow_y": null,
            "padding": null,
            "right": null,
            "top": null,
            "visibility": null,
            "width": null
          }
        },
        "bce6adb46b944a1ea28a52571a495a42": {
          "model_module": "@jupyter-widgets/controls",
          "model_module_version": "1.5.0",
          "model_name": "HBoxModel",
          "state": {
            "_dom_classes": [],
            "_model_module": "@jupyter-widgets/controls",
            "_model_module_version": "1.5.0",
            "_model_name": "HBoxModel",
            "_view_count": null,
            "_view_module": "@jupyter-widgets/controls",
            "_view_module_version": "1.5.0",
            "_view_name": "HBoxView",
            "box_style": "",
            "children": [
              "IPY_MODEL_51e7d816e5a74c54b2684ce7f06d166b",
              "IPY_MODEL_5386a1b1bf314ebda555512222047271",
              "IPY_MODEL_c04c12cc6dcc44d58f00f7a1b02cc267"
            ],
            "layout": "IPY_MODEL_c7e478c9d0f54b9ba78d0a0a94220e9a"
          }
        },
        "be3631809c4048d8a0f7a086acd0a540": {
          "model_module": "@jupyter-widgets/controls",
          "model_module_version": "1.5.0",
          "model_name": "HBoxModel",
          "state": {
            "_dom_classes": [],
            "_model_module": "@jupyter-widgets/controls",
            "_model_module_version": "1.5.0",
            "_model_name": "HBoxModel",
            "_view_count": null,
            "_view_module": "@jupyter-widgets/controls",
            "_view_module_version": "1.5.0",
            "_view_name": "HBoxView",
            "box_style": "",
            "children": [
              "IPY_MODEL_7efe553e7dff4f1797f04461ae3e49e8",
              "IPY_MODEL_1ec806394b484b7999f54afee2800063",
              "IPY_MODEL_ab7b2555c1c6473ca615bd69b161f41b"
            ],
            "layout": "IPY_MODEL_f76f7656c08046bb8c598ad4591740ce"
          }
        },
        "c04c12cc6dcc44d58f00f7a1b02cc267": {
          "model_module": "@jupyter-widgets/controls",
          "model_module_version": "1.5.0",
          "model_name": "HTMLModel",
          "state": {
            "_dom_classes": [],
            "_model_module": "@jupyter-widgets/controls",
            "_model_module_version": "1.5.0",
            "_model_name": "HTMLModel",
            "_view_count": null,
            "_view_module": "@jupyter-widgets/controls",
            "_view_module_version": "1.5.0",
            "_view_name": "HTMLView",
            "description": "",
            "description_tooltip": null,
            "layout": "IPY_MODEL_d234fcdf196d486991f594618023db00",
            "placeholder": "​",
            "style": "IPY_MODEL_a698dcf1566145d78abbfde984247daa",
            "value": " 25000/25000 [00:00&lt;00:00, 70520.11 examples/s]"
          }
        },
        "c0a7ecc906c1417ca0a959cdb77860f4": {
          "model_module": "@jupyter-widgets/base",
          "model_module_version": "1.2.0",
          "model_name": "LayoutModel",
          "state": {
            "_model_module": "@jupyter-widgets/base",
            "_model_module_version": "1.2.0",
            "_model_name": "LayoutModel",
            "_view_count": null,
            "_view_module": "@jupyter-widgets/base",
            "_view_module_version": "1.2.0",
            "_view_name": "LayoutView",
            "align_content": null,
            "align_items": null,
            "align_self": null,
            "border": null,
            "bottom": null,
            "display": null,
            "flex": null,
            "flex_flow": null,
            "grid_area": null,
            "grid_auto_columns": null,
            "grid_auto_flow": null,
            "grid_auto_rows": null,
            "grid_column": null,
            "grid_gap": null,
            "grid_row": null,
            "grid_template_areas": null,
            "grid_template_columns": null,
            "grid_template_rows": null,
            "height": null,
            "justify_content": null,
            "justify_items": null,
            "left": null,
            "margin": null,
            "max_height": null,
            "max_width": null,
            "min_height": null,
            "min_width": null,
            "object_fit": null,
            "object_position": null,
            "order": null,
            "overflow": null,
            "overflow_x": null,
            "overflow_y": null,
            "padding": null,
            "right": null,
            "top": null,
            "visibility": null,
            "width": null
          }
        },
        "c3c4d980ff4a4d48a4471ae7a2482f58": {
          "model_module": "@jupyter-widgets/controls",
          "model_module_version": "1.5.0",
          "model_name": "DescriptionStyleModel",
          "state": {
            "_model_module": "@jupyter-widgets/controls",
            "_model_module_version": "1.5.0",
            "_model_name": "DescriptionStyleModel",
            "_view_count": null,
            "_view_module": "@jupyter-widgets/base",
            "_view_module_version": "1.2.0",
            "_view_name": "StyleView",
            "description_width": ""
          }
        },
        "c64b95b45ee14583b46d58535885548d": {
          "model_module": "@jupyter-widgets/base",
          "model_module_version": "1.2.0",
          "model_name": "LayoutModel",
          "state": {
            "_model_module": "@jupyter-widgets/base",
            "_model_module_version": "1.2.0",
            "_model_name": "LayoutModel",
            "_view_count": null,
            "_view_module": "@jupyter-widgets/base",
            "_view_module_version": "1.2.0",
            "_view_name": "LayoutView",
            "align_content": null,
            "align_items": null,
            "align_self": null,
            "border": null,
            "bottom": null,
            "display": null,
            "flex": null,
            "flex_flow": null,
            "grid_area": null,
            "grid_auto_columns": null,
            "grid_auto_flow": null,
            "grid_auto_rows": null,
            "grid_column": null,
            "grid_gap": null,
            "grid_row": null,
            "grid_template_areas": null,
            "grid_template_columns": null,
            "grid_template_rows": null,
            "height": null,
            "justify_content": null,
            "justify_items": null,
            "left": null,
            "margin": null,
            "max_height": null,
            "max_width": null,
            "min_height": null,
            "min_width": null,
            "object_fit": null,
            "object_position": null,
            "order": null,
            "overflow": null,
            "overflow_x": null,
            "overflow_y": null,
            "padding": null,
            "right": null,
            "top": null,
            "visibility": null,
            "width": null
          }
        },
        "c7e478c9d0f54b9ba78d0a0a94220e9a": {
          "model_module": "@jupyter-widgets/base",
          "model_module_version": "1.2.0",
          "model_name": "LayoutModel",
          "state": {
            "_model_module": "@jupyter-widgets/base",
            "_model_module_version": "1.2.0",
            "_model_name": "LayoutModel",
            "_view_count": null,
            "_view_module": "@jupyter-widgets/base",
            "_view_module_version": "1.2.0",
            "_view_name": "LayoutView",
            "align_content": null,
            "align_items": null,
            "align_self": null,
            "border": null,
            "bottom": null,
            "display": null,
            "flex": null,
            "flex_flow": null,
            "grid_area": null,
            "grid_auto_columns": null,
            "grid_auto_flow": null,
            "grid_auto_rows": null,
            "grid_column": null,
            "grid_gap": null,
            "grid_row": null,
            "grid_template_areas": null,
            "grid_template_columns": null,
            "grid_template_rows": null,
            "height": null,
            "justify_content": null,
            "justify_items": null,
            "left": null,
            "margin": null,
            "max_height": null,
            "max_width": null,
            "min_height": null,
            "min_width": null,
            "object_fit": null,
            "object_position": null,
            "order": null,
            "overflow": null,
            "overflow_x": null,
            "overflow_y": null,
            "padding": null,
            "right": null,
            "top": null,
            "visibility": null,
            "width": null
          }
        },
        "c8612bcf5fc84b70881d17cf540d728b": {
          "model_module": "@jupyter-widgets/controls",
          "model_module_version": "1.5.0",
          "model_name": "HTMLModel",
          "state": {
            "_dom_classes": [],
            "_model_module": "@jupyter-widgets/controls",
            "_model_module_version": "1.5.0",
            "_model_name": "HTMLModel",
            "_view_count": null,
            "_view_module": "@jupyter-widgets/controls",
            "_view_module_version": "1.5.0",
            "_view_name": "HTMLView",
            "description": "",
            "description_tooltip": null,
            "layout": "IPY_MODEL_b9e1d40402bf4aee9b86ff44e8a02907",
            "placeholder": "​",
            "style": "IPY_MODEL_4c19c0dfbf364490a952261165fa411f",
            "value": "Generating test split: 100%"
          }
        },
        "c8c6079049ec4b238c14a4bc2cce1737": {
          "model_module": "@jupyter-widgets/base",
          "model_module_version": "1.2.0",
          "model_name": "LayoutModel",
          "state": {
            "_model_module": "@jupyter-widgets/base",
            "_model_module_version": "1.2.0",
            "_model_name": "LayoutModel",
            "_view_count": null,
            "_view_module": "@jupyter-widgets/base",
            "_view_module_version": "1.2.0",
            "_view_name": "LayoutView",
            "align_content": null,
            "align_items": null,
            "align_self": null,
            "border": null,
            "bottom": null,
            "display": null,
            "flex": null,
            "flex_flow": null,
            "grid_area": null,
            "grid_auto_columns": null,
            "grid_auto_flow": null,
            "grid_auto_rows": null,
            "grid_column": null,
            "grid_gap": null,
            "grid_row": null,
            "grid_template_areas": null,
            "grid_template_columns": null,
            "grid_template_rows": null,
            "height": null,
            "justify_content": null,
            "justify_items": null,
            "left": null,
            "margin": null,
            "max_height": null,
            "max_width": null,
            "min_height": null,
            "min_width": null,
            "object_fit": null,
            "object_position": null,
            "order": null,
            "overflow": null,
            "overflow_x": null,
            "overflow_y": null,
            "padding": null,
            "right": null,
            "top": null,
            "visibility": null,
            "width": null
          }
        },
        "cbd4b84b67e14d5d8c85afd284dd5518": {
          "model_module": "@jupyter-widgets/base",
          "model_module_version": "1.2.0",
          "model_name": "LayoutModel",
          "state": {
            "_model_module": "@jupyter-widgets/base",
            "_model_module_version": "1.2.0",
            "_model_name": "LayoutModel",
            "_view_count": null,
            "_view_module": "@jupyter-widgets/base",
            "_view_module_version": "1.2.0",
            "_view_name": "LayoutView",
            "align_content": null,
            "align_items": null,
            "align_self": null,
            "border": null,
            "bottom": null,
            "display": null,
            "flex": null,
            "flex_flow": null,
            "grid_area": null,
            "grid_auto_columns": null,
            "grid_auto_flow": null,
            "grid_auto_rows": null,
            "grid_column": null,
            "grid_gap": null,
            "grid_row": null,
            "grid_template_areas": null,
            "grid_template_columns": null,
            "grid_template_rows": null,
            "height": null,
            "justify_content": null,
            "justify_items": null,
            "left": null,
            "margin": null,
            "max_height": null,
            "max_width": null,
            "min_height": null,
            "min_width": null,
            "object_fit": null,
            "object_position": null,
            "order": null,
            "overflow": null,
            "overflow_x": null,
            "overflow_y": null,
            "padding": null,
            "right": null,
            "top": null,
            "visibility": null,
            "width": null
          }
        },
        "d234fcdf196d486991f594618023db00": {
          "model_module": "@jupyter-widgets/base",
          "model_module_version": "1.2.0",
          "model_name": "LayoutModel",
          "state": {
            "_model_module": "@jupyter-widgets/base",
            "_model_module_version": "1.2.0",
            "_model_name": "LayoutModel",
            "_view_count": null,
            "_view_module": "@jupyter-widgets/base",
            "_view_module_version": "1.2.0",
            "_view_name": "LayoutView",
            "align_content": null,
            "align_items": null,
            "align_self": null,
            "border": null,
            "bottom": null,
            "display": null,
            "flex": null,
            "flex_flow": null,
            "grid_area": null,
            "grid_auto_columns": null,
            "grid_auto_flow": null,
            "grid_auto_rows": null,
            "grid_column": null,
            "grid_gap": null,
            "grid_row": null,
            "grid_template_areas": null,
            "grid_template_columns": null,
            "grid_template_rows": null,
            "height": null,
            "justify_content": null,
            "justify_items": null,
            "left": null,
            "margin": null,
            "max_height": null,
            "max_width": null,
            "min_height": null,
            "min_width": null,
            "object_fit": null,
            "object_position": null,
            "order": null,
            "overflow": null,
            "overflow_x": null,
            "overflow_y": null,
            "padding": null,
            "right": null,
            "top": null,
            "visibility": null,
            "width": null
          }
        },
        "d71bd10ca8794442978d2722d4ab2382": {
          "model_module": "@jupyter-widgets/controls",
          "model_module_version": "1.5.0",
          "model_name": "HTMLModel",
          "state": {
            "_dom_classes": [],
            "_model_module": "@jupyter-widgets/controls",
            "_model_module_version": "1.5.0",
            "_model_name": "HTMLModel",
            "_view_count": null,
            "_view_module": "@jupyter-widgets/controls",
            "_view_module_version": "1.5.0",
            "_view_name": "HTMLView",
            "description": "",
            "description_tooltip": null,
            "layout": "IPY_MODEL_cbd4b84b67e14d5d8c85afd284dd5518",
            "placeholder": "​",
            "style": "IPY_MODEL_866c629ff8f345f6ab4b8408adceaec9",
            "value": "Downloading data: 100%"
          }
        },
        "d7d88ed25ace4692b63eedc49a24f97d": {
          "model_module": "@jupyter-widgets/base",
          "model_module_version": "1.2.0",
          "model_name": "LayoutModel",
          "state": {
            "_model_module": "@jupyter-widgets/base",
            "_model_module_version": "1.2.0",
            "_model_name": "LayoutModel",
            "_view_count": null,
            "_view_module": "@jupyter-widgets/base",
            "_view_module_version": "1.2.0",
            "_view_name": "LayoutView",
            "align_content": null,
            "align_items": null,
            "align_self": null,
            "border": null,
            "bottom": null,
            "display": null,
            "flex": null,
            "flex_flow": null,
            "grid_area": null,
            "grid_auto_columns": null,
            "grid_auto_flow": null,
            "grid_auto_rows": null,
            "grid_column": null,
            "grid_gap": null,
            "grid_row": null,
            "grid_template_areas": null,
            "grid_template_columns": null,
            "grid_template_rows": null,
            "height": null,
            "justify_content": null,
            "justify_items": null,
            "left": null,
            "margin": null,
            "max_height": null,
            "max_width": null,
            "min_height": null,
            "min_width": null,
            "object_fit": null,
            "object_position": null,
            "order": null,
            "overflow": null,
            "overflow_x": null,
            "overflow_y": null,
            "padding": null,
            "right": null,
            "top": null,
            "visibility": null,
            "width": null
          }
        },
        "dba8f5ea7f4d455687d8513f84269c78": {
          "model_module": "@jupyter-widgets/base",
          "model_module_version": "1.2.0",
          "model_name": "LayoutModel",
          "state": {
            "_model_module": "@jupyter-widgets/base",
            "_model_module_version": "1.2.0",
            "_model_name": "LayoutModel",
            "_view_count": null,
            "_view_module": "@jupyter-widgets/base",
            "_view_module_version": "1.2.0",
            "_view_name": "LayoutView",
            "align_content": null,
            "align_items": null,
            "align_self": null,
            "border": null,
            "bottom": null,
            "display": null,
            "flex": null,
            "flex_flow": null,
            "grid_area": null,
            "grid_auto_columns": null,
            "grid_auto_flow": null,
            "grid_auto_rows": null,
            "grid_column": null,
            "grid_gap": null,
            "grid_row": null,
            "grid_template_areas": null,
            "grid_template_columns": null,
            "grid_template_rows": null,
            "height": null,
            "justify_content": null,
            "justify_items": null,
            "left": null,
            "margin": null,
            "max_height": null,
            "max_width": null,
            "min_height": null,
            "min_width": null,
            "object_fit": null,
            "object_position": null,
            "order": null,
            "overflow": null,
            "overflow_x": null,
            "overflow_y": null,
            "padding": null,
            "right": null,
            "top": null,
            "visibility": null,
            "width": null
          }
        },
        "dc78c0bad2b546c1883678554479c50d": {
          "model_module": "@jupyter-widgets/base",
          "model_module_version": "1.2.0",
          "model_name": "LayoutModel",
          "state": {
            "_model_module": "@jupyter-widgets/base",
            "_model_module_version": "1.2.0",
            "_model_name": "LayoutModel",
            "_view_count": null,
            "_view_module": "@jupyter-widgets/base",
            "_view_module_version": "1.2.0",
            "_view_name": "LayoutView",
            "align_content": null,
            "align_items": null,
            "align_self": null,
            "border": null,
            "bottom": null,
            "display": null,
            "flex": null,
            "flex_flow": null,
            "grid_area": null,
            "grid_auto_columns": null,
            "grid_auto_flow": null,
            "grid_auto_rows": null,
            "grid_column": null,
            "grid_gap": null,
            "grid_row": null,
            "grid_template_areas": null,
            "grid_template_columns": null,
            "grid_template_rows": null,
            "height": null,
            "justify_content": null,
            "justify_items": null,
            "left": null,
            "margin": null,
            "max_height": null,
            "max_width": null,
            "min_height": null,
            "min_width": null,
            "object_fit": null,
            "object_position": null,
            "order": null,
            "overflow": null,
            "overflow_x": null,
            "overflow_y": null,
            "padding": null,
            "right": null,
            "top": null,
            "visibility": null,
            "width": null
          }
        },
        "e22bda6d28534fe188ac3778272cbe5b": {
          "model_module": "@jupyter-widgets/controls",
          "model_module_version": "1.5.0",
          "model_name": "ProgressStyleModel",
          "state": {
            "_model_module": "@jupyter-widgets/controls",
            "_model_module_version": "1.5.0",
            "_model_name": "ProgressStyleModel",
            "_view_count": null,
            "_view_module": "@jupyter-widgets/base",
            "_view_module_version": "1.2.0",
            "_view_name": "StyleView",
            "bar_color": null,
            "description_width": ""
          }
        },
        "e75a1003331f472f8a5a473d617a733c": {
          "model_module": "@jupyter-widgets/base",
          "model_module_version": "1.2.0",
          "model_name": "LayoutModel",
          "state": {
            "_model_module": "@jupyter-widgets/base",
            "_model_module_version": "1.2.0",
            "_model_name": "LayoutModel",
            "_view_count": null,
            "_view_module": "@jupyter-widgets/base",
            "_view_module_version": "1.2.0",
            "_view_name": "LayoutView",
            "align_content": null,
            "align_items": null,
            "align_self": null,
            "border": null,
            "bottom": null,
            "display": null,
            "flex": null,
            "flex_flow": null,
            "grid_area": null,
            "grid_auto_columns": null,
            "grid_auto_flow": null,
            "grid_auto_rows": null,
            "grid_column": null,
            "grid_gap": null,
            "grid_row": null,
            "grid_template_areas": null,
            "grid_template_columns": null,
            "grid_template_rows": null,
            "height": null,
            "justify_content": null,
            "justify_items": null,
            "left": null,
            "margin": null,
            "max_height": null,
            "max_width": null,
            "min_height": null,
            "min_width": null,
            "object_fit": null,
            "object_position": null,
            "order": null,
            "overflow": null,
            "overflow_x": null,
            "overflow_y": null,
            "padding": null,
            "right": null,
            "top": null,
            "visibility": null,
            "width": null
          }
        },
        "e923e8fba9554f60a622a9957df0cad9": {
          "model_module": "@jupyter-widgets/controls",
          "model_module_version": "1.5.0",
          "model_name": "DescriptionStyleModel",
          "state": {
            "_model_module": "@jupyter-widgets/controls",
            "_model_module_version": "1.5.0",
            "_model_name": "DescriptionStyleModel",
            "_view_count": null,
            "_view_module": "@jupyter-widgets/base",
            "_view_module_version": "1.2.0",
            "_view_name": "StyleView",
            "description_width": ""
          }
        },
        "f51e4a048cbb4b1a94d4735751c8cf26": {
          "model_module": "@jupyter-widgets/controls",
          "model_module_version": "1.5.0",
          "model_name": "ProgressStyleModel",
          "state": {
            "_model_module": "@jupyter-widgets/controls",
            "_model_module_version": "1.5.0",
            "_model_name": "ProgressStyleModel",
            "_view_count": null,
            "_view_module": "@jupyter-widgets/base",
            "_view_module_version": "1.2.0",
            "_view_name": "StyleView",
            "bar_color": null,
            "description_width": ""
          }
        },
        "f5d0d6d64f164d08b1688bce82544a87": {
          "model_module": "@jupyter-widgets/base",
          "model_module_version": "1.2.0",
          "model_name": "LayoutModel",
          "state": {
            "_model_module": "@jupyter-widgets/base",
            "_model_module_version": "1.2.0",
            "_model_name": "LayoutModel",
            "_view_count": null,
            "_view_module": "@jupyter-widgets/base",
            "_view_module_version": "1.2.0",
            "_view_name": "LayoutView",
            "align_content": null,
            "align_items": null,
            "align_self": null,
            "border": null,
            "bottom": null,
            "display": null,
            "flex": null,
            "flex_flow": null,
            "grid_area": null,
            "grid_auto_columns": null,
            "grid_auto_flow": null,
            "grid_auto_rows": null,
            "grid_column": null,
            "grid_gap": null,
            "grid_row": null,
            "grid_template_areas": null,
            "grid_template_columns": null,
            "grid_template_rows": null,
            "height": null,
            "justify_content": null,
            "justify_items": null,
            "left": null,
            "margin": null,
            "max_height": null,
            "max_width": null,
            "min_height": null,
            "min_width": null,
            "object_fit": null,
            "object_position": null,
            "order": null,
            "overflow": null,
            "overflow_x": null,
            "overflow_y": null,
            "padding": null,
            "right": null,
            "top": null,
            "visibility": null,
            "width": null
          }
        },
        "f76f7656c08046bb8c598ad4591740ce": {
          "model_module": "@jupyter-widgets/base",
          "model_module_version": "1.2.0",
          "model_name": "LayoutModel",
          "state": {
            "_model_module": "@jupyter-widgets/base",
            "_model_module_version": "1.2.0",
            "_model_name": "LayoutModel",
            "_view_count": null,
            "_view_module": "@jupyter-widgets/base",
            "_view_module_version": "1.2.0",
            "_view_name": "LayoutView",
            "align_content": null,
            "align_items": null,
            "align_self": null,
            "border": null,
            "bottom": null,
            "display": null,
            "flex": null,
            "flex_flow": null,
            "grid_area": null,
            "grid_auto_columns": null,
            "grid_auto_flow": null,
            "grid_auto_rows": null,
            "grid_column": null,
            "grid_gap": null,
            "grid_row": null,
            "grid_template_areas": null,
            "grid_template_columns": null,
            "grid_template_rows": null,
            "height": null,
            "justify_content": null,
            "justify_items": null,
            "left": null,
            "margin": null,
            "max_height": null,
            "max_width": null,
            "min_height": null,
            "min_width": null,
            "object_fit": null,
            "object_position": null,
            "order": null,
            "overflow": null,
            "overflow_x": null,
            "overflow_y": null,
            "padding": null,
            "right": null,
            "top": null,
            "visibility": null,
            "width": null
          }
        },
        "f8827ff83dcc4977a81843ab183fef96": {
          "model_module": "@jupyter-widgets/controls",
          "model_module_version": "1.5.0",
          "model_name": "ProgressStyleModel",
          "state": {
            "_model_module": "@jupyter-widgets/controls",
            "_model_module_version": "1.5.0",
            "_model_name": "ProgressStyleModel",
            "_view_count": null,
            "_view_module": "@jupyter-widgets/base",
            "_view_module_version": "1.2.0",
            "_view_name": "StyleView",
            "bar_color": null,
            "description_width": ""
          }
        },
        "ff19015e42f94c759c84a33b70b141bb": {
          "model_module": "@jupyter-widgets/base",
          "model_module_version": "1.2.0",
          "model_name": "LayoutModel",
          "state": {
            "_model_module": "@jupyter-widgets/base",
            "_model_module_version": "1.2.0",
            "_model_name": "LayoutModel",
            "_view_count": null,
            "_view_module": "@jupyter-widgets/base",
            "_view_module_version": "1.2.0",
            "_view_name": "LayoutView",
            "align_content": null,
            "align_items": null,
            "align_self": null,
            "border": null,
            "bottom": null,
            "display": null,
            "flex": null,
            "flex_flow": null,
            "grid_area": null,
            "grid_auto_columns": null,
            "grid_auto_flow": null,
            "grid_auto_rows": null,
            "grid_column": null,
            "grid_gap": null,
            "grid_row": null,
            "grid_template_areas": null,
            "grid_template_columns": null,
            "grid_template_rows": null,
            "height": null,
            "justify_content": null,
            "justify_items": null,
            "left": null,
            "margin": null,
            "max_height": null,
            "max_width": null,
            "min_height": null,
            "min_width": null,
            "object_fit": null,
            "object_position": null,
            "order": null,
            "overflow": null,
            "overflow_x": null,
            "overflow_y": null,
            "padding": null,
            "right": null,
            "top": null,
            "visibility": null,
            "width": null
          }
        }
      }
    }
  },
  "nbformat": 4,
  "nbformat_minor": 0
}
