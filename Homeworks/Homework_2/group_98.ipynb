{
  "cells": [
    {
      "cell_type": "markdown",
      "metadata": {
        "id": "UfOnbLPD2JYv"
      },
      "source": [
        "# **HOMEWORK 2**\n",
        "\n",
        "*   **Run following cells to mount drive and import all necessary dependencies**"
      ]
    },
    {
      "cell_type": "code",
      "execution_count": 2,
      "metadata": {
        "colab": {
          "base_uri": "https://localhost:8080/"
        },
        "id": "5BSIpesS1VEU",
        "outputId": "b0896869-2447-4872-cea2-41ecd2e061a1"
      },
      "outputs": [],
      "source": [
        "# Mount Drive\n",
        "#from google.colab import drive\n",
        "#drive.mount('/content/drive')\n",
        "\n",
        "# path to store the data\n",
        "#%cd /content/drive/My Drive/DL4NLP_2024/"
      ]
    },
    {
      "cell_type": "code",
      "execution_count": 3,
      "metadata": {
        "colab": {
          "base_uri": "https://localhost:8080/"
        },
        "id": "Ckq7h5991eB8",
        "outputId": "40f55418-e2e9-4911-dd24-6a3dec748884"
      },
      "outputs": [
        {
          "name": "stdout",
          "output_type": "stream",
          "text": [
            "Requirement already satisfied: datasets in /Users/julian.steiner/.virtualenvs/deep-learning-for-natural-language-processing/lib/python3.11/site-packages (2.19.1)\n",
            "Requirement already satisfied: filelock in /Users/julian.steiner/.virtualenvs/deep-learning-for-natural-language-processing/lib/python3.11/site-packages (from datasets) (3.14.0)\n",
            "Requirement already satisfied: numpy>=1.17 in /Users/julian.steiner/.virtualenvs/deep-learning-for-natural-language-processing/lib/python3.11/site-packages (from datasets) (1.26.4)\n",
            "Requirement already satisfied: pyarrow>=12.0.0 in /Users/julian.steiner/.virtualenvs/deep-learning-for-natural-language-processing/lib/python3.11/site-packages (from datasets) (16.1.0)\n",
            "Requirement already satisfied: pyarrow-hotfix in /Users/julian.steiner/.virtualenvs/deep-learning-for-natural-language-processing/lib/python3.11/site-packages (from datasets) (0.6)\n",
            "Requirement already satisfied: dill<0.3.9,>=0.3.0 in /Users/julian.steiner/.virtualenvs/deep-learning-for-natural-language-processing/lib/python3.11/site-packages (from datasets) (0.3.8)\n",
            "Requirement already satisfied: pandas in /Users/julian.steiner/.virtualenvs/deep-learning-for-natural-language-processing/lib/python3.11/site-packages (from datasets) (2.2.2)\n",
            "Requirement already satisfied: requests>=2.19.0 in /Users/julian.steiner/.virtualenvs/deep-learning-for-natural-language-processing/lib/python3.11/site-packages (from datasets) (2.32.2)\n",
            "Requirement already satisfied: tqdm>=4.62.1 in /Users/julian.steiner/.virtualenvs/deep-learning-for-natural-language-processing/lib/python3.11/site-packages (from datasets) (4.66.4)\n",
            "Requirement already satisfied: xxhash in /Users/julian.steiner/.virtualenvs/deep-learning-for-natural-language-processing/lib/python3.11/site-packages (from datasets) (3.4.1)\n",
            "Requirement already satisfied: multiprocess in /Users/julian.steiner/.virtualenvs/deep-learning-for-natural-language-processing/lib/python3.11/site-packages (from datasets) (0.70.16)\n",
            "Requirement already satisfied: fsspec<=2024.3.1,>=2023.1.0 in /Users/julian.steiner/.virtualenvs/deep-learning-for-natural-language-processing/lib/python3.11/site-packages (from fsspec[http]<=2024.3.1,>=2023.1.0->datasets) (2024.3.1)\n",
            "Requirement already satisfied: aiohttp in /Users/julian.steiner/.virtualenvs/deep-learning-for-natural-language-processing/lib/python3.11/site-packages (from datasets) (3.9.5)\n",
            "Requirement already satisfied: huggingface-hub>=0.21.2 in /Users/julian.steiner/.virtualenvs/deep-learning-for-natural-language-processing/lib/python3.11/site-packages (from datasets) (0.23.2)\n",
            "Requirement already satisfied: packaging in /Users/julian.steiner/.virtualenvs/deep-learning-for-natural-language-processing/lib/python3.11/site-packages (from datasets) (24.0)\n",
            "Requirement already satisfied: pyyaml>=5.1 in /Users/julian.steiner/.virtualenvs/deep-learning-for-natural-language-processing/lib/python3.11/site-packages (from datasets) (6.0.1)\n",
            "Requirement already satisfied: aiosignal>=1.1.2 in /Users/julian.steiner/.virtualenvs/deep-learning-for-natural-language-processing/lib/python3.11/site-packages (from aiohttp->datasets) (1.3.1)\n",
            "Requirement already satisfied: attrs>=17.3.0 in /Users/julian.steiner/.virtualenvs/deep-learning-for-natural-language-processing/lib/python3.11/site-packages (from aiohttp->datasets) (23.2.0)\n",
            "Requirement already satisfied: frozenlist>=1.1.1 in /Users/julian.steiner/.virtualenvs/deep-learning-for-natural-language-processing/lib/python3.11/site-packages (from aiohttp->datasets) (1.4.1)\n",
            "Requirement already satisfied: multidict<7.0,>=4.5 in /Users/julian.steiner/.virtualenvs/deep-learning-for-natural-language-processing/lib/python3.11/site-packages (from aiohttp->datasets) (6.0.5)\n",
            "Requirement already satisfied: yarl<2.0,>=1.0 in /Users/julian.steiner/.virtualenvs/deep-learning-for-natural-language-processing/lib/python3.11/site-packages (from aiohttp->datasets) (1.9.4)\n",
            "Requirement already satisfied: typing-extensions>=3.7.4.3 in /Users/julian.steiner/.virtualenvs/deep-learning-for-natural-language-processing/lib/python3.11/site-packages (from huggingface-hub>=0.21.2->datasets) (4.11.0)\n",
            "Requirement already satisfied: charset-normalizer<4,>=2 in /Users/julian.steiner/.virtualenvs/deep-learning-for-natural-language-processing/lib/python3.11/site-packages (from requests>=2.19.0->datasets) (3.3.2)\n",
            "Requirement already satisfied: idna<4,>=2.5 in /Users/julian.steiner/.virtualenvs/deep-learning-for-natural-language-processing/lib/python3.11/site-packages (from requests>=2.19.0->datasets) (3.7)\n",
            "Requirement already satisfied: urllib3<3,>=1.21.1 in /Users/julian.steiner/.virtualenvs/deep-learning-for-natural-language-processing/lib/python3.11/site-packages (from requests>=2.19.0->datasets) (2.2.1)\n",
            "Requirement already satisfied: certifi>=2017.4.17 in /Users/julian.steiner/.virtualenvs/deep-learning-for-natural-language-processing/lib/python3.11/site-packages (from requests>=2.19.0->datasets) (2024.2.2)\n",
            "Requirement already satisfied: python-dateutil>=2.8.2 in /Users/julian.steiner/.virtualenvs/deep-learning-for-natural-language-processing/lib/python3.11/site-packages (from pandas->datasets) (2.9.0.post0)\n",
            "Requirement already satisfied: pytz>=2020.1 in /Users/julian.steiner/.virtualenvs/deep-learning-for-natural-language-processing/lib/python3.11/site-packages (from pandas->datasets) (2024.1)\n",
            "Requirement already satisfied: tzdata>=2022.7 in /Users/julian.steiner/.virtualenvs/deep-learning-for-natural-language-processing/lib/python3.11/site-packages (from pandas->datasets) (2024.1)\n",
            "Requirement already satisfied: six>=1.5 in /Users/julian.steiner/.virtualenvs/deep-learning-for-natural-language-processing/lib/python3.11/site-packages (from python-dateutil>=2.8.2->pandas->datasets) (1.16.0)\n"
          ]
        },
        {
          "name": "stderr",
          "output_type": "stream",
          "text": [
            "/Users/julian.steiner/.virtualenvs/deep-learning-for-natural-language-processing/lib/python3.11/site-packages/tqdm/auto.py:21: TqdmWarning: IProgress not found. Please update jupyter and ipywidgets. See https://ipywidgets.readthedocs.io/en/stable/user_install.html\n",
            "  from .autonotebook import tqdm as notebook_tqdm\n",
            "[nltk_data] Downloading package punkt to\n",
            "[nltk_data]     /Users/julian.steiner/nltk_data...\n",
            "[nltk_data]   Package punkt is already up-to-date!\n"
          ]
        }
      ],
      "source": [
        "# Import Dependencies\n",
        "\n",
        "!pip install datasets\n",
        "from datasets import load_dataset\n",
        "\n",
        "import torch\n",
        "import torch.nn as nn\n",
        "from torch.utils.data import Dataset, DataLoader\n",
        "\n",
        "import numpy as np\n",
        "\n",
        "from tqdm import tqdm\n",
        "from nltk import word_tokenize\n",
        "import nltk\n",
        "nltk.download('punkt')\n",
        "\n",
        "from scipy.stats import pearsonr, kendalltau\n",
        "\n",
        "from pprint import pprint\n",
        "\n",
        "import matplotlib.pyplot as plt\n",
        "\n",
        "import gdown"
      ]
    },
    {
      "cell_type": "code",
      "execution_count": 4,
      "metadata": {
        "id": "78N2ACb31xdF"
      },
      "outputs": [],
      "source": [
        "# Specify random seed\n",
        "\n",
        "def seed_everything(seed: int):\n",
        "    import random, os\n",
        "    import numpy as np\n",
        "    import torch\n",
        "\n",
        "    random.seed(seed)\n",
        "    os.environ['PYTHONHASHSEED'] = str(seed)\n",
        "    np.random.seed(seed)\n",
        "    torch.manual_seed(seed)\n",
        "    torch.cuda.manual_seed(seed)\n",
        "    torch.backends.cudnn.deterministic = True\n",
        "    torch.backends.cudnn.benchmark = True"
      ]
    },
    {
      "cell_type": "markdown",
      "metadata": {
        "id": "RQisbu2015X0"
      },
      "source": [
        "# **Task 1: Getting to Know Pytorch: Semantic Textual Similarity**\n",
        "\n",
        "In this task, we define semantic textual similarity (STS) as a supervised regression task in which the semantic similarity of two pieces of text (typically sentences) should be determined."
      ]
    },
    {
      "cell_type": "markdown",
      "metadata": {
        "id": "teX4DZdmMw_o"
      },
      "source": [
        "### **Task 1.1: Data Preparation**\n",
        "\n",
        "First we should load the dataset for this task. Each entry of this dataset contains one English sentence pair and their similarity score. The data is structured like both Python dictionary and Pandas DataFrame.\n",
        "*   **Run the following cell to load the dataset:**\n"
      ]
    },
    {
      "cell_type": "code",
      "execution_count": 5,
      "metadata": {
        "colab": {
          "base_uri": "https://localhost:8080/",
          "height": 435,
          "referenced_widgets": [
            "5540e59629784573b62c3caf7b95c7a5",
            "3e2347ceb5dd4914a23a671f5e200b30",
            "df3c210ab9794131992140d4100bf451",
            "e26cd37883124998bef5ba2b874c6a69",
            "22430261fc454dea971ceb3c24bc6dd4",
            "39226301722848dd847dcb41a925609e",
            "9c1b1934f4454d4ab613324f25e8c225",
            "d31202ce75eb4268a10b4e48c19d0fe0",
            "3bc9f08c27974250b6239021e8d84962",
            "46aae8b1398041428ce356dd31a6389e",
            "efa54706a0cc47d39ed6475c9dd3980a",
            "f8d307d12fc24928b0b1eb0c60bad386",
            "6101ae87a74e4ca4aeda15dcbda41c7b",
            "412450f71feb41ac843fe63307ae8875",
            "944332e03d8247d2be0d9af7ba861f01",
            "3394748e21694ee587467dfd8d734f60",
            "a578d115f5a84839839c2b8513b77b0e",
            "621fd6fd93fe4aa2bf9c8e2ae4cd44bc",
            "8c0dc44f45cd44d8985b7c5a19a2cae5",
            "ce55a463d1ea4ec7b5424449cac350cd",
            "37fd5f99aceb4cf0819cfeeeeb258adb",
            "17d64a35b6fd44ce9350dc9e4b6df891",
            "7a6566ef925f4213af64fc76d923b74e",
            "abc98ff5e5d641fb86d73677118a3778",
            "5cf0c04b5c0a4bf280e2a95371f4c326",
            "cec216e0eb364c4f994fdde9463535a4",
            "eef664f4400840af8db4ba73059e1c4a",
            "af692d854e3e46b2b2856140b68b0887",
            "bbf442e115dc44b38fe197237291747c",
            "bd4565016cf84116b9837ff24b372745",
            "64b428e9553440a0b04c29b45f623a83",
            "94c207bc09fa4fab9291c145810442e8",
            "e91ea992c96b4bf196c9b16a000bff98",
            "4ef10e0144114e6dbf2ea1e7f7014846",
            "d0236566e8904bf098a91d9179e3bc61",
            "3e1b56024fad457a96c03a4229ac8c9f",
            "cb5f0841075e432a9eb683b704f7f141",
            "cc57236f7f8e4d4487a8b5297628ac43",
            "1598dd03a51f4a97b00cf04b4c1892fc",
            "58e43d781cf64172abdd5451146448b2",
            "e81d28d28ae44628b75600b60c0d289d",
            "694fc37b0a184abbab3401b87db2444f",
            "2312753655dc4e3e9dfb444f825e528e",
            "6da26cccce594194abb8fa2235b84624",
            "6d2b9d190fa3491b8a45a31fa16bda9e",
            "3c9eb4fe165c461bb0e5e1f19eb72105",
            "90f4d824a25c412ea948bb9b6f01fbaa",
            "637c331a25ec49d5867250093a767351",
            "105d3a581e364086b917a4144560ae75",
            "868aef817d604f86a64677db07215d41",
            "0708b0b75ebf4cb3a65b088d4ca285bd",
            "ad657afea30d4a9aa2dca54d414ae79c",
            "28102c7cd5e64df2bf6c2999942b29a7",
            "e6bc4edfb22a40c7aa6f4d03046f5668",
            "48a86f3a61c74407a6720b21f0ad3b0b",
            "b432e1431011485facfbf409656cbea8",
            "0c6ecd8e364f40fa9d9a9693fcaca9d2",
            "e1ab31b7a6bc47e383ac931beac06f6b",
            "1044734ba9b9461bbf5d40d83872f8b0",
            "cb481b103d5e4594b4635ecd8cfbd61a",
            "4c6df2d227f64f4180d0d59b5af2a68d",
            "cea2f3880038486d934fba3162820ca9",
            "eadec0003b894c8ea523ef94328e46b2",
            "a227945246ec4d989c76f928e6142f03",
            "86b2bb0f9b4d44478a4a34b5acfa0790",
            "75395d727f9c46be880e2efd7fe7caf4",
            "f527fdf5a09d45e9a737c335d2481296",
            "76c9f943d8754c11811eb3f7b93a3237",
            "6ff28dd678924f5c9842603094ecf56b",
            "a511cc685e264eebb9bffe33b1270da7",
            "2e5bfd14a28443419544e11e707b6491",
            "ced06c54bb7f4309914bf1247b738fcc",
            "b3d6dc73d5bd441ca432001bf4c4cac3",
            "530bb1512faa4a16b6c30ac4625fccd9",
            "2b3daaaba9ef47c5a8ffee1a8fcfc34f",
            "eee3747842ba40ea8a63932bf073ee57",
            "68b49c59d6e544aeaa3c527c67f6a71d"
          ]
        },
        "id": "eo9F4W_D10Qf",
        "outputId": "9f232565-03c3-4972-fd88-aca2d1e79601"
      },
      "outputs": [
        {
          "data": {
            "text/plain": [
              "Dataset({\n",
              "    features: ['sentence1', 'sentence2', 'similarity_score'],\n",
              "    num_rows: 1500\n",
              "})"
            ]
          },
          "execution_count": 5,
          "metadata": {},
          "output_type": "execute_result"
        }
      ],
      "source": [
        "train_set = load_dataset(\"stsb_multi_mt\", \"en\", split='train')\n",
        "dev_set = load_dataset(\"stsb_multi_mt\", \"en\", split='dev')\n",
        "\n",
        "dev_set"
      ]
    },
    {
      "cell_type": "markdown",
      "metadata": {
        "id": "w2EVjXYN38qW"
      },
      "source": [
        "**a)** To get familiar with the data format, print following information:\n",
        "*  **The first entry of `train_set`**\n",
        "*  **the size of `dev_set`**\n",
        "*  **the first 3 `sentence1` in `train_set`**\n"
      ]
    },
    {
      "cell_type": "code",
      "execution_count": 6,
      "metadata": {
        "id": "MXxR0oIq8UUh"
      },
      "outputs": [
        {
          "name": "stdout",
          "output_type": "stream",
          "text": [
            "First entry of train_set: {'sentence1': 'A plane is taking off.', 'sentence2': 'An air plane is taking off.', 'similarity_score': 5.0}\n",
            "Size of dev_set: 1500\n",
            "First 3 sentence1 in train_set: ['A plane is taking off.', 'A man is playing a large flute.', 'A man is spreading shreded cheese on a pizza.']\n"
          ]
        }
      ],
      "source": [
        "# TODO: YOUR CODE HERE\n",
        "print(f\"First entry of train_set: {train_set[0]}\")\n",
        "print(f\"Size of dev_set: {len(dev_set)}\")\n",
        "print(f\"First 3 sentence1 in train_set: {train_set[:3]['sentence1']}\")"
      ]
    },
    {
      "cell_type": "markdown",
      "metadata": {
        "id": "krKdguNXXWTd"
      },
      "source": [
        "## **Task 1.1.1: Sentence Embedding with FastText**\n",
        "We will use the averages of the words using [FastText embeddings](https://fasttext.cc/docs/en/english-vectors.html) to embed both sentences.\n",
        "\n",
        "* **Run the following cell to download the embeddings.**"
      ]
    },
    {
      "cell_type": "code",
      "execution_count": 8,
      "metadata": {
        "colab": {
          "base_uri": "https://localhost:8080/"
        },
        "id": "NAHHJHwJ9Bs2",
        "outputId": "102de523-2e84-4ed1-8ff2-7f23313dac27"
      },
      "outputs": [
        {
          "name": "stdout",
          "output_type": "stream",
          "text": [
            "zsh:1: command not found: wget\n",
            "Archive:  wiki-news-300d-1M.vec.zip\n",
            "replace wiki-news-300d-1M.vec? [y]es, [n]o, [A]ll, [N]one, [r]ename: ^C\n"
          ]
        }
      ],
      "source": [
        "# download word emebddings to your drive and unzip the file (run this cell only when you haven't downloaded the emb file yet.)\n",
        "!wget https://dl.fbaipublicfiles.com/fasttext/vectors-english/wiki-news-300d-1M.vec.zip\n",
        "!unzip wiki-news-300d-1M.vec.zip"
      ]
    },
    {
      "cell_type": "markdown",
      "metadata": {
        "id": "S7DXiaUCX1Ob"
      },
      "source": [
        "**b)**    **Implement the function** `load _embeddings` to read the word embeddings into a Python dictionary that maps every token to the corresponding vector and returns word embeddings. Represent the vectors as Numpy arrays. Only load the embeddings of the first 30,000 tokens in the file"
      ]
    },
    {
      "cell_type": "code",
      "execution_count": 16,
      "metadata": {
        "id": "Wedlye9b-Yhi"
      },
      "outputs": [],
      "source": [
        "def load_embeddings(file=\"wiki-news-300d-1M.vec\"):\n",
        "\twith open(file, 'r', encoding='utf-8', newline='\\n', errors='ignore') as f:\n",
        "\t\t_ = f.readline()\n",
        "\t\tdata = {}\n",
        "\t\tfor line in f:\n",
        "\t\t\ttokens = line.rstrip().split(' ')\n",
        "\t\t\tdata[tokens[0]] = np.asanyarray(tokens[1:], dtype=np.float32)\n",
        "\t\t\tif len(data) == 30000:\n",
        "\t\t\t\tbreak\n",
        "\t\t\n",
        "\t\treturn data"
      ]
    },
    {
      "cell_type": "markdown",
      "metadata": {
        "id": "44sr-HSF_XYr"
      },
      "source": [
        "\n",
        "**c)**   **Print** the size of the dictionary and the first 10 dimensions of the embedding for the word \"Frequency\"."
      ]
    },
    {
      "cell_type": "code",
      "execution_count": 17,
      "metadata": {
        "id": "CXNBP-bG_i7w"
      },
      "outputs": [],
      "source": [
        "# TODO: YOUR CODE HERE\n",
        "emb = load_embeddings()"
      ]
    },
    {
      "cell_type": "markdown",
      "metadata": {
        "id": "viW2pAejCexV"
      },
      "source": [
        "\n",
        "**d)**  **Implement a function** `tokenize` that tokenizes a sentence using nltk.word_tokenize and returns a list of tokens for given sentence.\n",
        "\n"
      ]
    },
    {
      "cell_type": "code",
      "execution_count": 13,
      "metadata": {
        "id": "L7fheZ3ECIIn"
      },
      "outputs": [],
      "source": [
        "def tokenize(sentence):\n",
        "    return nltk.word_tokenize(sentence)   "
      ]
    },
    {
      "cell_type": "markdown",
      "metadata": {
        "id": "uSmwKpAtCw1n"
      },
      "source": [
        "**e)**  **Print** the tokenized `sentence1` and `sentence2` of the 20th entry in the training set."
      ]
    },
    {
      "cell_type": "code",
      "execution_count": 18,
      "metadata": {
        "id": "JSNHXITTC4rM"
      },
      "outputs": [
        {
          "name": "stdout",
          "output_type": "stream",
          "text": [
            "['A', 'man', 'pours', 'oil', 'into', 'a', 'pot', '.']\n",
            "['A', 'man', 'pours', 'wine', 'in', 'a', 'pot', '.']\n"
          ]
        }
      ],
      "source": [
        "# TODO: YOUR CODE HERE\n",
        "sentence1 = train_set[20]['sentence1']\n",
        "sentence2 = train_set[20]['sentence2']\n",
        "\n",
        "pprint(tokenize(sentence1))\n",
        "pprint(tokenize(sentence2))"
      ]
    },
    {
      "cell_type": "markdown",
      "metadata": {
        "id": "oEA85XYIDLjc"
      },
      "source": [
        "**f)** **Implement a function** `embed_sentence` that maps a sentence to its embedding. The sentence-level embedding should be the average of the embeddings of its tokens. If a token does not exist in the vocabulary of FastText, embed this token as a 0-vector with the same dimensions as the FastText embeddings.\n",
        "\n"
      ]
    },
    {
      "cell_type": "code",
      "execution_count": 53,
      "metadata": {
        "id": "EvzgtteNDVqE"
      },
      "outputs": [],
      "source": [
        "def embed_sentence(sentence, word2emb):\n",
        "    embedding_vectors = [np.asanyarray(word2emb[token]) for token in tokenize(sentence) if token in word2emb]\n",
        "    return np.mean(embedding_vectors)"
      ]
    },
    {
      "cell_type": "markdown",
      "metadata": {
        "id": "noqxyEiRDP_0"
      },
      "source": [
        "**g)**  **Print** the shape and the first 10 dimensions of `sentence1`'s embedding of the 20th entry in the training set."
      ]
    },
    {
      "cell_type": "code",
      "execution_count": 55,
      "metadata": {},
      "outputs": [
        {
          "name": "stdout",
          "output_type": "stream",
          "text": [
            "()\n"
          ]
        },
        {
          "ename": "IndexError",
          "evalue": "invalid index to scalar variable.",
          "output_type": "error",
          "traceback": [
            "\u001b[0;31m---------------------------------------------------------------------------\u001b[0m",
            "\u001b[0;31mIndexError\u001b[0m                                Traceback (most recent call last)",
            "Cell \u001b[0;32mIn[55], line 4\u001b[0m\n\u001b[1;32m      1\u001b[0m sentence_embedding \u001b[38;5;241m=\u001b[39m embed_sentence(train_set[\u001b[38;5;241m20\u001b[39m][\u001b[38;5;124m'\u001b[39m\u001b[38;5;124msentence1\u001b[39m\u001b[38;5;124m'\u001b[39m], emb)\n\u001b[1;32m      3\u001b[0m \u001b[38;5;28mprint\u001b[39m(sentence_embedding\u001b[38;5;241m.\u001b[39mshape)\n\u001b[0;32m----> 4\u001b[0m \u001b[38;5;28mprint\u001b[39m(\u001b[43msentence_embedding\u001b[49m\u001b[43m[\u001b[49m\u001b[38;5;241;43m0\u001b[39;49m\u001b[43m:\u001b[49m\u001b[38;5;241;43m10\u001b[39;49m\u001b[43m]\u001b[49m)\n",
            "\u001b[0;31mIndexError\u001b[0m: invalid index to scalar variable."
          ]
        }
      ],
      "source": [
        "sentence_embedding = embed_sentence(train_set[20]['sentence1'], emb)\n",
        "\n",
        "print(sentence_embedding.shape)\n",
        "print(sentence_embedding[0:10])"
      ]
    },
    {
      "cell_type": "markdown",
      "metadata": {
        "id": "jvCG_1zHoImu"
      },
      "source": [
        "## **Task 1.1.2: Build Custom Dataset**\n"
      ]
    },
    {
      "cell_type": "markdown",
      "metadata": {
        "id": "yMwXbBHMEZfI"
      },
      "source": [
        "* **Implement a custom dataset class** `MLPDataset` inheriting `torch.utils.data.Dataset` and override the following methods:\n",
        "  1.   `__len__`: which returns the size of the dataset.\n",
        "  2.   `__getitem__`: to support the indexing such that dataset[i] can be used to get ith sample.\n",
        "  \n",
        "      The ith sample should be a Python dict with two entries:\n",
        "    * ` encoding`: the encoding of one sentence pair, which is the concatenation of the embeddings of the two sentences of a pair. E.g., sent1 = [1,2], sent2 = [3,4], the encoding for sent1 and sent2 should be [1,2,3,4].\n",
        "    *   `score `: the similarity score between the two sentences.\n",
        "Hint: examples can be found here: https://pytorch.org/tutorials/beginner/data_loading_tutorial.html\n",
        "\n",
        "\n",
        "\n"
      ]
    },
    {
      "cell_type": "code",
      "execution_count": 264,
      "metadata": {
        "id": "XwCm4tRVGjt5"
      },
      "outputs": [],
      "source": [
        "class MLPDataset(Dataset):\n",
        "  def __init__(self, sents_1, sents_2, scores):\n",
        "    \"\"\"\n",
        "    Arguments:\n",
        "      sents_1 (List[string]): the list of the first sentences.\n",
        "      sents_2 (List[string]): the list of the second sentences.\n",
        "      scores (List[float]): the list of the similarity scores.\n",
        "    \"\"\"\n",
        "    # TODO: YOUR CODE HERE\n",
        "    self.sents_1 = sents_1\n",
        "    self.sents_2 = sents_2\n",
        "    self.scores = scores\n",
        "\n",
        "  def __getitem__(self, idx):\n",
        "    # TODO: YOUR CODE HERE\n",
        "    return {\n",
        "      'encoding': torch.tensor(np.concatenate(\n",
        "        [\n",
        "          embed_sentence(self.sents_1[idx], emb),\n",
        "          embed_sentence(self.sents_2[idx], emb)\n",
        "        ]), dtype=torch.float32\n",
        "      ),\n",
        "      'score': torch.tensor(float(self.scores[idx]), dtype=torch.float32)\n",
        "    }\n",
        "\n",
        "  def __len__(self):\n",
        "    # TODO: YOUR CODE HERE\n",
        "    assert len(self.sents_1) == len(self.sents_2) and len(self.sents_2) == len(self.scores)\n",
        "    return len(self.sents_1)"
      ]
    },
    {
      "cell_type": "markdown",
      "metadata": {
        "id": "OcKDmhUqHLX9"
      },
      "source": [
        "**h)**  **Instantiate** the above class for our `train_set` and `dev_set`."
      ]
    },
    {
      "cell_type": "code",
      "execution_count": 265,
      "metadata": {
        "id": "RQZte0LpHoL5"
      },
      "outputs": [],
      "source": [
        "# TODO: YOUR CODE HERE\n",
        "mlp_train_set = MLPDataset(\n",
        "    sents_1=train_set['sentence1'],\n",
        "    sents_2=train_set['sentence2'],\n",
        "    scores=train_set['similarity_score']\n",
        ")\n",
        "\n",
        "mlp_dev_set = MLPDataset(\n",
        "    sents_1=dev_set['sentence1'],\n",
        "    sents_2=dev_set['sentence2'],\n",
        "    scores=dev_set['similarity_score']\n",
        ")"
      ]
    },
    {
      "cell_type": "markdown",
      "metadata": {
        "id": "imlxneaxHZAM"
      },
      "source": [
        "**i)**  **Print** the size of `dev_dataset` and the shape of the encoding of the first example."
      ]
    },
    {
      "cell_type": "code",
      "execution_count": 266,
      "metadata": {
        "id": "duSgSzc_Hohb"
      },
      "outputs": [
        {
          "name": "stdout",
          "output_type": "stream",
          "text": [
            "Size: 1500\n"
          ]
        }
      ],
      "source": [
        "# TODO: YOUR CODE HERE\n",
        "print(f\"Size: {len(mlp_dev_set)}\")"
      ]
    },
    {
      "cell_type": "markdown",
      "metadata": {
        "id": "rtcT91VOowHw"
      },
      "source": [
        "## **Task 1.2: Scoring the Similarity**\n",
        "We will train a simple multi-layer perceptron (MLP) to score the similarity of the two sentences."
      ]
    },
    {
      "cell_type": "markdown",
      "metadata": {
        "id": "iVfZ6bboqx-0"
      },
      "source": [
        "### **Task 1.2.1: Build MLP using Pytorch**\n",
        "\n",
        "We will use [`pytorch.nn`](https://pytorch.org/docs/stable/nn.html) to build our MLP.\n",
        "\n",
        "**a)** **Implement a class** `MLP` inheriting [`pytorch.nn.Module`]() for our MLP, which has the following components:\n",
        "\n",
        "- A [linear layer](https://pytorch.org/docs/stable/generated/torch.nn.Linear.html#torch.nn.Linear) with 900 dimensions and [relu activation](https://pytorch.org/docs/stable/generated/torch.nn.ReLU.html#torch.nn.ReLU) , which takes the encoding of one sentence pair as the input.\n",
        "- A [dropout layer](https://pytorch.org/docs/stable/generated/torch.nn.Dropout.html#torch.nn.Dropout) with probability 0.2.\n",
        "- A linear layer with 600 dimensions and relu activation.\n",
        "- A dropout layer with probability 0.2.\n",
        "- A linear layer with 600 dimensions and relu activation.\n",
        "- A dropout layer with probability 0.2.\n",
        "- A linear layer with 1 dimension (output layer).\n",
        "\n",
        "**Hint**:\n",
        "- You need to override the method `forward` in this class\n",
        "- Use `nn.Sequential` to sequentialize the layers.\n",
        "- You may want to see a quick example: https://pytorch.org/tutorials/beginner/basics/buildmodel_tutorial.html?highlight=sequential\n"
      ]
    },
    {
      "cell_type": "code",
      "execution_count": 267,
      "metadata": {
        "id": "5jg3wk4KrFDc"
      },
      "outputs": [],
      "source": [
        "class MLP(nn.Module):\n",
        "  def __init__(self):\n",
        "    super(MLP, self).__init__()\n",
        "    # TODO: YOUR CODE HERE\n",
        "    self.layers = nn.Sequential(\n",
        "      nn.Linear(600, 900),\n",
        "      nn.ReLU(),\n",
        "      nn.Dropout(0.2),\n",
        "      nn.Linear(900, 600),\n",
        "      nn.ReLU(),\n",
        "      nn.Dropout(0.2),\n",
        "      nn.Linear(600, 600),\n",
        "      nn.ReLU(),\n",
        "      nn.Dropout(0.2),\n",
        "      nn.Linear(600, 1)\n",
        "    )\n",
        "\n",
        "  def forward(self, x):\n",
        "    # TODO: YOUR CODE HERE\n",
        "    return self.layers(x)"
      ]
    },
    {
      "cell_type": "markdown",
      "metadata": {
        "id": "AqnDN9bhK12B"
      },
      "source": [
        "**b)**  **Initialize the** `model`of this class and **print** it"
      ]
    },
    {
      "cell_type": "code",
      "execution_count": 268,
      "metadata": {
        "id": "UN03iJmJK2kT"
      },
      "outputs": [
        {
          "name": "stdout",
          "output_type": "stream",
          "text": [
            "MLP(\n",
            "  (layers): Sequential(\n",
            "    (0): Linear(in_features=600, out_features=900, bias=True)\n",
            "    (1): ReLU()\n",
            "    (2): Dropout(p=0.2, inplace=False)\n",
            "    (3): Linear(in_features=900, out_features=600, bias=True)\n",
            "    (4): ReLU()\n",
            "    (5): Dropout(p=0.2, inplace=False)\n",
            "    (6): Linear(in_features=600, out_features=600, bias=True)\n",
            "    (7): ReLU()\n",
            "    (8): Dropout(p=0.2, inplace=False)\n",
            "    (9): Linear(in_features=600, out_features=1, bias=True)\n",
            "  )\n",
            ")\n"
          ]
        }
      ],
      "source": [
        "# TODO : YOUR CODE HERE\n",
        "mlp = MLP()\n",
        "print(mlp)"
      ]
    },
    {
      "cell_type": "markdown",
      "metadata": {
        "id": "7IwxQMfN2ZKJ"
      },
      "source": [
        "### **Task 1.2.2: Train MLP with Pytorch**\n"
      ]
    },
    {
      "cell_type": "markdown",
      "metadata": {
        "id": "9Kq-zvfwM-20"
      },
      "source": [
        "The method for training is provided below, which returns the list of the train loss at all epochs and the trained model.\n",
        "*  **Run the code below**"
      ]
    },
    {
      "cell_type": "code",
      "execution_count": 269,
      "metadata": {
        "id": "E2kaX-J7L-HR"
      },
      "outputs": [],
      "source": [
        "def train(model, train_dataloader, eval_dataloader, optimizer, loss_fn, num_epochs, device='cuda'):\n",
        "\n",
        "  train_losses = []\n",
        "\n",
        "  for epoch in range(num_epochs):\n",
        "\n",
        "    if epoch == 0:\n",
        "      model.eval()\n",
        "      loss_per_epoch = 0\n",
        "      for batch_data in train_dataloader:\n",
        "        with torch.no_grad():\n",
        "          predictions = model(batch_data['encoding'].to(device))\n",
        "          targets = batch_data['score'].to(device) # only if device='cuda'\n",
        "          train_loss = loss_fn(predictions.squeeze(), targets)\n",
        "          loss_per_epoch += train_loss.item()\n",
        "      loss_per_epoch = loss_per_epoch/len(train_dataloader)\n",
        "      train_losses.append(loss_per_epoch)\n",
        "      print(f'\\ninital train loss: {loss_per_epoch}')\n",
        "\n",
        "    model.train()\n",
        "    loss_per_epoch = 0\n",
        "    for batch_data in train_dataloader:\n",
        "      predictions = model(batch_data['encoding'].to(device))\n",
        "      targets = batch_data['score'].to(device) # only if device='cuda'\n",
        "      train_loss = loss_fn(predictions.squeeze(), targets)\n",
        "      loss_per_epoch += train_loss.item()\n",
        "\n",
        "      optimizer.zero_grad()\n",
        "      train_loss.backward()\n",
        "      optimizer.step()\n",
        "\n",
        "    loss_per_epoch = loss_per_epoch/len(train_dataloader)\n",
        "    train_losses.append(loss_per_epoch)\n",
        "    print(f'\\n Epoch {epoch+1} train loss: {loss_per_epoch}')\n",
        "    #evaluate(model, eval_dataloader, loss_func)\n",
        "\n",
        "  return train_losses, model"
      ]
    },
    {
      "cell_type": "markdown",
      "metadata": {
        "id": "Hr8ev4DokuYI"
      },
      "source": [
        "**c)** **Define the corresponding hyperparameters**\n",
        "  *   Number of training epochs are 15\n",
        "  *   Batch Size is 128\n",
        "  *   Learning Rate is 2e-03\n",
        "\n"
      ]
    },
    {
      "cell_type": "code",
      "execution_count": 270,
      "metadata": {
        "id": "HepUUs9CPgAb"
      },
      "outputs": [],
      "source": [
        "# Set random seeds; do not change this!\n",
        "seed_everything(seed=999)\n",
        "\n",
        "# TODO: YOUR CODE BELOW\n",
        "num_epochs = 15\n",
        "batch_size = 128\n",
        "lr = 2e-03"
      ]
    },
    {
      "cell_type": "markdown",
      "metadata": {
        "id": "kobxOBiQPi5o"
      },
      "source": [
        "\n",
        "**d)**   **Create Dataloaders** considering following information\n",
        "  * `train_dataloader` : reshuffle at every epoch\n",
        "  * `dev_dataloader` : batch size is 512\n",
        "\n",
        "**Hint:** batch size of train dataloader is different than dev dataloader\n"
      ]
    },
    {
      "cell_type": "code",
      "execution_count": 271,
      "metadata": {
        "id": "HhMXB63XQHKS"
      },
      "outputs": [],
      "source": [
        "# TODO: YOUR CODE HERE\n",
        "train_dataloader = DataLoader(\n",
        "    dataset=mlp_train_set,\n",
        "    batch_size=512\n",
        ")\n",
        "\n",
        "dev_dataloader = DataLoader(\n",
        "    dataset=mlp_dev_set,\n",
        "    batch_size=512\n",
        ")"
      ]
    },
    {
      "cell_type": "markdown",
      "metadata": {
        "id": "DPqThv7wQiaW"
      },
      "source": [
        "\n",
        "**e)**   **Define** Optimizer as AdmW and Loss function as Mean Square Error"
      ]
    },
    {
      "cell_type": "code",
      "execution_count": 272,
      "metadata": {
        "id": "y1Mr2rzWMmOC"
      },
      "outputs": [],
      "source": [
        "# Initialize the model\n",
        "device = \"cpu\"\n",
        "model = MLP()\n",
        "model.to(device)\n",
        "\n",
        "# TODO: YOUR CODE BELOW\n",
        "optimizer =  torch.optim.AdamW(\n",
        "    params=model.parameters(),\n",
        "    lr=lr\n",
        ")\n",
        "\n",
        "loss_func = torch.nn.MSELoss()"
      ]
    },
    {
      "cell_type": "markdown",
      "metadata": {
        "id": "UUKHCaNQROni"
      },
      "source": [
        "\n",
        "\n",
        "**f)**   Use the train function with the hyperparameters above to **store training losses and the model** in variables called:\n",
        "  * `train_losses`\n",
        "  * `model`\n",
        "\n"
      ]
    },
    {
      "cell_type": "code",
      "execution_count": 273,
      "metadata": {
        "id": "6Cqq8lX7RMyk"
      },
      "outputs": [
        {
          "name": "stdout",
          "output_type": "stream",
          "text": [
            "\n",
            "inital train loss: 9.252750277519226\n",
            "\n",
            " Epoch 1 train loss: 3.2883145213127136\n",
            "\n",
            " Epoch 2 train loss: 3.3730147878328958\n",
            "\n",
            " Epoch 3 train loss: 3.7148433327674866\n",
            "\n",
            " Epoch 4 train loss: 6.776593387126923\n",
            "\n",
            " Epoch 5 train loss: 3.5836108724276223\n",
            "\n",
            " Epoch 6 train loss: 2.9080580472946167\n",
            "\n",
            " Epoch 7 train loss: 3.376847873131434\n",
            "\n",
            " Epoch 8 train loss: 2.2417713403701782\n",
            "\n",
            " Epoch 9 train loss: 2.278966873884201\n",
            "\n",
            " Epoch 10 train loss: 2.381596028804779\n",
            "\n",
            " Epoch 11 train loss: 2.340873956680298\n",
            "\n",
            " Epoch 12 train loss: 2.0967192153135934\n",
            "\n",
            " Epoch 13 train loss: 2.226658840974172\n",
            "\n",
            " Epoch 14 train loss: 2.263591160376867\n",
            "\n",
            " Epoch 15 train loss: 2.366724888483683\n"
          ]
        }
      ],
      "source": [
        "# TODO: YOUR CODE HERE\n",
        "train_loss, model = train(\n",
        "    model=model,\n",
        "    train_dataloader=train_dataloader,\n",
        "    eval_dataloader=dev_dataloader,\n",
        "    optimizer=optimizer,\n",
        "    loss_fn=loss_func,\n",
        "    num_epochs=num_epochs,\n",
        "    device=device\n",
        ")"
      ]
    },
    {
      "cell_type": "markdown",
      "metadata": {
        "id": "MBVZrPD1NmyS"
      },
      "source": [
        "**g)** **Plot** the training loss using `matplotlib.pyplot.plot` (Plotting takes time - consider waiting!)\n"
      ]
    },
    {
      "cell_type": "code",
      "execution_count": 274,
      "metadata": {
        "id": "v2rSnoL5NxIx"
      },
      "outputs": [
        {
          "data": {
            "text/plain": [
              "[<matplotlib.lines.Line2D at 0x330e28790>]"
            ]
          },
          "execution_count": 274,
          "metadata": {},
          "output_type": "execute_result"
        },
        {
          "data": {
            "image/png": "[encoded data removed]",
            "text/plain": [
              "<Figure size 640x480 with 1 Axes>"
            ]
          },
          "metadata": {},
          "output_type": "display_data"
        }
      ],
      "source": [
        "plt.plot(train_loss)"
      ]
    },
    {
      "cell_type": "markdown",
      "metadata": {
        "id": "6G-VQMzJlIC3"
      },
      "source": [
        "**h)** **Implement** another MLP architecture using [`pytorch.nn.Module`](), which has the following components:\n",
        "- A [linear layer](https://pytorch.org/docs/stable/generated/torch.nn.Linear.html#torch.nn.Linear) with 1,200 dimensions and [relu activation](https://pytorch.org/docs/stable/generated/torch.nn.ReLU.html#torch.nn.ReLU) , which takes the encoding of one sentence pair as the input.\n",
        "- A linear layer with 300 dimensions and relu activation.\n",
        "- A linear layer with 300 dimensions and relu activation.\n",
        "- A linear layer with 1 dimension (output layer)."
      ]
    },
    {
      "cell_type": "code",
      "execution_count": 275,
      "metadata": {
        "id": "fURghifFOhXg"
      },
      "outputs": [],
      "source": [
        "class MLP(nn.Module):\n",
        "  def __init__(self):\n",
        "    super(MLP, self).__init__()\n",
        "    # TODO: YOUR CODE HERE\n",
        "    self.layers = nn.Sequential(\n",
        "      nn.Linear(600, 1200),\n",
        "      nn.ReLU(),\n",
        "      nn.Linear(1200, 300),\n",
        "      nn.ReLU(),\n",
        "      nn.Linear(300, 300),\n",
        "      nn.ReLU(),\n",
        "      nn.Linear(300, 1)\n",
        "    )\n",
        "\n",
        "  def forward(self, x):\n",
        "    # TODO: YOUR CODE HERE\n",
        "    return self.layers(x)"
      ]
    },
    {
      "cell_type": "markdown",
      "metadata": {
        "id": "NCw1OoXVySSA"
      },
      "source": [
        "**i)** **Initialize and train** the new class with the function from above"
      ]
    },
    {
      "cell_type": "code",
      "execution_count": 276,
      "metadata": {
        "id": "CDkYBAc-yMp8"
      },
      "outputs": [
        {
          "name": "stdout",
          "output_type": "stream",
          "text": [
            "\n",
            "inital train loss: 9.302170316378275\n",
            "\n",
            " Epoch 1 train loss: 9.302170316378275\n",
            "\n",
            " Epoch 2 train loss: 9.302170316378275\n",
            "\n",
            " Epoch 3 train loss: 9.302170316378275\n",
            "\n",
            " Epoch 4 train loss: 9.302170316378275\n",
            "\n",
            " Epoch 5 train loss: 9.302170316378275\n",
            "\n",
            " Epoch 6 train loss: 9.302170316378275\n",
            "\n",
            " Epoch 7 train loss: 9.302170316378275\n",
            "\n",
            " Epoch 8 train loss: 9.302170316378275\n",
            "\n",
            " Epoch 9 train loss: 9.302170316378275\n",
            "\n",
            " Epoch 10 train loss: 9.302170316378275\n",
            "\n",
            " Epoch 11 train loss: 9.302170316378275\n",
            "\n",
            " Epoch 12 train loss: 9.302170316378275\n",
            "\n",
            " Epoch 13 train loss: 9.302170316378275\n",
            "\n",
            " Epoch 14 train loss: 9.302170316378275\n",
            "\n",
            " Epoch 15 train loss: 9.302170316378275\n"
          ]
        }
      ],
      "source": [
        "# TODO: YOUR CODE HERE\n",
        "model = MLP()\n",
        "model = model.to(device)\n",
        "train_losses_second_model, model = train(model, train_dataloader, dev_dataloader, optimizer, loss_func, num_epochs, device)"
      ]
    },
    {
      "cell_type": "markdown",
      "metadata": {
        "id": "OPJnjGNB6wLO"
      },
      "source": [
        "**j)** **Plot** the loss curve both the first and the second model (you can reuse your code from above)"
      ]
    },
    {
      "cell_type": "code",
      "execution_count": 277,
      "metadata": {
        "id": "2XbA520K6wku"
      },
      "outputs": [
        {
          "data": {
            "text/plain": [
              "[<matplotlib.lines.Line2D at 0x33258b950>]"
            ]
          },
          "execution_count": 277,
          "metadata": {},
          "output_type": "execute_result"
        },
        {
          "data": {
            "image/png": "[encoded data removed]",
            "text/plain": [
              "<Figure size 640x480 with 1 Axes>"
            ]
          },
          "metadata": {},
          "output_type": "display_data"
        }
      ],
      "source": [
        "# YOUR CODE FOR PLOTTING HERE\n",
        "plt.plot(train_loss)\n",
        "plt.plot(train_losses_second_model)"
      ]
    },
    {
      "cell_type": "markdown",
      "metadata": {
        "id": "mduY1xbWyzNb"
      },
      "source": [
        "**k)** **Compare** the difference in the architectures and their corresponding losses. Describe what might have caused these changes."
      ]
    },
    {
      "cell_type": "code",
      "execution_count": 278,
      "metadata": {
        "id": "LL2cNgsmy_AB"
      },
      "outputs": [],
      "source": [
        "# TODO: YOUR COMMENT HERE"
      ]
    }
  ],
  "metadata": {
    "colab": {
      "provenance": []
    },
    "kernelspec": {
      "display_name": "Python 3",
      "name": "python3"
    },
    "language_info": {
      "codemirror_mode": {
        "name": "ipython",
        "version": 3
      },
      "file_extension": ".py",
      "mimetype": "text/x-python",
      "name": "python",
      "nbconvert_exporter": "python",
      "pygments_lexer": "ipython3",
      "version": "3.11.9"
    },
    "widgets": {
      "application/vnd.jupyter.widget-state+json": {
        "0708b0b75ebf4cb3a65b088d4ca285bd": {
          "model_module": "@jupyter-widgets/controls",
          "model_module_version": "1.5.0",
          "model_name": "DescriptionStyleModel",
          "state": {
            "_model_module": "@jupyter-widgets/controls",
            "_model_module_version": "1.5.0",
            "_model_name": "DescriptionStyleModel",
            "_view_count": null,
            "_view_module": "@jupyter-widgets/base",
            "_view_module_version": "1.2.0",
            "_view_name": "StyleView",
            "description_width": ""
          }
        },
        "0c6ecd8e364f40fa9d9a9693fcaca9d2": {
          "model_module": "@jupyter-widgets/controls",
          "model_module_version": "1.5.0",
          "model_name": "HTMLModel",
          "state": {
            "_dom_classes": [],
            "_model_module": "@jupyter-widgets/controls",
            "_model_module_version": "1.5.0",
            "_model_name": "HTMLModel",
            "_view_count": null,
            "_view_module": "@jupyter-widgets/controls",
            "_view_module_version": "1.5.0",
            "_view_name": "HTMLView",
            "description": "",
            "description_tooltip": null,
            "layout": "IPY_MODEL_4c6df2d227f64f4180d0d59b5af2a68d",
            "placeholder": "​",
            "style": "IPY_MODEL_cea2f3880038486d934fba3162820ca9",
            "value": "Generating test split: 100%"
          }
        },
        "1044734ba9b9461bbf5d40d83872f8b0": {
          "model_module": "@jupyter-widgets/controls",
          "model_module_version": "1.5.0",
          "model_name": "HTMLModel",
          "state": {
            "_dom_classes": [],
            "_model_module": "@jupyter-widgets/controls",
            "_model_module_version": "1.5.0",
            "_model_name": "HTMLModel",
            "_view_count": null,
            "_view_module": "@jupyter-widgets/controls",
            "_view_module_version": "1.5.0",
            "_view_name": "HTMLView",
            "description": "",
            "description_tooltip": null,
            "layout": "IPY_MODEL_86b2bb0f9b4d44478a4a34b5acfa0790",
            "placeholder": "​",
            "style": "IPY_MODEL_75395d727f9c46be880e2efd7fe7caf4",
            "value": " 1379/1379 [00:00&lt;00:00, 33620.55 examples/s]"
          }
        },
        "105d3a581e364086b917a4144560ae75": {
          "model_module": "@jupyter-widgets/base",
          "model_module_version": "1.2.0",
          "model_name": "LayoutModel",
          "state": {
            "_model_module": "@jupyter-widgets/base",
            "_model_module_version": "1.2.0",
            "_model_name": "LayoutModel",
            "_view_count": null,
            "_view_module": "@jupyter-widgets/base",
            "_view_module_version": "1.2.0",
            "_view_name": "LayoutView",
            "align_content": null,
            "align_items": null,
            "align_self": null,
            "border": null,
            "bottom": null,
            "display": null,
            "flex": null,
            "flex_flow": null,
            "grid_area": null,
            "grid_auto_columns": null,
            "grid_auto_flow": null,
            "grid_auto_rows": null,
            "grid_column": null,
            "grid_gap": null,
            "grid_row": null,
            "grid_template_areas": null,
            "grid_template_columns": null,
            "grid_template_rows": null,
            "height": null,
            "justify_content": null,
            "justify_items": null,
            "left": null,
            "margin": null,
            "max_height": null,
            "max_width": null,
            "min_height": null,
            "min_width": null,
            "object_fit": null,
            "object_position": null,
            "order": null,
            "overflow": null,
            "overflow_x": null,
            "overflow_y": null,
            "padding": null,
            "right": null,
            "top": null,
            "visibility": null,
            "width": null
          }
        },
        "1598dd03a51f4a97b00cf04b4c1892fc": {
          "model_module": "@jupyter-widgets/base",
          "model_module_version": "1.2.0",
          "model_name": "LayoutModel",
          "state": {
            "_model_module": "@jupyter-widgets/base",
            "_model_module_version": "1.2.0",
            "_model_name": "LayoutModel",
            "_view_count": null,
            "_view_module": "@jupyter-widgets/base",
            "_view_module_version": "1.2.0",
            "_view_name": "LayoutView",
            "align_content": null,
            "align_items": null,
            "align_self": null,
            "border": null,
            "bottom": null,
            "display": null,
            "flex": null,
            "flex_flow": null,
            "grid_area": null,
            "grid_auto_columns": null,
            "grid_auto_flow": null,
            "grid_auto_rows": null,
            "grid_column": null,
            "grid_gap": null,
            "grid_row": null,
            "grid_template_areas": null,
            "grid_template_columns": null,
            "grid_template_rows": null,
            "height": null,
            "justify_content": null,
            "justify_items": null,
            "left": null,
            "margin": null,
            "max_height": null,
            "max_width": null,
            "min_height": null,
            "min_width": null,
            "object_fit": null,
            "object_position": null,
            "order": null,
            "overflow": null,
            "overflow_x": null,
            "overflow_y": null,
            "padding": null,
            "right": null,
            "top": null,
            "visibility": null,
            "width": null
          }
        },
        "17d64a35b6fd44ce9350dc9e4b6df891": {
          "model_module": "@jupyter-widgets/controls",
          "model_module_version": "1.5.0",
          "model_name": "DescriptionStyleModel",
          "state": {
            "_model_module": "@jupyter-widgets/controls",
            "_model_module_version": "1.5.0",
            "_model_name": "DescriptionStyleModel",
            "_view_count": null,
            "_view_module": "@jupyter-widgets/base",
            "_view_module_version": "1.2.0",
            "_view_name": "StyleView",
            "description_width": ""
          }
        },
        "22430261fc454dea971ceb3c24bc6dd4": {
          "model_module": "@jupyter-widgets/base",
          "model_module_version": "1.2.0",
          "model_name": "LayoutModel",
          "state": {
            "_model_module": "@jupyter-widgets/base",
            "_model_module_version": "1.2.0",
            "_model_name": "LayoutModel",
            "_view_count": null,
            "_view_module": "@jupyter-widgets/base",
            "_view_module_version": "1.2.0",
            "_view_name": "LayoutView",
            "align_content": null,
            "align_items": null,
            "align_self": null,
            "border": null,
            "bottom": null,
            "display": null,
            "flex": null,
            "flex_flow": null,
            "grid_area": null,
            "grid_auto_columns": null,
            "grid_auto_flow": null,
            "grid_auto_rows": null,
            "grid_column": null,
            "grid_gap": null,
            "grid_row": null,
            "grid_template_areas": null,
            "grid_template_columns": null,
            "grid_template_rows": null,
            "height": null,
            "justify_content": null,
            "justify_items": null,
            "left": null,
            "margin": null,
            "max_height": null,
            "max_width": null,
            "min_height": null,
            "min_width": null,
            "object_fit": null,
            "object_position": null,
            "order": null,
            "overflow": null,
            "overflow_x": null,
            "overflow_y": null,
            "padding": null,
            "right": null,
            "top": null,
            "visibility": null,
            "width": null
          }
        },
        "2312753655dc4e3e9dfb444f825e528e": {
          "model_module": "@jupyter-widgets/base",
          "model_module_version": "1.2.0",
          "model_name": "LayoutModel",
          "state": {
            "_model_module": "@jupyter-widgets/base",
            "_model_module_version": "1.2.0",
            "_model_name": "LayoutModel",
            "_view_count": null,
            "_view_module": "@jupyter-widgets/base",
            "_view_module_version": "1.2.0",
            "_view_name": "LayoutView",
            "align_content": null,
            "align_items": null,
            "align_self": null,
            "border": null,
            "bottom": null,
            "display": null,
            "flex": null,
            "flex_flow": null,
            "grid_area": null,
            "grid_auto_columns": null,
            "grid_auto_flow": null,
            "grid_auto_rows": null,
            "grid_column": null,
            "grid_gap": null,
            "grid_row": null,
            "grid_template_areas": null,
            "grid_template_columns": null,
            "grid_template_rows": null,
            "height": null,
            "justify_content": null,
            "justify_items": null,
            "left": null,
            "margin": null,
            "max_height": null,
            "max_width": null,
            "min_height": null,
            "min_width": null,
            "object_fit": null,
            "object_position": null,
            "order": null,
            "overflow": null,
            "overflow_x": null,
            "overflow_y": null,
            "padding": null,
            "right": null,
            "top": null,
            "visibility": null,
            "width": null
          }
        },
        "28102c7cd5e64df2bf6c2999942b29a7": {
          "model_module": "@jupyter-widgets/controls",
          "model_module_version": "1.5.0",
          "model_name": "ProgressStyleModel",
          "state": {
            "_model_module": "@jupyter-widgets/controls",
            "_model_module_version": "1.5.0",
            "_model_name": "ProgressStyleModel",
            "_view_count": null,
            "_view_module": "@jupyter-widgets/base",
            "_view_module_version": "1.2.0",
            "_view_name": "StyleView",
            "bar_color": null,
            "description_width": ""
          }
        },
        "2b3daaaba9ef47c5a8ffee1a8fcfc34f": {
          "model_module": "@jupyter-widgets/controls",
          "model_module_version": "1.5.0",
          "model_name": "ProgressStyleModel",
          "state": {
            "_model_module": "@jupyter-widgets/controls",
            "_model_module_version": "1.5.0",
            "_model_name": "ProgressStyleModel",
            "_view_count": null,
            "_view_module": "@jupyter-widgets/base",
            "_view_module_version": "1.2.0",
            "_view_name": "StyleView",
            "bar_color": null,
            "description_width": ""
          }
        },
        "2e5bfd14a28443419544e11e707b6491": {
          "model_module": "@jupyter-widgets/base",
          "model_module_version": "1.2.0",
          "model_name": "LayoutModel",
          "state": {
            "_model_module": "@jupyter-widgets/base",
            "_model_module_version": "1.2.0",
            "_model_name": "LayoutModel",
            "_view_count": null,
            "_view_module": "@jupyter-widgets/base",
            "_view_module_version": "1.2.0",
            "_view_name": "LayoutView",
            "align_content": null,
            "align_items": null,
            "align_self": null,
            "border": null,
            "bottom": null,
            "display": null,
            "flex": null,
            "flex_flow": null,
            "grid_area": null,
            "grid_auto_columns": null,
            "grid_auto_flow": null,
            "grid_auto_rows": null,
            "grid_column": null,
            "grid_gap": null,
            "grid_row": null,
            "grid_template_areas": null,
            "grid_template_columns": null,
            "grid_template_rows": null,
            "height": null,
            "justify_content": null,
            "justify_items": null,
            "left": null,
            "margin": null,
            "max_height": null,
            "max_width": null,
            "min_height": null,
            "min_width": null,
            "object_fit": null,
            "object_position": null,
            "order": null,
            "overflow": null,
            "overflow_x": null,
            "overflow_y": null,
            "padding": null,
            "right": null,
            "top": null,
            "visibility": null,
            "width": null
          }
        },
        "3394748e21694ee587467dfd8d734f60": {
          "model_module": "@jupyter-widgets/base",
          "model_module_version": "1.2.0",
          "model_name": "LayoutModel",
          "state": {
            "_model_module": "@jupyter-widgets/base",
            "_model_module_version": "1.2.0",
            "_model_name": "LayoutModel",
            "_view_count": null,
            "_view_module": "@jupyter-widgets/base",
            "_view_module_version": "1.2.0",
            "_view_name": "LayoutView",
            "align_content": null,
            "align_items": null,
            "align_self": null,
            "border": null,
            "bottom": null,
            "display": null,
            "flex": null,
            "flex_flow": null,
            "grid_area": null,
            "grid_auto_columns": null,
            "grid_auto_flow": null,
            "grid_auto_rows": null,
            "grid_column": null,
            "grid_gap": null,
            "grid_row": null,
            "grid_template_areas": null,
            "grid_template_columns": null,
            "grid_template_rows": null,
            "height": null,
            "justify_content": null,
            "justify_items": null,
            "left": null,
            "margin": null,
            "max_height": null,
            "max_width": null,
            "min_height": null,
            "min_width": null,
            "object_fit": null,
            "object_position": null,
            "order": null,
            "overflow": null,
            "overflow_x": null,
            "overflow_y": null,
            "padding": null,
            "right": null,
            "top": null,
            "visibility": null,
            "width": null
          }
        },
        "37fd5f99aceb4cf0819cfeeeeb258adb": {
          "model_module": "@jupyter-widgets/base",
          "model_module_version": "1.2.0",
          "model_name": "LayoutModel",
          "state": {
            "_model_module": "@jupyter-widgets/base",
            "_model_module_version": "1.2.0",
            "_model_name": "LayoutModel",
            "_view_count": null,
            "_view_module": "@jupyter-widgets/base",
            "_view_module_version": "1.2.0",
            "_view_name": "LayoutView",
            "align_content": null,
            "align_items": null,
            "align_self": null,
            "border": null,
            "bottom": null,
            "display": null,
            "flex": null,
            "flex_flow": null,
            "grid_area": null,
            "grid_auto_columns": null,
            "grid_auto_flow": null,
            "grid_auto_rows": null,
            "grid_column": null,
            "grid_gap": null,
            "grid_row": null,
            "grid_template_areas": null,
            "grid_template_columns": null,
            "grid_template_rows": null,
            "height": null,
            "justify_content": null,
            "justify_items": null,
            "left": null,
            "margin": null,
            "max_height": null,
            "max_width": null,
            "min_height": null,
            "min_width": null,
            "object_fit": null,
            "object_position": null,
            "order": null,
            "overflow": null,
            "overflow_x": null,
            "overflow_y": null,
            "padding": null,
            "right": null,
            "top": null,
            "visibility": null,
            "width": null
          }
        },
        "39226301722848dd847dcb41a925609e": {
          "model_module": "@jupyter-widgets/base",
          "model_module_version": "1.2.0",
          "model_name": "LayoutModel",
          "state": {
            "_model_module": "@jupyter-widgets/base",
            "_model_module_version": "1.2.0",
            "_model_name": "LayoutModel",
            "_view_count": null,
            "_view_module": "@jupyter-widgets/base",
            "_view_module_version": "1.2.0",
            "_view_name": "LayoutView",
            "align_content": null,
            "align_items": null,
            "align_self": null,
            "border": null,
            "bottom": null,
            "display": null,
            "flex": null,
            "flex_flow": null,
            "grid_area": null,
            "grid_auto_columns": null,
            "grid_auto_flow": null,
            "grid_auto_rows": null,
            "grid_column": null,
            "grid_gap": null,
            "grid_row": null,
            "grid_template_areas": null,
            "grid_template_columns": null,
            "grid_template_rows": null,
            "height": null,
            "justify_content": null,
            "justify_items": null,
            "left": null,
            "margin": null,
            "max_height": null,
            "max_width": null,
            "min_height": null,
            "min_width": null,
            "object_fit": null,
            "object_position": null,
            "order": null,
            "overflow": null,
            "overflow_x": null,
            "overflow_y": null,
            "padding": null,
            "right": null,
            "top": null,
            "visibility": null,
            "width": null
          }
        },
        "3bc9f08c27974250b6239021e8d84962": {
          "model_module": "@jupyter-widgets/controls",
          "model_module_version": "1.5.0",
          "model_name": "ProgressStyleModel",
          "state": {
            "_model_module": "@jupyter-widgets/controls",
            "_model_module_version": "1.5.0",
            "_model_name": "ProgressStyleModel",
            "_view_count": null,
            "_view_module": "@jupyter-widgets/base",
            "_view_module_version": "1.2.0",
            "_view_name": "StyleView",
            "bar_color": null,
            "description_width": ""
          }
        },
        "3c9eb4fe165c461bb0e5e1f19eb72105": {
          "model_module": "@jupyter-widgets/controls",
          "model_module_version": "1.5.0",
          "model_name": "HTMLModel",
          "state": {
            "_dom_classes": [],
            "_model_module": "@jupyter-widgets/controls",
            "_model_module_version": "1.5.0",
            "_model_name": "HTMLModel",
            "_view_count": null,
            "_view_module": "@jupyter-widgets/controls",
            "_view_module_version": "1.5.0",
            "_view_name": "HTMLView",
            "description": "",
            "description_tooltip": null,
            "layout": "IPY_MODEL_868aef817d604f86a64677db07215d41",
            "placeholder": "​",
            "style": "IPY_MODEL_0708b0b75ebf4cb3a65b088d4ca285bd",
            "value": "Generating train split: 100%"
          }
        },
        "3e1b56024fad457a96c03a4229ac8c9f": {
          "model_module": "@jupyter-widgets/controls",
          "model_module_version": "1.5.0",
          "model_name": "FloatProgressModel",
          "state": {
            "_dom_classes": [],
            "_model_module": "@jupyter-widgets/controls",
            "_model_module_version": "1.5.0",
            "_model_name": "FloatProgressModel",
            "_view_count": null,
            "_view_module": "@jupyter-widgets/controls",
            "_view_module_version": "1.5.0",
            "_view_name": "ProgressView",
            "bar_style": "success",
            "description": "",
            "description_tooltip": null,
            "layout": "IPY_MODEL_e81d28d28ae44628b75600b60c0d289d",
            "max": 142217,
            "min": 0,
            "orientation": "horizontal",
            "style": "IPY_MODEL_694fc37b0a184abbab3401b87db2444f",
            "value": 142217
          }
        },
        "3e2347ceb5dd4914a23a671f5e200b30": {
          "model_module": "@jupyter-widgets/controls",
          "model_module_version": "1.5.0",
          "model_name": "HTMLModel",
          "state": {
            "_dom_classes": [],
            "_model_module": "@jupyter-widgets/controls",
            "_model_module_version": "1.5.0",
            "_model_name": "HTMLModel",
            "_view_count": null,
            "_view_module": "@jupyter-widgets/controls",
            "_view_module_version": "1.5.0",
            "_view_name": "HTMLView",
            "description": "",
            "description_tooltip": null,
            "layout": "IPY_MODEL_39226301722848dd847dcb41a925609e",
            "placeholder": "​",
            "style": "IPY_MODEL_9c1b1934f4454d4ab613324f25e8c225",
            "value": "Downloading readme: 100%"
          }
        },
        "412450f71feb41ac843fe63307ae8875": {
          "model_module": "@jupyter-widgets/controls",
          "model_module_version": "1.5.0",
          "model_name": "FloatProgressModel",
          "state": {
            "_dom_classes": [],
            "_model_module": "@jupyter-widgets/controls",
            "_model_module_version": "1.5.0",
            "_model_name": "FloatProgressModel",
            "_view_count": null,
            "_view_module": "@jupyter-widgets/controls",
            "_view_module_version": "1.5.0",
            "_view_name": "ProgressView",
            "bar_style": "success",
            "description": "",
            "description_tooltip": null,
            "layout": "IPY_MODEL_8c0dc44f45cd44d8985b7c5a19a2cae5",
            "max": 470374,
            "min": 0,
            "orientation": "horizontal",
            "style": "IPY_MODEL_ce55a463d1ea4ec7b5424449cac350cd",
            "value": 470374
          }
        },
        "46aae8b1398041428ce356dd31a6389e": {
          "model_module": "@jupyter-widgets/base",
          "model_module_version": "1.2.0",
          "model_name": "LayoutModel",
          "state": {
            "_model_module": "@jupyter-widgets/base",
            "_model_module_version": "1.2.0",
            "_model_name": "LayoutModel",
            "_view_count": null,
            "_view_module": "@jupyter-widgets/base",
            "_view_module_version": "1.2.0",
            "_view_name": "LayoutView",
            "align_content": null,
            "align_items": null,
            "align_self": null,
            "border": null,
            "bottom": null,
            "display": null,
            "flex": null,
            "flex_flow": null,
            "grid_area": null,
            "grid_auto_columns": null,
            "grid_auto_flow": null,
            "grid_auto_rows": null,
            "grid_column": null,
            "grid_gap": null,
            "grid_row": null,
            "grid_template_areas": null,
            "grid_template_columns": null,
            "grid_template_rows": null,
            "height": null,
            "justify_content": null,
            "justify_items": null,
            "left": null,
            "margin": null,
            "max_height": null,
            "max_width": null,
            "min_height": null,
            "min_width": null,
            "object_fit": null,
            "object_position": null,
            "order": null,
            "overflow": null,
            "overflow_x": null,
            "overflow_y": null,
            "padding": null,
            "right": null,
            "top": null,
            "visibility": null,
            "width": null
          }
        },
        "48a86f3a61c74407a6720b21f0ad3b0b": {
          "model_module": "@jupyter-widgets/controls",
          "model_module_version": "1.5.0",
          "model_name": "DescriptionStyleModel",
          "state": {
            "_model_module": "@jupyter-widgets/controls",
            "_model_module_version": "1.5.0",
            "_model_name": "DescriptionStyleModel",
            "_view_count": null,
            "_view_module": "@jupyter-widgets/base",
            "_view_module_version": "1.2.0",
            "_view_name": "StyleView",
            "description_width": ""
          }
        },
        "4c6df2d227f64f4180d0d59b5af2a68d": {
          "model_module": "@jupyter-widgets/base",
          "model_module_version": "1.2.0",
          "model_name": "LayoutModel",
          "state": {
            "_model_module": "@jupyter-widgets/base",
            "_model_module_version": "1.2.0",
            "_model_name": "LayoutModel",
            "_view_count": null,
            "_view_module": "@jupyter-widgets/base",
            "_view_module_version": "1.2.0",
            "_view_name": "LayoutView",
            "align_content": null,
            "align_items": null,
            "align_self": null,
            "border": null,
            "bottom": null,
            "display": null,
            "flex": null,
            "flex_flow": null,
            "grid_area": null,
            "grid_auto_columns": null,
            "grid_auto_flow": null,
            "grid_auto_rows": null,
            "grid_column": null,
            "grid_gap": null,
            "grid_row": null,
            "grid_template_areas": null,
            "grid_template_columns": null,
            "grid_template_rows": null,
            "height": null,
            "justify_content": null,
            "justify_items": null,
            "left": null,
            "margin": null,
            "max_height": null,
            "max_width": null,
            "min_height": null,
            "min_width": null,
            "object_fit": null,
            "object_position": null,
            "order": null,
            "overflow": null,
            "overflow_x": null,
            "overflow_y": null,
            "padding": null,
            "right": null,
            "top": null,
            "visibility": null,
            "width": null
          }
        },
        "4ef10e0144114e6dbf2ea1e7f7014846": {
          "model_module": "@jupyter-widgets/controls",
          "model_module_version": "1.5.0",
          "model_name": "HBoxModel",
          "state": {
            "_dom_classes": [],
            "_model_module": "@jupyter-widgets/controls",
            "_model_module_version": "1.5.0",
            "_model_name": "HBoxModel",
            "_view_count": null,
            "_view_module": "@jupyter-widgets/controls",
            "_view_module_version": "1.5.0",
            "_view_name": "HBoxView",
            "box_style": "",
            "children": [
              "IPY_MODEL_d0236566e8904bf098a91d9179e3bc61",
              "IPY_MODEL_3e1b56024fad457a96c03a4229ac8c9f",
              "IPY_MODEL_cb5f0841075e432a9eb683b704f7f141"
            ],
            "layout": "IPY_MODEL_cc57236f7f8e4d4487a8b5297628ac43"
          }
        },
        "530bb1512faa4a16b6c30ac4625fccd9": {
          "model_module": "@jupyter-widgets/base",
          "model_module_version": "1.2.0",
          "model_name": "LayoutModel",
          "state": {
            "_model_module": "@jupyter-widgets/base",
            "_model_module_version": "1.2.0",
            "_model_name": "LayoutModel",
            "_view_count": null,
            "_view_module": "@jupyter-widgets/base",
            "_view_module_version": "1.2.0",
            "_view_name": "LayoutView",
            "align_content": null,
            "align_items": null,
            "align_self": null,
            "border": null,
            "bottom": null,
            "display": null,
            "flex": null,
            "flex_flow": null,
            "grid_area": null,
            "grid_auto_columns": null,
            "grid_auto_flow": null,
            "grid_auto_rows": null,
            "grid_column": null,
            "grid_gap": null,
            "grid_row": null,
            "grid_template_areas": null,
            "grid_template_columns": null,
            "grid_template_rows": null,
            "height": null,
            "justify_content": null,
            "justify_items": null,
            "left": null,
            "margin": null,
            "max_height": null,
            "max_width": null,
            "min_height": null,
            "min_width": null,
            "object_fit": null,
            "object_position": null,
            "order": null,
            "overflow": null,
            "overflow_x": null,
            "overflow_y": null,
            "padding": null,
            "right": null,
            "top": null,
            "visibility": null,
            "width": null
          }
        },
        "5540e59629784573b62c3caf7b95c7a5": {
          "model_module": "@jupyter-widgets/controls",
          "model_module_version": "1.5.0",
          "model_name": "HBoxModel",
          "state": {
            "_dom_classes": [],
            "_model_module": "@jupyter-widgets/controls",
            "_model_module_version": "1.5.0",
            "_model_name": "HBoxModel",
            "_view_count": null,
            "_view_module": "@jupyter-widgets/controls",
            "_view_module_version": "1.5.0",
            "_view_name": "HBoxView",
            "box_style": "",
            "children": [
              "IPY_MODEL_3e2347ceb5dd4914a23a671f5e200b30",
              "IPY_MODEL_df3c210ab9794131992140d4100bf451",
              "IPY_MODEL_e26cd37883124998bef5ba2b874c6a69"
            ],
            "layout": "IPY_MODEL_22430261fc454dea971ceb3c24bc6dd4"
          }
        },
        "58e43d781cf64172abdd5451146448b2": {
          "model_module": "@jupyter-widgets/controls",
          "model_module_version": "1.5.0",
          "model_name": "DescriptionStyleModel",
          "state": {
            "_model_module": "@jupyter-widgets/controls",
            "_model_module_version": "1.5.0",
            "_model_name": "DescriptionStyleModel",
            "_view_count": null,
            "_view_module": "@jupyter-widgets/base",
            "_view_module_version": "1.2.0",
            "_view_name": "StyleView",
            "description_width": ""
          }
        },
        "5cf0c04b5c0a4bf280e2a95371f4c326": {
          "model_module": "@jupyter-widgets/controls",
          "model_module_version": "1.5.0",
          "model_name": "FloatProgressModel",
          "state": {
            "_dom_classes": [],
            "_model_module": "@jupyter-widgets/controls",
            "_model_module_version": "1.5.0",
            "_model_name": "FloatProgressModel",
            "_view_count": null,
            "_view_module": "@jupyter-widgets/controls",
            "_view_module_version": "1.5.0",
            "_view_name": "ProgressView",
            "bar_style": "success",
            "description": "",
            "description_tooltip": null,
            "layout": "IPY_MODEL_bd4565016cf84116b9837ff24b372745",
            "max": 108003,
            "min": 0,
            "orientation": "horizontal",
            "style": "IPY_MODEL_64b428e9553440a0b04c29b45f623a83",
            "value": 108003
          }
        },
        "6101ae87a74e4ca4aeda15dcbda41c7b": {
          "model_module": "@jupyter-widgets/controls",
          "model_module_version": "1.5.0",
          "model_name": "HTMLModel",
          "state": {
            "_dom_classes": [],
            "_model_module": "@jupyter-widgets/controls",
            "_model_module_version": "1.5.0",
            "_model_name": "HTMLModel",
            "_view_count": null,
            "_view_module": "@jupyter-widgets/controls",
            "_view_module_version": "1.5.0",
            "_view_name": "HTMLView",
            "description": "",
            "description_tooltip": null,
            "layout": "IPY_MODEL_a578d115f5a84839839c2b8513b77b0e",
            "placeholder": "​",
            "style": "IPY_MODEL_621fd6fd93fe4aa2bf9c8e2ae4cd44bc",
            "value": "Downloading data: 100%"
          }
        },
        "621fd6fd93fe4aa2bf9c8e2ae4cd44bc": {
          "model_module": "@jupyter-widgets/controls",
          "model_module_version": "1.5.0",
          "model_name": "DescriptionStyleModel",
          "state": {
            "_model_module": "@jupyter-widgets/controls",
            "_model_module_version": "1.5.0",
            "_model_name": "DescriptionStyleModel",
            "_view_count": null,
            "_view_module": "@jupyter-widgets/base",
            "_view_module_version": "1.2.0",
            "_view_name": "StyleView",
            "description_width": ""
          }
        },
        "637c331a25ec49d5867250093a767351": {
          "model_module": "@jupyter-widgets/controls",
          "model_module_version": "1.5.0",
          "model_name": "HTMLModel",
          "state": {
            "_dom_classes": [],
            "_model_module": "@jupyter-widgets/controls",
            "_model_module_version": "1.5.0",
            "_model_name": "HTMLModel",
            "_view_count": null,
            "_view_module": "@jupyter-widgets/controls",
            "_view_module_version": "1.5.0",
            "_view_name": "HTMLView",
            "description": "",
            "description_tooltip": null,
            "layout": "IPY_MODEL_e6bc4edfb22a40c7aa6f4d03046f5668",
            "placeholder": "​",
            "style": "IPY_MODEL_48a86f3a61c74407a6720b21f0ad3b0b",
            "value": " 5749/5749 [00:00&lt;00:00, 46994.48 examples/s]"
          }
        },
        "64b428e9553440a0b04c29b45f623a83": {
          "model_module": "@jupyter-widgets/controls",
          "model_module_version": "1.5.0",
          "model_name": "ProgressStyleModel",
          "state": {
            "_model_module": "@jupyter-widgets/controls",
            "_model_module_version": "1.5.0",
            "_model_name": "ProgressStyleModel",
            "_view_count": null,
            "_view_module": "@jupyter-widgets/base",
            "_view_module_version": "1.2.0",
            "_view_name": "StyleView",
            "bar_color": null,
            "description_width": ""
          }
        },
        "68b49c59d6e544aeaa3c527c67f6a71d": {
          "model_module": "@jupyter-widgets/controls",
          "model_module_version": "1.5.0",
          "model_name": "DescriptionStyleModel",
          "state": {
            "_model_module": "@jupyter-widgets/controls",
            "_model_module_version": "1.5.0",
            "_model_name": "DescriptionStyleModel",
            "_view_count": null,
            "_view_module": "@jupyter-widgets/base",
            "_view_module_version": "1.2.0",
            "_view_name": "StyleView",
            "description_width": ""
          }
        },
        "694fc37b0a184abbab3401b87db2444f": {
          "model_module": "@jupyter-widgets/controls",
          "model_module_version": "1.5.0",
          "model_name": "ProgressStyleModel",
          "state": {
            "_model_module": "@jupyter-widgets/controls",
            "_model_module_version": "1.5.0",
            "_model_name": "ProgressStyleModel",
            "_view_count": null,
            "_view_module": "@jupyter-widgets/base",
            "_view_module_version": "1.2.0",
            "_view_name": "StyleView",
            "bar_color": null,
            "description_width": ""
          }
        },
        "6d2b9d190fa3491b8a45a31fa16bda9e": {
          "model_module": "@jupyter-widgets/controls",
          "model_module_version": "1.5.0",
          "model_name": "HBoxModel",
          "state": {
            "_dom_classes": [],
            "_model_module": "@jupyter-widgets/controls",
            "_model_module_version": "1.5.0",
            "_model_name": "HBoxModel",
            "_view_count": null,
            "_view_module": "@jupyter-widgets/controls",
            "_view_module_version": "1.5.0",
            "_view_name": "HBoxView",
            "box_style": "",
            "children": [
              "IPY_MODEL_3c9eb4fe165c461bb0e5e1f19eb72105",
              "IPY_MODEL_90f4d824a25c412ea948bb9b6f01fbaa",
              "IPY_MODEL_637c331a25ec49d5867250093a767351"
            ],
            "layout": "IPY_MODEL_105d3a581e364086b917a4144560ae75"
          }
        },
        "6da26cccce594194abb8fa2235b84624": {
          "model_module": "@jupyter-widgets/controls",
          "model_module_version": "1.5.0",
          "model_name": "DescriptionStyleModel",
          "state": {
            "_model_module": "@jupyter-widgets/controls",
            "_model_module_version": "1.5.0",
            "_model_name": "DescriptionStyleModel",
            "_view_count": null,
            "_view_module": "@jupyter-widgets/base",
            "_view_module_version": "1.2.0",
            "_view_name": "StyleView",
            "description_width": ""
          }
        },
        "6ff28dd678924f5c9842603094ecf56b": {
          "model_module": "@jupyter-widgets/controls",
          "model_module_version": "1.5.0",
          "model_name": "FloatProgressModel",
          "state": {
            "_dom_classes": [],
            "_model_module": "@jupyter-widgets/controls",
            "_model_module_version": "1.5.0",
            "_model_name": "FloatProgressModel",
            "_view_count": null,
            "_view_module": "@jupyter-widgets/controls",
            "_view_module_version": "1.5.0",
            "_view_name": "ProgressView",
            "bar_style": "success",
            "description": "",
            "description_tooltip": null,
            "layout": "IPY_MODEL_530bb1512faa4a16b6c30ac4625fccd9",
            "max": 1500,
            "min": 0,
            "orientation": "horizontal",
            "style": "IPY_MODEL_2b3daaaba9ef47c5a8ffee1a8fcfc34f",
            "value": 1500
          }
        },
        "75395d727f9c46be880e2efd7fe7caf4": {
          "model_module": "@jupyter-widgets/controls",
          "model_module_version": "1.5.0",
          "model_name": "DescriptionStyleModel",
          "state": {
            "_model_module": "@jupyter-widgets/controls",
            "_model_module_version": "1.5.0",
            "_model_name": "DescriptionStyleModel",
            "_view_count": null,
            "_view_module": "@jupyter-widgets/base",
            "_view_module_version": "1.2.0",
            "_view_name": "StyleView",
            "description_width": ""
          }
        },
        "76c9f943d8754c11811eb3f7b93a3237": {
          "model_module": "@jupyter-widgets/controls",
          "model_module_version": "1.5.0",
          "model_name": "HTMLModel",
          "state": {
            "_dom_classes": [],
            "_model_module": "@jupyter-widgets/controls",
            "_model_module_version": "1.5.0",
            "_model_name": "HTMLModel",
            "_view_count": null,
            "_view_module": "@jupyter-widgets/controls",
            "_view_module_version": "1.5.0",
            "_view_name": "HTMLView",
            "description": "",
            "description_tooltip": null,
            "layout": "IPY_MODEL_ced06c54bb7f4309914bf1247b738fcc",
            "placeholder": "​",
            "style": "IPY_MODEL_b3d6dc73d5bd441ca432001bf4c4cac3",
            "value": "Generating dev split: 100%"
          }
        },
        "7a6566ef925f4213af64fc76d923b74e": {
          "model_module": "@jupyter-widgets/controls",
          "model_module_version": "1.5.0",
          "model_name": "HBoxModel",
          "state": {
            "_dom_classes": [],
            "_model_module": "@jupyter-widgets/controls",
            "_model_module_version": "1.5.0",
            "_model_name": "HBoxModel",
            "_view_count": null,
            "_view_module": "@jupyter-widgets/controls",
            "_view_module_version": "1.5.0",
            "_view_name": "HBoxView",
            "box_style": "",
            "children": [
              "IPY_MODEL_abc98ff5e5d641fb86d73677118a3778",
              "IPY_MODEL_5cf0c04b5c0a4bf280e2a95371f4c326",
              "IPY_MODEL_cec216e0eb364c4f994fdde9463535a4"
            ],
            "layout": "IPY_MODEL_eef664f4400840af8db4ba73059e1c4a"
          }
        },
        "868aef817d604f86a64677db07215d41": {
          "model_module": "@jupyter-widgets/base",
          "model_module_version": "1.2.0",
          "model_name": "LayoutModel",
          "state": {
            "_model_module": "@jupyter-widgets/base",
            "_model_module_version": "1.2.0",
            "_model_name": "LayoutModel",
            "_view_count": null,
            "_view_module": "@jupyter-widgets/base",
            "_view_module_version": "1.2.0",
            "_view_name": "LayoutView",
            "align_content": null,
            "align_items": null,
            "align_self": null,
            "border": null,
            "bottom": null,
            "display": null,
            "flex": null,
            "flex_flow": null,
            "grid_area": null,
            "grid_auto_columns": null,
            "grid_auto_flow": null,
            "grid_auto_rows": null,
            "grid_column": null,
            "grid_gap": null,
            "grid_row": null,
            "grid_template_areas": null,
            "grid_template_columns": null,
            "grid_template_rows": null,
            "height": null,
            "justify_content": null,
            "justify_items": null,
            "left": null,
            "margin": null,
            "max_height": null,
            "max_width": null,
            "min_height": null,
            "min_width": null,
            "object_fit": null,
            "object_position": null,
            "order": null,
            "overflow": null,
            "overflow_x": null,
            "overflow_y": null,
            "padding": null,
            "right": null,
            "top": null,
            "visibility": null,
            "width": null
          }
        },
        "86b2bb0f9b4d44478a4a34b5acfa0790": {
          "model_module": "@jupyter-widgets/base",
          "model_module_version": "1.2.0",
          "model_name": "LayoutModel",
          "state": {
            "_model_module": "@jupyter-widgets/base",
            "_model_module_version": "1.2.0",
            "_model_name": "LayoutModel",
            "_view_count": null,
            "_view_module": "@jupyter-widgets/base",
            "_view_module_version": "1.2.0",
            "_view_name": "LayoutView",
            "align_content": null,
            "align_items": null,
            "align_self": null,
            "border": null,
            "bottom": null,
            "display": null,
            "flex": null,
            "flex_flow": null,
            "grid_area": null,
            "grid_auto_columns": null,
            "grid_auto_flow": null,
            "grid_auto_rows": null,
            "grid_column": null,
            "grid_gap": null,
            "grid_row": null,
            "grid_template_areas": null,
            "grid_template_columns": null,
            "grid_template_rows": null,
            "height": null,
            "justify_content": null,
            "justify_items": null,
            "left": null,
            "margin": null,
            "max_height": null,
            "max_width": null,
            "min_height": null,
            "min_width": null,
            "object_fit": null,
            "object_position": null,
            "order": null,
            "overflow": null,
            "overflow_x": null,
            "overflow_y": null,
            "padding": null,
            "right": null,
            "top": null,
            "visibility": null,
            "width": null
          }
        },
        "8c0dc44f45cd44d8985b7c5a19a2cae5": {
          "model_module": "@jupyter-widgets/base",
          "model_module_version": "1.2.0",
          "model_name": "LayoutModel",
          "state": {
            "_model_module": "@jupyter-widgets/base",
            "_model_module_version": "1.2.0",
            "_model_name": "LayoutModel",
            "_view_count": null,
            "_view_module": "@jupyter-widgets/base",
            "_view_module_version": "1.2.0",
            "_view_name": "LayoutView",
            "align_content": null,
            "align_items": null,
            "align_self": null,
            "border": null,
            "bottom": null,
            "display": null,
            "flex": null,
            "flex_flow": null,
            "grid_area": null,
            "grid_auto_columns": null,
            "grid_auto_flow": null,
            "grid_auto_rows": null,
            "grid_column": null,
            "grid_gap": null,
            "grid_row": null,
            "grid_template_areas": null,
            "grid_template_columns": null,
            "grid_template_rows": null,
            "height": null,
            "justify_content": null,
            "justify_items": null,
            "left": null,
            "margin": null,
            "max_height": null,
            "max_width": null,
            "min_height": null,
            "min_width": null,
            "object_fit": null,
            "object_position": null,
            "order": null,
            "overflow": null,
            "overflow_x": null,
            "overflow_y": null,
            "padding": null,
            "right": null,
            "top": null,
            "visibility": null,
            "width": null
          }
        },
        "90f4d824a25c412ea948bb9b6f01fbaa": {
          "model_module": "@jupyter-widgets/controls",
          "model_module_version": "1.5.0",
          "model_name": "FloatProgressModel",
          "state": {
            "_dom_classes": [],
            "_model_module": "@jupyter-widgets/controls",
            "_model_module_version": "1.5.0",
            "_model_name": "FloatProgressModel",
            "_view_count": null,
            "_view_module": "@jupyter-widgets/controls",
            "_view_module_version": "1.5.0",
            "_view_name": "ProgressView",
            "bar_style": "success",
            "description": "",
            "description_tooltip": null,
            "layout": "IPY_MODEL_ad657afea30d4a9aa2dca54d414ae79c",
            "max": 5749,
            "min": 0,
            "orientation": "horizontal",
            "style": "IPY_MODEL_28102c7cd5e64df2bf6c2999942b29a7",
            "value": 5749
          }
        },
        "944332e03d8247d2be0d9af7ba861f01": {
          "model_module": "@jupyter-widgets/controls",
          "model_module_version": "1.5.0",
          "model_name": "HTMLModel",
          "state": {
            "_dom_classes": [],
            "_model_module": "@jupyter-widgets/controls",
            "_model_module_version": "1.5.0",
            "_model_name": "HTMLModel",
            "_view_count": null,
            "_view_module": "@jupyter-widgets/controls",
            "_view_module_version": "1.5.0",
            "_view_name": "HTMLView",
            "description": "",
            "description_tooltip": null,
            "layout": "IPY_MODEL_37fd5f99aceb4cf0819cfeeeeb258adb",
            "placeholder": "​",
            "style": "IPY_MODEL_17d64a35b6fd44ce9350dc9e4b6df891",
            "value": " 470k/470k [00:00&lt;00:00, 749kB/s]"
          }
        },
        "94c207bc09fa4fab9291c145810442e8": {
          "model_module": "@jupyter-widgets/base",
          "model_module_version": "1.2.0",
          "model_name": "LayoutModel",
          "state": {
            "_model_module": "@jupyter-widgets/base",
            "_model_module_version": "1.2.0",
            "_model_name": "LayoutModel",
            "_view_count": null,
            "_view_module": "@jupyter-widgets/base",
            "_view_module_version": "1.2.0",
            "_view_name": "LayoutView",
            "align_content": null,
            "align_items": null,
            "align_self": null,
            "border": null,
            "bottom": null,
            "display": null,
            "flex": null,
            "flex_flow": null,
            "grid_area": null,
            "grid_auto_columns": null,
            "grid_auto_flow": null,
            "grid_auto_rows": null,
            "grid_column": null,
            "grid_gap": null,
            "grid_row": null,
            "grid_template_areas": null,
            "grid_template_columns": null,
            "grid_template_rows": null,
            "height": null,
            "justify_content": null,
            "justify_items": null,
            "left": null,
            "margin": null,
            "max_height": null,
            "max_width": null,
            "min_height": null,
            "min_width": null,
            "object_fit": null,
            "object_position": null,
            "order": null,
            "overflow": null,
            "overflow_x": null,
            "overflow_y": null,
            "padding": null,
            "right": null,
            "top": null,
            "visibility": null,
            "width": null
          }
        },
        "9c1b1934f4454d4ab613324f25e8c225": {
          "model_module": "@jupyter-widgets/controls",
          "model_module_version": "1.5.0",
          "model_name": "DescriptionStyleModel",
          "state": {
            "_model_module": "@jupyter-widgets/controls",
            "_model_module_version": "1.5.0",
            "_model_name": "DescriptionStyleModel",
            "_view_count": null,
            "_view_module": "@jupyter-widgets/base",
            "_view_module_version": "1.2.0",
            "_view_name": "StyleView",
            "description_width": ""
          }
        },
        "a227945246ec4d989c76f928e6142f03": {
          "model_module": "@jupyter-widgets/controls",
          "model_module_version": "1.5.0",
          "model_name": "ProgressStyleModel",
          "state": {
            "_model_module": "@jupyter-widgets/controls",
            "_model_module_version": "1.5.0",
            "_model_name": "ProgressStyleModel",
            "_view_count": null,
            "_view_module": "@jupyter-widgets/base",
            "_view_module_version": "1.2.0",
            "_view_name": "StyleView",
            "bar_color": null,
            "description_width": ""
          }
        },
        "a511cc685e264eebb9bffe33b1270da7": {
          "model_module": "@jupyter-widgets/controls",
          "model_module_version": "1.5.0",
          "model_name": "HTMLModel",
          "state": {
            "_dom_classes": [],
            "_model_module": "@jupyter-widgets/controls",
            "_model_module_version": "1.5.0",
            "_model_name": "HTMLModel",
            "_view_count": null,
            "_view_module": "@jupyter-widgets/controls",
            "_view_module_version": "1.5.0",
            "_view_name": "HTMLView",
            "description": "",
            "description_tooltip": null,
            "layout": "IPY_MODEL_eee3747842ba40ea8a63932bf073ee57",
            "placeholder": "​",
            "style": "IPY_MODEL_68b49c59d6e544aeaa3c527c67f6a71d",
            "value": " 1500/1500 [00:00&lt;00:00, 33340.87 examples/s]"
          }
        },
        "a578d115f5a84839839c2b8513b77b0e": {
          "model_module": "@jupyter-widgets/base",
          "model_module_version": "1.2.0",
          "model_name": "LayoutModel",
          "state": {
            "_model_module": "@jupyter-widgets/base",
            "_model_module_version": "1.2.0",
            "_model_name": "LayoutModel",
            "_view_count": null,
            "_view_module": "@jupyter-widgets/base",
            "_view_module_version": "1.2.0",
            "_view_name": "LayoutView",
            "align_content": null,
            "align_items": null,
            "align_self": null,
            "border": null,
            "bottom": null,
            "display": null,
            "flex": null,
            "flex_flow": null,
            "grid_area": null,
            "grid_auto_columns": null,
            "grid_auto_flow": null,
            "grid_auto_rows": null,
            "grid_column": null,
            "grid_gap": null,
            "grid_row": null,
            "grid_template_areas": null,
            "grid_template_columns": null,
            "grid_template_rows": null,
            "height": null,
            "justify_content": null,
            "justify_items": null,
            "left": null,
            "margin": null,
            "max_height": null,
            "max_width": null,
            "min_height": null,
            "min_width": null,
            "object_fit": null,
            "object_position": null,
            "order": null,
            "overflow": null,
            "overflow_x": null,
            "overflow_y": null,
            "padding": null,
            "right": null,
            "top": null,
            "visibility": null,
            "width": null
          }
        },
        "abc98ff5e5d641fb86d73677118a3778": {
          "model_module": "@jupyter-widgets/controls",
          "model_module_version": "1.5.0",
          "model_name": "HTMLModel",
          "state": {
            "_dom_classes": [],
            "_model_module": "@jupyter-widgets/controls",
            "_model_module_version": "1.5.0",
            "_model_name": "HTMLModel",
            "_view_count": null,
            "_view_module": "@jupyter-widgets/controls",
            "_view_module_version": "1.5.0",
            "_view_name": "HTMLView",
            "description": "",
            "description_tooltip": null,
            "layout": "IPY_MODEL_af692d854e3e46b2b2856140b68b0887",
            "placeholder": "​",
            "style": "IPY_MODEL_bbf442e115dc44b38fe197237291747c",
            "value": "Downloading data: 100%"
          }
        },
        "ad657afea30d4a9aa2dca54d414ae79c": {
          "model_module": "@jupyter-widgets/base",
          "model_module_version": "1.2.0",
          "model_name": "LayoutModel",
          "state": {
            "_model_module": "@jupyter-widgets/base",
            "_model_module_version": "1.2.0",
            "_model_name": "LayoutModel",
            "_view_count": null,
            "_view_module": "@jupyter-widgets/base",
            "_view_module_version": "1.2.0",
            "_view_name": "LayoutView",
            "align_content": null,
            "align_items": null,
            "align_self": null,
            "border": null,
            "bottom": null,
            "display": null,
            "flex": null,
            "flex_flow": null,
            "grid_area": null,
            "grid_auto_columns": null,
            "grid_auto_flow": null,
            "grid_auto_rows": null,
            "grid_column": null,
            "grid_gap": null,
            "grid_row": null,
            "grid_template_areas": null,
            "grid_template_columns": null,
            "grid_template_rows": null,
            "height": null,
            "justify_content": null,
            "justify_items": null,
            "left": null,
            "margin": null,
            "max_height": null,
            "max_width": null,
            "min_height": null,
            "min_width": null,
            "object_fit": null,
            "object_position": null,
            "order": null,
            "overflow": null,
            "overflow_x": null,
            "overflow_y": null,
            "padding": null,
            "right": null,
            "top": null,
            "visibility": null,
            "width": null
          }
        },
        "af692d854e3e46b2b2856140b68b0887": {
          "model_module": "@jupyter-widgets/base",
          "model_module_version": "1.2.0",
          "model_name": "LayoutModel",
          "state": {
            "_model_module": "@jupyter-widgets/base",
            "_model_module_version": "1.2.0",
            "_model_name": "LayoutModel",
            "_view_count": null,
            "_view_module": "@jupyter-widgets/base",
            "_view_module_version": "1.2.0",
            "_view_name": "LayoutView",
            "align_content": null,
            "align_items": null,
            "align_self": null,
            "border": null,
            "bottom": null,
            "display": null,
            "flex": null,
            "flex_flow": null,
            "grid_area": null,
            "grid_auto_columns": null,
            "grid_auto_flow": null,
            "grid_auto_rows": null,
            "grid_column": null,
            "grid_gap": null,
            "grid_row": null,
            "grid_template_areas": null,
            "grid_template_columns": null,
            "grid_template_rows": null,
            "height": null,
            "justify_content": null,
            "justify_items": null,
            "left": null,
            "margin": null,
            "max_height": null,
            "max_width": null,
            "min_height": null,
            "min_width": null,
            "object_fit": null,
            "object_position": null,
            "order": null,
            "overflow": null,
            "overflow_x": null,
            "overflow_y": null,
            "padding": null,
            "right": null,
            "top": null,
            "visibility": null,
            "width": null
          }
        },
        "b3d6dc73d5bd441ca432001bf4c4cac3": {
          "model_module": "@jupyter-widgets/controls",
          "model_module_version": "1.5.0",
          "model_name": "DescriptionStyleModel",
          "state": {
            "_model_module": "@jupyter-widgets/controls",
            "_model_module_version": "1.5.0",
            "_model_name": "DescriptionStyleModel",
            "_view_count": null,
            "_view_module": "@jupyter-widgets/base",
            "_view_module_version": "1.2.0",
            "_view_name": "StyleView",
            "description_width": ""
          }
        },
        "b432e1431011485facfbf409656cbea8": {
          "model_module": "@jupyter-widgets/controls",
          "model_module_version": "1.5.0",
          "model_name": "HBoxModel",
          "state": {
            "_dom_classes": [],
            "_model_module": "@jupyter-widgets/controls",
            "_model_module_version": "1.5.0",
            "_model_name": "HBoxModel",
            "_view_count": null,
            "_view_module": "@jupyter-widgets/controls",
            "_view_module_version": "1.5.0",
            "_view_name": "HBoxView",
            "box_style": "",
            "children": [
              "IPY_MODEL_0c6ecd8e364f40fa9d9a9693fcaca9d2",
              "IPY_MODEL_e1ab31b7a6bc47e383ac931beac06f6b",
              "IPY_MODEL_1044734ba9b9461bbf5d40d83872f8b0"
            ],
            "layout": "IPY_MODEL_cb481b103d5e4594b4635ecd8cfbd61a"
          }
        },
        "bbf442e115dc44b38fe197237291747c": {
          "model_module": "@jupyter-widgets/controls",
          "model_module_version": "1.5.0",
          "model_name": "DescriptionStyleModel",
          "state": {
            "_model_module": "@jupyter-widgets/controls",
            "_model_module_version": "1.5.0",
            "_model_name": "DescriptionStyleModel",
            "_view_count": null,
            "_view_module": "@jupyter-widgets/base",
            "_view_module_version": "1.2.0",
            "_view_name": "StyleView",
            "description_width": ""
          }
        },
        "bd4565016cf84116b9837ff24b372745": {
          "model_module": "@jupyter-widgets/base",
          "model_module_version": "1.2.0",
          "model_name": "LayoutModel",
          "state": {
            "_model_module": "@jupyter-widgets/base",
            "_model_module_version": "1.2.0",
            "_model_name": "LayoutModel",
            "_view_count": null,
            "_view_module": "@jupyter-widgets/base",
            "_view_module_version": "1.2.0",
            "_view_name": "LayoutView",
            "align_content": null,
            "align_items": null,
            "align_self": null,
            "border": null,
            "bottom": null,
            "display": null,
            "flex": null,
            "flex_flow": null,
            "grid_area": null,
            "grid_auto_columns": null,
            "grid_auto_flow": null,
            "grid_auto_rows": null,
            "grid_column": null,
            "grid_gap": null,
            "grid_row": null,
            "grid_template_areas": null,
            "grid_template_columns": null,
            "grid_template_rows": null,
            "height": null,
            "justify_content": null,
            "justify_items": null,
            "left": null,
            "margin": null,
            "max_height": null,
            "max_width": null,
            "min_height": null,
            "min_width": null,
            "object_fit": null,
            "object_position": null,
            "order": null,
            "overflow": null,
            "overflow_x": null,
            "overflow_y": null,
            "padding": null,
            "right": null,
            "top": null,
            "visibility": null,
            "width": null
          }
        },
        "cb481b103d5e4594b4635ecd8cfbd61a": {
          "model_module": "@jupyter-widgets/base",
          "model_module_version": "1.2.0",
          "model_name": "LayoutModel",
          "state": {
            "_model_module": "@jupyter-widgets/base",
            "_model_module_version": "1.2.0",
            "_model_name": "LayoutModel",
            "_view_count": null,
            "_view_module": "@jupyter-widgets/base",
            "_view_module_version": "1.2.0",
            "_view_name": "LayoutView",
            "align_content": null,
            "align_items": null,
            "align_self": null,
            "border": null,
            "bottom": null,
            "display": null,
            "flex": null,
            "flex_flow": null,
            "grid_area": null,
            "grid_auto_columns": null,
            "grid_auto_flow": null,
            "grid_auto_rows": null,
            "grid_column": null,
            "grid_gap": null,
            "grid_row": null,
            "grid_template_areas": null,
            "grid_template_columns": null,
            "grid_template_rows": null,
            "height": null,
            "justify_content": null,
            "justify_items": null,
            "left": null,
            "margin": null,
            "max_height": null,
            "max_width": null,
            "min_height": null,
            "min_width": null,
            "object_fit": null,
            "object_position": null,
            "order": null,
            "overflow": null,
            "overflow_x": null,
            "overflow_y": null,
            "padding": null,
            "right": null,
            "top": null,
            "visibility": null,
            "width": null
          }
        },
        "cb5f0841075e432a9eb683b704f7f141": {
          "model_module": "@jupyter-widgets/controls",
          "model_module_version": "1.5.0",
          "model_name": "HTMLModel",
          "state": {
            "_dom_classes": [],
            "_model_module": "@jupyter-widgets/controls",
            "_model_module_version": "1.5.0",
            "_model_name": "HTMLModel",
            "_view_count": null,
            "_view_module": "@jupyter-widgets/controls",
            "_view_module_version": "1.5.0",
            "_view_name": "HTMLView",
            "description": "",
            "description_tooltip": null,
            "layout": "IPY_MODEL_2312753655dc4e3e9dfb444f825e528e",
            "placeholder": "​",
            "style": "IPY_MODEL_6da26cccce594194abb8fa2235b84624",
            "value": " 142k/142k [00:00&lt;00:00, 286kB/s]"
          }
        },
        "cc57236f7f8e4d4487a8b5297628ac43": {
          "model_module": "@jupyter-widgets/base",
          "model_module_version": "1.2.0",
          "model_name": "LayoutModel",
          "state": {
            "_model_module": "@jupyter-widgets/base",
            "_model_module_version": "1.2.0",
            "_model_name": "LayoutModel",
            "_view_count": null,
            "_view_module": "@jupyter-widgets/base",
            "_view_module_version": "1.2.0",
            "_view_name": "LayoutView",
            "align_content": null,
            "align_items": null,
            "align_self": null,
            "border": null,
            "bottom": null,
            "display": null,
            "flex": null,
            "flex_flow": null,
            "grid_area": null,
            "grid_auto_columns": null,
            "grid_auto_flow": null,
            "grid_auto_rows": null,
            "grid_column": null,
            "grid_gap": null,
            "grid_row": null,
            "grid_template_areas": null,
            "grid_template_columns": null,
            "grid_template_rows": null,
            "height": null,
            "justify_content": null,
            "justify_items": null,
            "left": null,
            "margin": null,
            "max_height": null,
            "max_width": null,
            "min_height": null,
            "min_width": null,
            "object_fit": null,
            "object_position": null,
            "order": null,
            "overflow": null,
            "overflow_x": null,
            "overflow_y": null,
            "padding": null,
            "right": null,
            "top": null,
            "visibility": null,
            "width": null
          }
        },
        "ce55a463d1ea4ec7b5424449cac350cd": {
          "model_module": "@jupyter-widgets/controls",
          "model_module_version": "1.5.0",
          "model_name": "ProgressStyleModel",
          "state": {
            "_model_module": "@jupyter-widgets/controls",
            "_model_module_version": "1.5.0",
            "_model_name": "ProgressStyleModel",
            "_view_count": null,
            "_view_module": "@jupyter-widgets/base",
            "_view_module_version": "1.2.0",
            "_view_name": "StyleView",
            "bar_color": null,
            "description_width": ""
          }
        },
        "cea2f3880038486d934fba3162820ca9": {
          "model_module": "@jupyter-widgets/controls",
          "model_module_version": "1.5.0",
          "model_name": "DescriptionStyleModel",
          "state": {
            "_model_module": "@jupyter-widgets/controls",
            "_model_module_version": "1.5.0",
            "_model_name": "DescriptionStyleModel",
            "_view_count": null,
            "_view_module": "@jupyter-widgets/base",
            "_view_module_version": "1.2.0",
            "_view_name": "StyleView",
            "description_width": ""
          }
        },
        "cec216e0eb364c4f994fdde9463535a4": {
          "model_module": "@jupyter-widgets/controls",
          "model_module_version": "1.5.0",
          "model_name": "HTMLModel",
          "state": {
            "_dom_classes": [],
            "_model_module": "@jupyter-widgets/controls",
            "_model_module_version": "1.5.0",
            "_model_name": "HTMLModel",
            "_view_count": null,
            "_view_module": "@jupyter-widgets/controls",
            "_view_module_version": "1.5.0",
            "_view_name": "HTMLView",
            "description": "",
            "description_tooltip": null,
            "layout": "IPY_MODEL_94c207bc09fa4fab9291c145810442e8",
            "placeholder": "​",
            "style": "IPY_MODEL_e91ea992c96b4bf196c9b16a000bff98",
            "value": " 108k/108k [00:00&lt;00:00, 256kB/s]"
          }
        },
        "ced06c54bb7f4309914bf1247b738fcc": {
          "model_module": "@jupyter-widgets/base",
          "model_module_version": "1.2.0",
          "model_name": "LayoutModel",
          "state": {
            "_model_module": "@jupyter-widgets/base",
            "_model_module_version": "1.2.0",
            "_model_name": "LayoutModel",
            "_view_count": null,
            "_view_module": "@jupyter-widgets/base",
            "_view_module_version": "1.2.0",
            "_view_name": "LayoutView",
            "align_content": null,
            "align_items": null,
            "align_self": null,
            "border": null,
            "bottom": null,
            "display": null,
            "flex": null,
            "flex_flow": null,
            "grid_area": null,
            "grid_auto_columns": null,
            "grid_auto_flow": null,
            "grid_auto_rows": null,
            "grid_column": null,
            "grid_gap": null,
            "grid_row": null,
            "grid_template_areas": null,
            "grid_template_columns": null,
            "grid_template_rows": null,
            "height": null,
            "justify_content": null,
            "justify_items": null,
            "left": null,
            "margin": null,
            "max_height": null,
            "max_width": null,
            "min_height": null,
            "min_width": null,
            "object_fit": null,
            "object_position": null,
            "order": null,
            "overflow": null,
            "overflow_x": null,
            "overflow_y": null,
            "padding": null,
            "right": null,
            "top": null,
            "visibility": null,
            "width": null
          }
        },
        "d0236566e8904bf098a91d9179e3bc61": {
          "model_module": "@jupyter-widgets/controls",
          "model_module_version": "1.5.0",
          "model_name": "HTMLModel",
          "state": {
            "_dom_classes": [],
            "_model_module": "@jupyter-widgets/controls",
            "_model_module_version": "1.5.0",
            "_model_name": "HTMLModel",
            "_view_count": null,
            "_view_module": "@jupyter-widgets/controls",
            "_view_module_version": "1.5.0",
            "_view_name": "HTMLView",
            "description": "",
            "description_tooltip": null,
            "layout": "IPY_MODEL_1598dd03a51f4a97b00cf04b4c1892fc",
            "placeholder": "​",
            "style": "IPY_MODEL_58e43d781cf64172abdd5451146448b2",
            "value": "Downloading data: 100%"
          }
        },
        "d31202ce75eb4268a10b4e48c19d0fe0": {
          "model_module": "@jupyter-widgets/base",
          "model_module_version": "1.2.0",
          "model_name": "LayoutModel",
          "state": {
            "_model_module": "@jupyter-widgets/base",
            "_model_module_version": "1.2.0",
            "_model_name": "LayoutModel",
            "_view_count": null,
            "_view_module": "@jupyter-widgets/base",
            "_view_module_version": "1.2.0",
            "_view_name": "LayoutView",
            "align_content": null,
            "align_items": null,
            "align_self": null,
            "border": null,
            "bottom": null,
            "display": null,
            "flex": null,
            "flex_flow": null,
            "grid_area": null,
            "grid_auto_columns": null,
            "grid_auto_flow": null,
            "grid_auto_rows": null,
            "grid_column": null,
            "grid_gap": null,
            "grid_row": null,
            "grid_template_areas": null,
            "grid_template_columns": null,
            "grid_template_rows": null,
            "height": null,
            "justify_content": null,
            "justify_items": null,
            "left": null,
            "margin": null,
            "max_height": null,
            "max_width": null,
            "min_height": null,
            "min_width": null,
            "object_fit": null,
            "object_position": null,
            "order": null,
            "overflow": null,
            "overflow_x": null,
            "overflow_y": null,
            "padding": null,
            "right": null,
            "top": null,
            "visibility": null,
            "width": null
          }
        },
        "df3c210ab9794131992140d4100bf451": {
          "model_module": "@jupyter-widgets/controls",
          "model_module_version": "1.5.0",
          "model_name": "FloatProgressModel",
          "state": {
            "_dom_classes": [],
            "_model_module": "@jupyter-widgets/controls",
            "_model_module_version": "1.5.0",
            "_model_name": "FloatProgressModel",
            "_view_count": null,
            "_view_module": "@jupyter-widgets/controls",
            "_view_module_version": "1.5.0",
            "_view_name": "ProgressView",
            "bar_style": "success",
            "description": "",
            "description_tooltip": null,
            "layout": "IPY_MODEL_d31202ce75eb4268a10b4e48c19d0fe0",
            "max": 11354,
            "min": 0,
            "orientation": "horizontal",
            "style": "IPY_MODEL_3bc9f08c27974250b6239021e8d84962",
            "value": 11354
          }
        },
        "e1ab31b7a6bc47e383ac931beac06f6b": {
          "model_module": "@jupyter-widgets/controls",
          "model_module_version": "1.5.0",
          "model_name": "FloatProgressModel",
          "state": {
            "_dom_classes": [],
            "_model_module": "@jupyter-widgets/controls",
            "_model_module_version": "1.5.0",
            "_model_name": "FloatProgressModel",
            "_view_count": null,
            "_view_module": "@jupyter-widgets/controls",
            "_view_module_version": "1.5.0",
            "_view_name": "ProgressView",
            "bar_style": "success",
            "description": "",
            "description_tooltip": null,
            "layout": "IPY_MODEL_eadec0003b894c8ea523ef94328e46b2",
            "max": 1379,
            "min": 0,
            "orientation": "horizontal",
            "style": "IPY_MODEL_a227945246ec4d989c76f928e6142f03",
            "value": 1379
          }
        },
        "e26cd37883124998bef5ba2b874c6a69": {
          "model_module": "@jupyter-widgets/controls",
          "model_module_version": "1.5.0",
          "model_name": "HTMLModel",
          "state": {
            "_dom_classes": [],
            "_model_module": "@jupyter-widgets/controls",
            "_model_module_version": "1.5.0",
            "_model_name": "HTMLModel",
            "_view_count": null,
            "_view_module": "@jupyter-widgets/controls",
            "_view_module_version": "1.5.0",
            "_view_name": "HTMLView",
            "description": "",
            "description_tooltip": null,
            "layout": "IPY_MODEL_46aae8b1398041428ce356dd31a6389e",
            "placeholder": "​",
            "style": "IPY_MODEL_efa54706a0cc47d39ed6475c9dd3980a",
            "value": " 11.4k/11.4k [00:00&lt;00:00, 198kB/s]"
          }
        },
        "e6bc4edfb22a40c7aa6f4d03046f5668": {
          "model_module": "@jupyter-widgets/base",
          "model_module_version": "1.2.0",
          "model_name": "LayoutModel",
          "state": {
            "_model_module": "@jupyter-widgets/base",
            "_model_module_version": "1.2.0",
            "_model_name": "LayoutModel",
            "_view_count": null,
            "_view_module": "@jupyter-widgets/base",
            "_view_module_version": "1.2.0",
            "_view_name": "LayoutView",
            "align_content": null,
            "align_items": null,
            "align_self": null,
            "border": null,
            "bottom": null,
            "display": null,
            "flex": null,
            "flex_flow": null,
            "grid_area": null,
            "grid_auto_columns": null,
            "grid_auto_flow": null,
            "grid_auto_rows": null,
            "grid_column": null,
            "grid_gap": null,
            "grid_row": null,
            "grid_template_areas": null,
            "grid_template_columns": null,
            "grid_template_rows": null,
            "height": null,
            "justify_content": null,
            "justify_items": null,
            "left": null,
            "margin": null,
            "max_height": null,
            "max_width": null,
            "min_height": null,
            "min_width": null,
            "object_fit": null,
            "object_position": null,
            "order": null,
            "overflow": null,
            "overflow_x": null,
            "overflow_y": null,
            "padding": null,
            "right": null,
            "top": null,
            "visibility": null,
            "width": null
          }
        },
        "e81d28d28ae44628b75600b60c0d289d": {
          "model_module": "@jupyter-widgets/base",
          "model_module_version": "1.2.0",
          "model_name": "LayoutModel",
          "state": {
            "_model_module": "@jupyter-widgets/base",
            "_model_module_version": "1.2.0",
            "_model_name": "LayoutModel",
            "_view_count": null,
            "_view_module": "@jupyter-widgets/base",
            "_view_module_version": "1.2.0",
            "_view_name": "LayoutView",
            "align_content": null,
            "align_items": null,
            "align_self": null,
            "border": null,
            "bottom": null,
            "display": null,
            "flex": null,
            "flex_flow": null,
            "grid_area": null,
            "grid_auto_columns": null,
            "grid_auto_flow": null,
            "grid_auto_rows": null,
            "grid_column": null,
            "grid_gap": null,
            "grid_row": null,
            "grid_template_areas": null,
            "grid_template_columns": null,
            "grid_template_rows": null,
            "height": null,
            "justify_content": null,
            "justify_items": null,
            "left": null,
            "margin": null,
            "max_height": null,
            "max_width": null,
            "min_height": null,
            "min_width": null,
            "object_fit": null,
            "object_position": null,
            "order": null,
            "overflow": null,
            "overflow_x": null,
            "overflow_y": null,
            "padding": null,
            "right": null,
            "top": null,
            "visibility": null,
            "width": null
          }
        },
        "e91ea992c96b4bf196c9b16a000bff98": {
          "model_module": "@jupyter-widgets/controls",
          "model_module_version": "1.5.0",
          "model_name": "DescriptionStyleModel",
          "state": {
            "_model_module": "@jupyter-widgets/controls",
            "_model_module_version": "1.5.0",
            "_model_name": "DescriptionStyleModel",
            "_view_count": null,
            "_view_module": "@jupyter-widgets/base",
            "_view_module_version": "1.2.0",
            "_view_name": "StyleView",
            "description_width": ""
          }
        },
        "eadec0003b894c8ea523ef94328e46b2": {
          "model_module": "@jupyter-widgets/base",
          "model_module_version": "1.2.0",
          "model_name": "LayoutModel",
          "state": {
            "_model_module": "@jupyter-widgets/base",
            "_model_module_version": "1.2.0",
            "_model_name": "LayoutModel",
            "_view_count": null,
            "_view_module": "@jupyter-widgets/base",
            "_view_module_version": "1.2.0",
            "_view_name": "LayoutView",
            "align_content": null,
            "align_items": null,
            "align_self": null,
            "border": null,
            "bottom": null,
            "display": null,
            "flex": null,
            "flex_flow": null,
            "grid_area": null,
            "grid_auto_columns": null,
            "grid_auto_flow": null,
            "grid_auto_rows": null,
            "grid_column": null,
            "grid_gap": null,
            "grid_row": null,
            "grid_template_areas": null,
            "grid_template_columns": null,
            "grid_template_rows": null,
            "height": null,
            "justify_content": null,
            "justify_items": null,
            "left": null,
            "margin": null,
            "max_height": null,
            "max_width": null,
            "min_height": null,
            "min_width": null,
            "object_fit": null,
            "object_position": null,
            "order": null,
            "overflow": null,
            "overflow_x": null,
            "overflow_y": null,
            "padding": null,
            "right": null,
            "top": null,
            "visibility": null,
            "width": null
          }
        },
        "eee3747842ba40ea8a63932bf073ee57": {
          "model_module": "@jupyter-widgets/base",
          "model_module_version": "1.2.0",
          "model_name": "LayoutModel",
          "state": {
            "_model_module": "@jupyter-widgets/base",
            "_model_module_version": "1.2.0",
            "_model_name": "LayoutModel",
            "_view_count": null,
            "_view_module": "@jupyter-widgets/base",
            "_view_module_version": "1.2.0",
            "_view_name": "LayoutView",
            "align_content": null,
            "align_items": null,
            "align_self": null,
            "border": null,
            "bottom": null,
            "display": null,
            "flex": null,
            "flex_flow": null,
            "grid_area": null,
            "grid_auto_columns": null,
            "grid_auto_flow": null,
            "grid_auto_rows": null,
            "grid_column": null,
            "grid_gap": null,
            "grid_row": null,
            "grid_template_areas": null,
            "grid_template_columns": null,
            "grid_template_rows": null,
            "height": null,
            "justify_content": null,
            "justify_items": null,
            "left": null,
            "margin": null,
            "max_height": null,
            "max_width": null,
            "min_height": null,
            "min_width": null,
            "object_fit": null,
            "object_position": null,
            "order": null,
            "overflow": null,
            "overflow_x": null,
            "overflow_y": null,
            "padding": null,
            "right": null,
            "top": null,
            "visibility": null,
            "width": null
          }
        },
        "eef664f4400840af8db4ba73059e1c4a": {
          "model_module": "@jupyter-widgets/base",
          "model_module_version": "1.2.0",
          "model_name": "LayoutModel",
          "state": {
            "_model_module": "@jupyter-widgets/base",
            "_model_module_version": "1.2.0",
            "_model_name": "LayoutModel",
            "_view_count": null,
            "_view_module": "@jupyter-widgets/base",
            "_view_module_version": "1.2.0",
            "_view_name": "LayoutView",
            "align_content": null,
            "align_items": null,
            "align_self": null,
            "border": null,
            "bottom": null,
            "display": null,
            "flex": null,
            "flex_flow": null,
            "grid_area": null,
            "grid_auto_columns": null,
            "grid_auto_flow": null,
            "grid_auto_rows": null,
            "grid_column": null,
            "grid_gap": null,
            "grid_row": null,
            "grid_template_areas": null,
            "grid_template_columns": null,
            "grid_template_rows": null,
            "height": null,
            "justify_content": null,
            "justify_items": null,
            "left": null,
            "margin": null,
            "max_height": null,
            "max_width": null,
            "min_height": null,
            "min_width": null,
            "object_fit": null,
            "object_position": null,
            "order": null,
            "overflow": null,
            "overflow_x": null,
            "overflow_y": null,
            "padding": null,
            "right": null,
            "top": null,
            "visibility": null,
            "width": null
          }
        },
        "efa54706a0cc47d39ed6475c9dd3980a": {
          "model_module": "@jupyter-widgets/controls",
          "model_module_version": "1.5.0",
          "model_name": "DescriptionStyleModel",
          "state": {
            "_model_module": "@jupyter-widgets/controls",
            "_model_module_version": "1.5.0",
            "_model_name": "DescriptionStyleModel",
            "_view_count": null,
            "_view_module": "@jupyter-widgets/base",
            "_view_module_version": "1.2.0",
            "_view_name": "StyleView",
            "description_width": ""
          }
        },
        "f527fdf5a09d45e9a737c335d2481296": {
          "model_module": "@jupyter-widgets/controls",
          "model_module_version": "1.5.0",
          "model_name": "HBoxModel",
          "state": {
            "_dom_classes": [],
            "_model_module": "@jupyter-widgets/controls",
            "_model_module_version": "1.5.0",
            "_model_name": "HBoxModel",
            "_view_count": null,
            "_view_module": "@jupyter-widgets/controls",
            "_view_module_version": "1.5.0",
            "_view_name": "HBoxView",
            "box_style": "",
            "children": [
              "IPY_MODEL_76c9f943d8754c11811eb3f7b93a3237",
              "IPY_MODEL_6ff28dd678924f5c9842603094ecf56b",
              "IPY_MODEL_a511cc685e264eebb9bffe33b1270da7"
            ],
            "layout": "IPY_MODEL_2e5bfd14a28443419544e11e707b6491"
          }
        },
        "f8d307d12fc24928b0b1eb0c60bad386": {
          "model_module": "@jupyter-widgets/controls",
          "model_module_version": "1.5.0",
          "model_name": "HBoxModel",
          "state": {
            "_dom_classes": [],
            "_model_module": "@jupyter-widgets/controls",
            "_model_module_version": "1.5.0",
            "_model_name": "HBoxModel",
            "_view_count": null,
            "_view_module": "@jupyter-widgets/controls",
            "_view_module_version": "1.5.0",
            "_view_name": "HBoxView",
            "box_style": "",
            "children": [
              "IPY_MODEL_6101ae87a74e4ca4aeda15dcbda41c7b",
              "IPY_MODEL_412450f71feb41ac843fe63307ae8875",
              "IPY_MODEL_944332e03d8247d2be0d9af7ba861f01"
            ],
            "layout": "IPY_MODEL_3394748e21694ee587467dfd8d734f60"
          }
        }
      }
    }
  },
  "nbformat": 4,
  "nbformat_minor": 0
}
